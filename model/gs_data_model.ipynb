{
  "nbformat": 4,
  "nbformat_minor": 0,
  "metadata": {
    "colab": {
      "provenance": []
    },
    "kernelspec": {
      "name": "python3",
      "display_name": "Python 3"
    },
    "language_info": {
      "name": "python"
    },
    "widgets": {
      "application/vnd.jupyter.widget-state+json": {
        "8605c7e9400f45f29e1abee549b71a69": {
          "model_module": "@jupyter-widgets/controls",
          "model_name": "HBoxModel",
          "model_module_version": "1.5.0",
          "state": {
            "_dom_classes": [],
            "_model_module": "@jupyter-widgets/controls",
            "_model_module_version": "1.5.0",
            "_model_name": "HBoxModel",
            "_view_count": null,
            "_view_module": "@jupyter-widgets/controls",
            "_view_module_version": "1.5.0",
            "_view_name": "HBoxView",
            "box_style": "",
            "children": [
              "IPY_MODEL_3d7f41c5c2c9457791c33b140788a2e3",
              "IPY_MODEL_bd0799d2f16f4ff3870a59fd68356ac9",
              "IPY_MODEL_c5c7f05915524aa090a684d846647c07"
            ],
            "layout": "IPY_MODEL_7355b421bff147f3aac297c8231d554b"
          }
        },
        "3d7f41c5c2c9457791c33b140788a2e3": {
          "model_module": "@jupyter-widgets/controls",
          "model_name": "HTMLModel",
          "model_module_version": "1.5.0",
          "state": {
            "_dom_classes": [],
            "_model_module": "@jupyter-widgets/controls",
            "_model_module_version": "1.5.0",
            "_model_name": "HTMLModel",
            "_view_count": null,
            "_view_module": "@jupyter-widgets/controls",
            "_view_module_version": "1.5.0",
            "_view_name": "HTMLView",
            "description": "",
            "description_tooltip": null,
            "layout": "IPY_MODEL_1a0fc9dd36f348619c704ff22d98ceb0",
            "placeholder": "​",
            "style": "IPY_MODEL_abdf8afa6c9747fb99ce94f458c8a32e",
            "value": "Processing: 100%"
          }
        },
        "bd0799d2f16f4ff3870a59fd68356ac9": {
          "model_module": "@jupyter-widgets/controls",
          "model_name": "FloatProgressModel",
          "model_module_version": "1.5.0",
          "state": {
            "_dom_classes": [],
            "_model_module": "@jupyter-widgets/controls",
            "_model_module_version": "1.5.0",
            "_model_name": "FloatProgressModel",
            "_view_count": null,
            "_view_module": "@jupyter-widgets/controls",
            "_view_module_version": "1.5.0",
            "_view_name": "ProgressView",
            "bar_style": "",
            "description": "",
            "description_tooltip": null,
            "layout": "IPY_MODEL_3481297b94b04e53a423472baf6d3b4b",
            "max": 81,
            "min": 0,
            "orientation": "horizontal",
            "style": "IPY_MODEL_e7c8aaa4fc054d049ebf4270cbc0cc8b",
            "value": 81
          }
        },
        "c5c7f05915524aa090a684d846647c07": {
          "model_module": "@jupyter-widgets/controls",
          "model_name": "HTMLModel",
          "model_module_version": "1.5.0",
          "state": {
            "_dom_classes": [],
            "_model_module": "@jupyter-widgets/controls",
            "_model_module_version": "1.5.0",
            "_model_name": "HTMLModel",
            "_view_count": null,
            "_view_module": "@jupyter-widgets/controls",
            "_view_module_version": "1.5.0",
            "_view_name": "HTMLView",
            "description": "",
            "description_tooltip": null,
            "layout": "IPY_MODEL_e68a8d93f5034e92bd487d298767e061",
            "placeholder": "​",
            "style": "IPY_MODEL_e8d485ed36e74d82b3d2f947be8cd38f",
            "value": " 81/81 [2:02:37&lt;00:00, 24.20s/it]"
          }
        },
        "7355b421bff147f3aac297c8231d554b": {
          "model_module": "@jupyter-widgets/base",
          "model_name": "LayoutModel",
          "model_module_version": "1.2.0",
          "state": {
            "_model_module": "@jupyter-widgets/base",
            "_model_module_version": "1.2.0",
            "_model_name": "LayoutModel",
            "_view_count": null,
            "_view_module": "@jupyter-widgets/base",
            "_view_module_version": "1.2.0",
            "_view_name": "LayoutView",
            "align_content": null,
            "align_items": null,
            "align_self": null,
            "border": null,
            "bottom": null,
            "display": null,
            "flex": null,
            "flex_flow": null,
            "grid_area": null,
            "grid_auto_columns": null,
            "grid_auto_flow": null,
            "grid_auto_rows": null,
            "grid_column": null,
            "grid_gap": null,
            "grid_row": null,
            "grid_template_areas": null,
            "grid_template_columns": null,
            "grid_template_rows": null,
            "height": null,
            "justify_content": null,
            "justify_items": null,
            "left": null,
            "margin": null,
            "max_height": null,
            "max_width": null,
            "min_height": null,
            "min_width": null,
            "object_fit": null,
            "object_position": null,
            "order": null,
            "overflow": null,
            "overflow_x": null,
            "overflow_y": null,
            "padding": null,
            "right": null,
            "top": null,
            "visibility": "hidden",
            "width": null
          }
        },
        "1a0fc9dd36f348619c704ff22d98ceb0": {
          "model_module": "@jupyter-widgets/base",
          "model_name": "LayoutModel",
          "model_module_version": "1.2.0",
          "state": {
            "_model_module": "@jupyter-widgets/base",
            "_model_module_version": "1.2.0",
            "_model_name": "LayoutModel",
            "_view_count": null,
            "_view_module": "@jupyter-widgets/base",
            "_view_module_version": "1.2.0",
            "_view_name": "LayoutView",
            "align_content": null,
            "align_items": null,
            "align_self": null,
            "border": null,
            "bottom": null,
            "display": null,
            "flex": null,
            "flex_flow": null,
            "grid_area": null,
            "grid_auto_columns": null,
            "grid_auto_flow": null,
            "grid_auto_rows": null,
            "grid_column": null,
            "grid_gap": null,
            "grid_row": null,
            "grid_template_areas": null,
            "grid_template_columns": null,
            "grid_template_rows": null,
            "height": null,
            "justify_content": null,
            "justify_items": null,
            "left": null,
            "margin": null,
            "max_height": null,
            "max_width": null,
            "min_height": null,
            "min_width": null,
            "object_fit": null,
            "object_position": null,
            "order": null,
            "overflow": null,
            "overflow_x": null,
            "overflow_y": null,
            "padding": null,
            "right": null,
            "top": null,
            "visibility": null,
            "width": null
          }
        },
        "abdf8afa6c9747fb99ce94f458c8a32e": {
          "model_module": "@jupyter-widgets/controls",
          "model_name": "DescriptionStyleModel",
          "model_module_version": "1.5.0",
          "state": {
            "_model_module": "@jupyter-widgets/controls",
            "_model_module_version": "1.5.0",
            "_model_name": "DescriptionStyleModel",
            "_view_count": null,
            "_view_module": "@jupyter-widgets/base",
            "_view_module_version": "1.2.0",
            "_view_name": "StyleView",
            "description_width": ""
          }
        },
        "3481297b94b04e53a423472baf6d3b4b": {
          "model_module": "@jupyter-widgets/base",
          "model_name": "LayoutModel",
          "model_module_version": "1.2.0",
          "state": {
            "_model_module": "@jupyter-widgets/base",
            "_model_module_version": "1.2.0",
            "_model_name": "LayoutModel",
            "_view_count": null,
            "_view_module": "@jupyter-widgets/base",
            "_view_module_version": "1.2.0",
            "_view_name": "LayoutView",
            "align_content": null,
            "align_items": null,
            "align_self": null,
            "border": null,
            "bottom": null,
            "display": null,
            "flex": null,
            "flex_flow": null,
            "grid_area": null,
            "grid_auto_columns": null,
            "grid_auto_flow": null,
            "grid_auto_rows": null,
            "grid_column": null,
            "grid_gap": null,
            "grid_row": null,
            "grid_template_areas": null,
            "grid_template_columns": null,
            "grid_template_rows": null,
            "height": null,
            "justify_content": null,
            "justify_items": null,
            "left": null,
            "margin": null,
            "max_height": null,
            "max_width": null,
            "min_height": null,
            "min_width": null,
            "object_fit": null,
            "object_position": null,
            "order": null,
            "overflow": null,
            "overflow_x": null,
            "overflow_y": null,
            "padding": null,
            "right": null,
            "top": null,
            "visibility": null,
            "width": null
          }
        },
        "e7c8aaa4fc054d049ebf4270cbc0cc8b": {
          "model_module": "@jupyter-widgets/controls",
          "model_name": "ProgressStyleModel",
          "model_module_version": "1.5.0",
          "state": {
            "_model_module": "@jupyter-widgets/controls",
            "_model_module_version": "1.5.0",
            "_model_name": "ProgressStyleModel",
            "_view_count": null,
            "_view_module": "@jupyter-widgets/base",
            "_view_module_version": "1.2.0",
            "_view_name": "StyleView",
            "bar_color": null,
            "description_width": ""
          }
        },
        "e68a8d93f5034e92bd487d298767e061": {
          "model_module": "@jupyter-widgets/base",
          "model_name": "LayoutModel",
          "model_module_version": "1.2.0",
          "state": {
            "_model_module": "@jupyter-widgets/base",
            "_model_module_version": "1.2.0",
            "_model_name": "LayoutModel",
            "_view_count": null,
            "_view_module": "@jupyter-widgets/base",
            "_view_module_version": "1.2.0",
            "_view_name": "LayoutView",
            "align_content": null,
            "align_items": null,
            "align_self": null,
            "border": null,
            "bottom": null,
            "display": null,
            "flex": null,
            "flex_flow": null,
            "grid_area": null,
            "grid_auto_columns": null,
            "grid_auto_flow": null,
            "grid_auto_rows": null,
            "grid_column": null,
            "grid_gap": null,
            "grid_row": null,
            "grid_template_areas": null,
            "grid_template_columns": null,
            "grid_template_rows": null,
            "height": null,
            "justify_content": null,
            "justify_items": null,
            "left": null,
            "margin": null,
            "max_height": null,
            "max_width": null,
            "min_height": null,
            "min_width": null,
            "object_fit": null,
            "object_position": null,
            "order": null,
            "overflow": null,
            "overflow_x": null,
            "overflow_y": null,
            "padding": null,
            "right": null,
            "top": null,
            "visibility": null,
            "width": null
          }
        },
        "e8d485ed36e74d82b3d2f947be8cd38f": {
          "model_module": "@jupyter-widgets/controls",
          "model_name": "DescriptionStyleModel",
          "model_module_version": "1.5.0",
          "state": {
            "_model_module": "@jupyter-widgets/controls",
            "_model_module_version": "1.5.0",
            "_model_name": "DescriptionStyleModel",
            "_view_count": null,
            "_view_module": "@jupyter-widgets/base",
            "_view_module_version": "1.2.0",
            "_view_name": "StyleView",
            "description_width": ""
          }
        },
        "936dcd88f3fc4c7b93e9460a71109f7e": {
          "model_module": "@jupyter-widgets/controls",
          "model_name": "HBoxModel",
          "model_module_version": "1.5.0",
          "state": {
            "_dom_classes": [],
            "_model_module": "@jupyter-widgets/controls",
            "_model_module_version": "1.5.0",
            "_model_name": "HBoxModel",
            "_view_count": null,
            "_view_module": "@jupyter-widgets/controls",
            "_view_module_version": "1.5.0",
            "_view_name": "HBoxView",
            "box_style": "",
            "children": [
              "IPY_MODEL_29ceaf343f7c4cde899552dfdfff0e3b",
              "IPY_MODEL_2cfd615807ba4fc0b18eafbb2607fae2",
              "IPY_MODEL_72214634fa4f4da5bb9cc46103c753f4"
            ],
            "layout": "IPY_MODEL_e45591e325af4de19462957bc49140f5"
          }
        },
        "29ceaf343f7c4cde899552dfdfff0e3b": {
          "model_module": "@jupyter-widgets/controls",
          "model_name": "HTMLModel",
          "model_module_version": "1.5.0",
          "state": {
            "_dom_classes": [],
            "_model_module": "@jupyter-widgets/controls",
            "_model_module_version": "1.5.0",
            "_model_name": "HTMLModel",
            "_view_count": null,
            "_view_module": "@jupyter-widgets/controls",
            "_view_module_version": "1.5.0",
            "_view_name": "HTMLView",
            "description": "",
            "description_tooltip": null,
            "layout": "IPY_MODEL_0f3f0f2b5bdc42fca0f4002c9668e156",
            "placeholder": "​",
            "style": "IPY_MODEL_9212f709d6d3471c99ded0773d551c9f",
            "value": "Processing: 100%"
          }
        },
        "2cfd615807ba4fc0b18eafbb2607fae2": {
          "model_module": "@jupyter-widgets/controls",
          "model_name": "FloatProgressModel",
          "model_module_version": "1.5.0",
          "state": {
            "_dom_classes": [],
            "_model_module": "@jupyter-widgets/controls",
            "_model_module_version": "1.5.0",
            "_model_name": "FloatProgressModel",
            "_view_count": null,
            "_view_module": "@jupyter-widgets/controls",
            "_view_module_version": "1.5.0",
            "_view_name": "ProgressView",
            "bar_style": "",
            "description": "",
            "description_tooltip": null,
            "layout": "IPY_MODEL_4ec480454c5149d98ccbb4e0106e3af7",
            "max": 4,
            "min": 0,
            "orientation": "horizontal",
            "style": "IPY_MODEL_b02b83d011f341be909954bade9592e7",
            "value": 4
          }
        },
        "72214634fa4f4da5bb9cc46103c753f4": {
          "model_module": "@jupyter-widgets/controls",
          "model_name": "HTMLModel",
          "model_module_version": "1.5.0",
          "state": {
            "_dom_classes": [],
            "_model_module": "@jupyter-widgets/controls",
            "_model_module_version": "1.5.0",
            "_model_name": "HTMLModel",
            "_view_count": null,
            "_view_module": "@jupyter-widgets/controls",
            "_view_module_version": "1.5.0",
            "_view_name": "HTMLView",
            "description": "",
            "description_tooltip": null,
            "layout": "IPY_MODEL_2a4e97083e4849749c6be69bc5d334e5",
            "placeholder": "​",
            "style": "IPY_MODEL_b7e41b2489dd49dc96c0356c58a61baf",
            "value": " 4/4 [00:23&lt;00:00,  5.56s/it]"
          }
        },
        "e45591e325af4de19462957bc49140f5": {
          "model_module": "@jupyter-widgets/base",
          "model_name": "LayoutModel",
          "model_module_version": "1.2.0",
          "state": {
            "_model_module": "@jupyter-widgets/base",
            "_model_module_version": "1.2.0",
            "_model_name": "LayoutModel",
            "_view_count": null,
            "_view_module": "@jupyter-widgets/base",
            "_view_module_version": "1.2.0",
            "_view_name": "LayoutView",
            "align_content": null,
            "align_items": null,
            "align_self": null,
            "border": null,
            "bottom": null,
            "display": null,
            "flex": null,
            "flex_flow": null,
            "grid_area": null,
            "grid_auto_columns": null,
            "grid_auto_flow": null,
            "grid_auto_rows": null,
            "grid_column": null,
            "grid_gap": null,
            "grid_row": null,
            "grid_template_areas": null,
            "grid_template_columns": null,
            "grid_template_rows": null,
            "height": null,
            "justify_content": null,
            "justify_items": null,
            "left": null,
            "margin": null,
            "max_height": null,
            "max_width": null,
            "min_height": null,
            "min_width": null,
            "object_fit": null,
            "object_position": null,
            "order": null,
            "overflow": null,
            "overflow_x": null,
            "overflow_y": null,
            "padding": null,
            "right": null,
            "top": null,
            "visibility": "hidden",
            "width": null
          }
        },
        "0f3f0f2b5bdc42fca0f4002c9668e156": {
          "model_module": "@jupyter-widgets/base",
          "model_name": "LayoutModel",
          "model_module_version": "1.2.0",
          "state": {
            "_model_module": "@jupyter-widgets/base",
            "_model_module_version": "1.2.0",
            "_model_name": "LayoutModel",
            "_view_count": null,
            "_view_module": "@jupyter-widgets/base",
            "_view_module_version": "1.2.0",
            "_view_name": "LayoutView",
            "align_content": null,
            "align_items": null,
            "align_self": null,
            "border": null,
            "bottom": null,
            "display": null,
            "flex": null,
            "flex_flow": null,
            "grid_area": null,
            "grid_auto_columns": null,
            "grid_auto_flow": null,
            "grid_auto_rows": null,
            "grid_column": null,
            "grid_gap": null,
            "grid_row": null,
            "grid_template_areas": null,
            "grid_template_columns": null,
            "grid_template_rows": null,
            "height": null,
            "justify_content": null,
            "justify_items": null,
            "left": null,
            "margin": null,
            "max_height": null,
            "max_width": null,
            "min_height": null,
            "min_width": null,
            "object_fit": null,
            "object_position": null,
            "order": null,
            "overflow": null,
            "overflow_x": null,
            "overflow_y": null,
            "padding": null,
            "right": null,
            "top": null,
            "visibility": null,
            "width": null
          }
        },
        "9212f709d6d3471c99ded0773d551c9f": {
          "model_module": "@jupyter-widgets/controls",
          "model_name": "DescriptionStyleModel",
          "model_module_version": "1.5.0",
          "state": {
            "_model_module": "@jupyter-widgets/controls",
            "_model_module_version": "1.5.0",
            "_model_name": "DescriptionStyleModel",
            "_view_count": null,
            "_view_module": "@jupyter-widgets/base",
            "_view_module_version": "1.2.0",
            "_view_name": "StyleView",
            "description_width": ""
          }
        },
        "4ec480454c5149d98ccbb4e0106e3af7": {
          "model_module": "@jupyter-widgets/base",
          "model_name": "LayoutModel",
          "model_module_version": "1.2.0",
          "state": {
            "_model_module": "@jupyter-widgets/base",
            "_model_module_version": "1.2.0",
            "_model_name": "LayoutModel",
            "_view_count": null,
            "_view_module": "@jupyter-widgets/base",
            "_view_module_version": "1.2.0",
            "_view_name": "LayoutView",
            "align_content": null,
            "align_items": null,
            "align_self": null,
            "border": null,
            "bottom": null,
            "display": null,
            "flex": null,
            "flex_flow": null,
            "grid_area": null,
            "grid_auto_columns": null,
            "grid_auto_flow": null,
            "grid_auto_rows": null,
            "grid_column": null,
            "grid_gap": null,
            "grid_row": null,
            "grid_template_areas": null,
            "grid_template_columns": null,
            "grid_template_rows": null,
            "height": null,
            "justify_content": null,
            "justify_items": null,
            "left": null,
            "margin": null,
            "max_height": null,
            "max_width": null,
            "min_height": null,
            "min_width": null,
            "object_fit": null,
            "object_position": null,
            "order": null,
            "overflow": null,
            "overflow_x": null,
            "overflow_y": null,
            "padding": null,
            "right": null,
            "top": null,
            "visibility": null,
            "width": null
          }
        },
        "b02b83d011f341be909954bade9592e7": {
          "model_module": "@jupyter-widgets/controls",
          "model_name": "ProgressStyleModel",
          "model_module_version": "1.5.0",
          "state": {
            "_model_module": "@jupyter-widgets/controls",
            "_model_module_version": "1.5.0",
            "_model_name": "ProgressStyleModel",
            "_view_count": null,
            "_view_module": "@jupyter-widgets/base",
            "_view_module_version": "1.2.0",
            "_view_name": "StyleView",
            "bar_color": null,
            "description_width": ""
          }
        },
        "2a4e97083e4849749c6be69bc5d334e5": {
          "model_module": "@jupyter-widgets/base",
          "model_name": "LayoutModel",
          "model_module_version": "1.2.0",
          "state": {
            "_model_module": "@jupyter-widgets/base",
            "_model_module_version": "1.2.0",
            "_model_name": "LayoutModel",
            "_view_count": null,
            "_view_module": "@jupyter-widgets/base",
            "_view_module_version": "1.2.0",
            "_view_name": "LayoutView",
            "align_content": null,
            "align_items": null,
            "align_self": null,
            "border": null,
            "bottom": null,
            "display": null,
            "flex": null,
            "flex_flow": null,
            "grid_area": null,
            "grid_auto_columns": null,
            "grid_auto_flow": null,
            "grid_auto_rows": null,
            "grid_column": null,
            "grid_gap": null,
            "grid_row": null,
            "grid_template_areas": null,
            "grid_template_columns": null,
            "grid_template_rows": null,
            "height": null,
            "justify_content": null,
            "justify_items": null,
            "left": null,
            "margin": null,
            "max_height": null,
            "max_width": null,
            "min_height": null,
            "min_width": null,
            "object_fit": null,
            "object_position": null,
            "order": null,
            "overflow": null,
            "overflow_x": null,
            "overflow_y": null,
            "padding": null,
            "right": null,
            "top": null,
            "visibility": null,
            "width": null
          }
        },
        "b7e41b2489dd49dc96c0356c58a61baf": {
          "model_module": "@jupyter-widgets/controls",
          "model_name": "DescriptionStyleModel",
          "model_module_version": "1.5.0",
          "state": {
            "_model_module": "@jupyter-widgets/controls",
            "_model_module_version": "1.5.0",
            "_model_name": "DescriptionStyleModel",
            "_view_count": null,
            "_view_module": "@jupyter-widgets/base",
            "_view_module_version": "1.2.0",
            "_view_name": "StyleView",
            "description_width": ""
          }
        },
        "2679360256954042b4b18d7f2e50168a": {
          "model_module": "@jupyter-widgets/controls",
          "model_name": "HBoxModel",
          "model_module_version": "1.5.0",
          "state": {
            "_dom_classes": [],
            "_model_module": "@jupyter-widgets/controls",
            "_model_module_version": "1.5.0",
            "_model_name": "HBoxModel",
            "_view_count": null,
            "_view_module": "@jupyter-widgets/controls",
            "_view_module_version": "1.5.0",
            "_view_name": "HBoxView",
            "box_style": "",
            "children": [
              "IPY_MODEL_c938fcc06bcc4e2ca8fc18563e40d520",
              "IPY_MODEL_5ff02b98186147a29f77216d482b1d18",
              "IPY_MODEL_ccfc514410de43139f6b68908486ef06"
            ],
            "layout": "IPY_MODEL_5c61430a975842f49a0e370e2b4399be"
          }
        },
        "c938fcc06bcc4e2ca8fc18563e40d520": {
          "model_module": "@jupyter-widgets/controls",
          "model_name": "HTMLModel",
          "model_module_version": "1.5.0",
          "state": {
            "_dom_classes": [],
            "_model_module": "@jupyter-widgets/controls",
            "_model_module_version": "1.5.0",
            "_model_name": "HTMLModel",
            "_view_count": null,
            "_view_module": "@jupyter-widgets/controls",
            "_view_module_version": "1.5.0",
            "_view_name": "HTMLView",
            "description": "",
            "description_tooltip": null,
            "layout": "IPY_MODEL_e95a1e1194b642b998ccaae9fe75ec7f",
            "placeholder": "​",
            "style": "IPY_MODEL_399dee9b604a45ba952e00abfcbec893",
            "value": "Processing: 100%"
          }
        },
        "5ff02b98186147a29f77216d482b1d18": {
          "model_module": "@jupyter-widgets/controls",
          "model_name": "FloatProgressModel",
          "model_module_version": "1.5.0",
          "state": {
            "_dom_classes": [],
            "_model_module": "@jupyter-widgets/controls",
            "_model_module_version": "1.5.0",
            "_model_name": "FloatProgressModel",
            "_view_count": null,
            "_view_module": "@jupyter-widgets/controls",
            "_view_module_version": "1.5.0",
            "_view_name": "ProgressView",
            "bar_style": "",
            "description": "",
            "description_tooltip": null,
            "layout": "IPY_MODEL_cd8ebc12cfd34e399db53cc2d0d2a609",
            "max": 7,
            "min": 0,
            "orientation": "horizontal",
            "style": "IPY_MODEL_d89e2df924bf4816bcb5a9ee76377b7f",
            "value": 7
          }
        },
        "ccfc514410de43139f6b68908486ef06": {
          "model_module": "@jupyter-widgets/controls",
          "model_name": "HTMLModel",
          "model_module_version": "1.5.0",
          "state": {
            "_dom_classes": [],
            "_model_module": "@jupyter-widgets/controls",
            "_model_module_version": "1.5.0",
            "_model_name": "HTMLModel",
            "_view_count": null,
            "_view_module": "@jupyter-widgets/controls",
            "_view_module_version": "1.5.0",
            "_view_name": "HTMLView",
            "description": "",
            "description_tooltip": null,
            "layout": "IPY_MODEL_e2b9d25cceec4e63a9d38a7c308aa0be",
            "placeholder": "​",
            "style": "IPY_MODEL_ce47e55c7a71461b93b7f31d139871ce",
            "value": " 7/7 [09:53&lt;00:00, 55.98s/it]"
          }
        },
        "5c61430a975842f49a0e370e2b4399be": {
          "model_module": "@jupyter-widgets/base",
          "model_name": "LayoutModel",
          "model_module_version": "1.2.0",
          "state": {
            "_model_module": "@jupyter-widgets/base",
            "_model_module_version": "1.2.0",
            "_model_name": "LayoutModel",
            "_view_count": null,
            "_view_module": "@jupyter-widgets/base",
            "_view_module_version": "1.2.0",
            "_view_name": "LayoutView",
            "align_content": null,
            "align_items": null,
            "align_self": null,
            "border": null,
            "bottom": null,
            "display": null,
            "flex": null,
            "flex_flow": null,
            "grid_area": null,
            "grid_auto_columns": null,
            "grid_auto_flow": null,
            "grid_auto_rows": null,
            "grid_column": null,
            "grid_gap": null,
            "grid_row": null,
            "grid_template_areas": null,
            "grid_template_columns": null,
            "grid_template_rows": null,
            "height": null,
            "justify_content": null,
            "justify_items": null,
            "left": null,
            "margin": null,
            "max_height": null,
            "max_width": null,
            "min_height": null,
            "min_width": null,
            "object_fit": null,
            "object_position": null,
            "order": null,
            "overflow": null,
            "overflow_x": null,
            "overflow_y": null,
            "padding": null,
            "right": null,
            "top": null,
            "visibility": "hidden",
            "width": null
          }
        },
        "e95a1e1194b642b998ccaae9fe75ec7f": {
          "model_module": "@jupyter-widgets/base",
          "model_name": "LayoutModel",
          "model_module_version": "1.2.0",
          "state": {
            "_model_module": "@jupyter-widgets/base",
            "_model_module_version": "1.2.0",
            "_model_name": "LayoutModel",
            "_view_count": null,
            "_view_module": "@jupyter-widgets/base",
            "_view_module_version": "1.2.0",
            "_view_name": "LayoutView",
            "align_content": null,
            "align_items": null,
            "align_self": null,
            "border": null,
            "bottom": null,
            "display": null,
            "flex": null,
            "flex_flow": null,
            "grid_area": null,
            "grid_auto_columns": null,
            "grid_auto_flow": null,
            "grid_auto_rows": null,
            "grid_column": null,
            "grid_gap": null,
            "grid_row": null,
            "grid_template_areas": null,
            "grid_template_columns": null,
            "grid_template_rows": null,
            "height": null,
            "justify_content": null,
            "justify_items": null,
            "left": null,
            "margin": null,
            "max_height": null,
            "max_width": null,
            "min_height": null,
            "min_width": null,
            "object_fit": null,
            "object_position": null,
            "order": null,
            "overflow": null,
            "overflow_x": null,
            "overflow_y": null,
            "padding": null,
            "right": null,
            "top": null,
            "visibility": null,
            "width": null
          }
        },
        "399dee9b604a45ba952e00abfcbec893": {
          "model_module": "@jupyter-widgets/controls",
          "model_name": "DescriptionStyleModel",
          "model_module_version": "1.5.0",
          "state": {
            "_model_module": "@jupyter-widgets/controls",
            "_model_module_version": "1.5.0",
            "_model_name": "DescriptionStyleModel",
            "_view_count": null,
            "_view_module": "@jupyter-widgets/base",
            "_view_module_version": "1.2.0",
            "_view_name": "StyleView",
            "description_width": ""
          }
        },
        "cd8ebc12cfd34e399db53cc2d0d2a609": {
          "model_module": "@jupyter-widgets/base",
          "model_name": "LayoutModel",
          "model_module_version": "1.2.0",
          "state": {
            "_model_module": "@jupyter-widgets/base",
            "_model_module_version": "1.2.0",
            "_model_name": "LayoutModel",
            "_view_count": null,
            "_view_module": "@jupyter-widgets/base",
            "_view_module_version": "1.2.0",
            "_view_name": "LayoutView",
            "align_content": null,
            "align_items": null,
            "align_self": null,
            "border": null,
            "bottom": null,
            "display": null,
            "flex": null,
            "flex_flow": null,
            "grid_area": null,
            "grid_auto_columns": null,
            "grid_auto_flow": null,
            "grid_auto_rows": null,
            "grid_column": null,
            "grid_gap": null,
            "grid_row": null,
            "grid_template_areas": null,
            "grid_template_columns": null,
            "grid_template_rows": null,
            "height": null,
            "justify_content": null,
            "justify_items": null,
            "left": null,
            "margin": null,
            "max_height": null,
            "max_width": null,
            "min_height": null,
            "min_width": null,
            "object_fit": null,
            "object_position": null,
            "order": null,
            "overflow": null,
            "overflow_x": null,
            "overflow_y": null,
            "padding": null,
            "right": null,
            "top": null,
            "visibility": null,
            "width": null
          }
        },
        "d89e2df924bf4816bcb5a9ee76377b7f": {
          "model_module": "@jupyter-widgets/controls",
          "model_name": "ProgressStyleModel",
          "model_module_version": "1.5.0",
          "state": {
            "_model_module": "@jupyter-widgets/controls",
            "_model_module_version": "1.5.0",
            "_model_name": "ProgressStyleModel",
            "_view_count": null,
            "_view_module": "@jupyter-widgets/base",
            "_view_module_version": "1.2.0",
            "_view_name": "StyleView",
            "bar_color": null,
            "description_width": ""
          }
        },
        "e2b9d25cceec4e63a9d38a7c308aa0be": {
          "model_module": "@jupyter-widgets/base",
          "model_name": "LayoutModel",
          "model_module_version": "1.2.0",
          "state": {
            "_model_module": "@jupyter-widgets/base",
            "_model_module_version": "1.2.0",
            "_model_name": "LayoutModel",
            "_view_count": null,
            "_view_module": "@jupyter-widgets/base",
            "_view_module_version": "1.2.0",
            "_view_name": "LayoutView",
            "align_content": null,
            "align_items": null,
            "align_self": null,
            "border": null,
            "bottom": null,
            "display": null,
            "flex": null,
            "flex_flow": null,
            "grid_area": null,
            "grid_auto_columns": null,
            "grid_auto_flow": null,
            "grid_auto_rows": null,
            "grid_column": null,
            "grid_gap": null,
            "grid_row": null,
            "grid_template_areas": null,
            "grid_template_columns": null,
            "grid_template_rows": null,
            "height": null,
            "justify_content": null,
            "justify_items": null,
            "left": null,
            "margin": null,
            "max_height": null,
            "max_width": null,
            "min_height": null,
            "min_width": null,
            "object_fit": null,
            "object_position": null,
            "order": null,
            "overflow": null,
            "overflow_x": null,
            "overflow_y": null,
            "padding": null,
            "right": null,
            "top": null,
            "visibility": null,
            "width": null
          }
        },
        "ce47e55c7a71461b93b7f31d139871ce": {
          "model_module": "@jupyter-widgets/controls",
          "model_name": "DescriptionStyleModel",
          "model_module_version": "1.5.0",
          "state": {
            "_model_module": "@jupyter-widgets/controls",
            "_model_module_version": "1.5.0",
            "_model_name": "DescriptionStyleModel",
            "_view_count": null,
            "_view_module": "@jupyter-widgets/base",
            "_view_module_version": "1.2.0",
            "_view_name": "StyleView",
            "description_width": ""
          }
        }
      }
    }
  },
  "cells": [
    {
      "cell_type": "code",
      "execution_count": 108,
      "metadata": {
        "id": "NZLt23OXTLpC",
        "colab": {
          "base_uri": "https://localhost:8080/"
        },
        "outputId": "c5427df4-570f-41b3-9c6a-7d0d553a5f4a"
      },
      "outputs": [
        {
          "output_type": "stream",
          "name": "stdout",
          "text": [
            "Looking in indexes: https://pypi.org/simple, https://us-python.pkg.dev/colab-wheels/public/simple/\n",
            "Requirement already satisfied: pycaret in /usr/local/lib/python3.10/dist-packages (3.0.2)\n",
            "Requirement already satisfied: ipython>=5.5.0 in /usr/local/lib/python3.10/dist-packages (from pycaret) (7.34.0)\n",
            "Requirement already satisfied: ipywidgets>=7.6.5 in /usr/local/lib/python3.10/dist-packages (from pycaret) (7.7.1)\n",
            "Requirement already satisfied: tqdm>=4.62.0 in /usr/local/lib/python3.10/dist-packages (from pycaret) (4.65.0)\n",
            "Requirement already satisfied: numpy<1.24,>=1.21 in /usr/local/lib/python3.10/dist-packages (from pycaret) (1.22.4)\n",
            "Requirement already satisfied: pandas<2.0.0,>=1.3.0 in /usr/local/lib/python3.10/dist-packages (from pycaret) (1.5.3)\n",
            "Requirement already satisfied: jinja2>=1.2 in /usr/local/lib/python3.10/dist-packages (from pycaret) (3.1.2)\n",
            "Requirement already satisfied: scipy<2.0.0 in /usr/local/lib/python3.10/dist-packages (from pycaret) (1.10.1)\n",
            "Requirement already satisfied: joblib>=1.2.0 in /usr/local/lib/python3.10/dist-packages (from pycaret) (1.2.0)\n",
            "Requirement already satisfied: scikit-learn>=1.0 in /usr/local/lib/python3.10/dist-packages (from pycaret) (1.2.2)\n",
            "Requirement already satisfied: pyod>=1.0.8 in /usr/local/lib/python3.10/dist-packages (from pycaret) (1.0.9)\n",
            "Requirement already satisfied: imbalanced-learn>=0.8.1 in /usr/local/lib/python3.10/dist-packages (from pycaret) (0.10.1)\n",
            "Requirement already satisfied: category-encoders>=2.4.0 in /usr/local/lib/python3.10/dist-packages (from pycaret) (2.6.1)\n",
            "Requirement already satisfied: lightgbm>=3.0.0 in /usr/local/lib/python3.10/dist-packages (from pycaret) (3.3.5)\n",
            "Requirement already satisfied: numba>=0.55.0 in /usr/local/lib/python3.10/dist-packages (from pycaret) (0.56.4)\n",
            "Requirement already satisfied: requests>=2.27.1 in /usr/local/lib/python3.10/dist-packages (from pycaret) (2.27.1)\n",
            "Requirement already satisfied: psutil>=5.9.0 in /usr/local/lib/python3.10/dist-packages (from pycaret) (5.9.5)\n",
            "Requirement already satisfied: markupsafe>=2.0.1 in /usr/local/lib/python3.10/dist-packages (from pycaret) (2.1.2)\n",
            "Requirement already satisfied: importlib-metadata>=4.12.0 in /usr/local/lib/python3.10/dist-packages (from pycaret) (6.6.0)\n",
            "Requirement already satisfied: nbformat>=4.2.0 in /usr/local/lib/python3.10/dist-packages (from pycaret) (5.8.0)\n",
            "Requirement already satisfied: cloudpickle in /usr/local/lib/python3.10/dist-packages (from pycaret) (2.2.1)\n",
            "Requirement already satisfied: deprecation>=2.1.0 in /usr/local/lib/python3.10/dist-packages (from pycaret) (2.1.0)\n",
            "Requirement already satisfied: xxhash in /usr/local/lib/python3.10/dist-packages (from pycaret) (3.2.0)\n",
            "Requirement already satisfied: matplotlib>=3.3.0 in /usr/local/lib/python3.10/dist-packages (from pycaret) (3.7.1)\n",
            "Requirement already satisfied: scikit-plot>=0.3.7 in /usr/local/lib/python3.10/dist-packages (from pycaret) (0.3.7)\n",
            "Requirement already satisfied: yellowbrick>=1.4 in /usr/local/lib/python3.10/dist-packages (from pycaret) (1.5)\n",
            "Requirement already satisfied: plotly>=5.0.0 in /usr/local/lib/python3.10/dist-packages (from pycaret) (5.13.1)\n",
            "Requirement already satisfied: kaleido>=0.2.1 in /usr/local/lib/python3.10/dist-packages (from pycaret) (0.2.1)\n",
            "Requirement already satisfied: schemdraw==0.15 in /usr/local/lib/python3.10/dist-packages (from pycaret) (0.15)\n",
            "Requirement already satisfied: plotly-resampler>=0.8.3.1 in /usr/local/lib/python3.10/dist-packages (from pycaret) (0.8.3.2)\n",
            "Requirement already satisfied: statsmodels>=0.12.1 in /usr/local/lib/python3.10/dist-packages (from pycaret) (0.13.5)\n",
            "Requirement already satisfied: sktime!=0.17.1,<0.17.2,>=0.16.1 in /usr/local/lib/python3.10/dist-packages (from pycaret) (0.17.0)\n",
            "Requirement already satisfied: tbats>=1.1.3 in /usr/local/lib/python3.10/dist-packages (from pycaret) (1.1.3)\n",
            "Requirement already satisfied: pmdarima!=1.8.1,<3.0.0,>=1.8.0 in /usr/local/lib/python3.10/dist-packages (from pycaret) (2.0.3)\n",
            "Requirement already satisfied: wurlitzer in /usr/local/lib/python3.10/dist-packages (from pycaret) (3.0.3)\n",
            "Requirement already satisfied: patsy>=0.5.1 in /usr/local/lib/python3.10/dist-packages (from category-encoders>=2.4.0->pycaret) (0.5.3)\n",
            "Requirement already satisfied: packaging in /usr/local/lib/python3.10/dist-packages (from deprecation>=2.1.0->pycaret) (23.1)\n",
            "Requirement already satisfied: threadpoolctl>=2.0.0 in /usr/local/lib/python3.10/dist-packages (from imbalanced-learn>=0.8.1->pycaret) (3.1.0)\n",
            "Requirement already satisfied: zipp>=0.5 in /usr/local/lib/python3.10/dist-packages (from importlib-metadata>=4.12.0->pycaret) (3.15.0)\n",
            "Requirement already satisfied: setuptools>=18.5 in /usr/local/lib/python3.10/dist-packages (from ipython>=5.5.0->pycaret) (67.7.2)\n",
            "Requirement already satisfied: jedi>=0.16 in /usr/local/lib/python3.10/dist-packages (from ipython>=5.5.0->pycaret) (0.18.2)\n",
            "Requirement already satisfied: decorator in /usr/local/lib/python3.10/dist-packages (from ipython>=5.5.0->pycaret) (4.4.2)\n",
            "Requirement already satisfied: pickleshare in /usr/local/lib/python3.10/dist-packages (from ipython>=5.5.0->pycaret) (0.7.5)\n",
            "Requirement already satisfied: traitlets>=4.2 in /usr/local/lib/python3.10/dist-packages (from ipython>=5.5.0->pycaret) (5.7.1)\n",
            "Requirement already satisfied: prompt-toolkit!=3.0.0,!=3.0.1,<3.1.0,>=2.0.0 in /usr/local/lib/python3.10/dist-packages (from ipython>=5.5.0->pycaret) (3.0.38)\n",
            "Requirement already satisfied: pygments in /usr/local/lib/python3.10/dist-packages (from ipython>=5.5.0->pycaret) (2.14.0)\n",
            "Requirement already satisfied: backcall in /usr/local/lib/python3.10/dist-packages (from ipython>=5.5.0->pycaret) (0.2.0)\n",
            "Requirement already satisfied: matplotlib-inline in /usr/local/lib/python3.10/dist-packages (from ipython>=5.5.0->pycaret) (0.1.6)\n",
            "Requirement already satisfied: pexpect>4.3 in /usr/local/lib/python3.10/dist-packages (from ipython>=5.5.0->pycaret) (4.8.0)\n",
            "Requirement already satisfied: ipykernel>=4.5.1 in /usr/local/lib/python3.10/dist-packages (from ipywidgets>=7.6.5->pycaret) (5.5.6)\n",
            "Requirement already satisfied: ipython-genutils~=0.2.0 in /usr/local/lib/python3.10/dist-packages (from ipywidgets>=7.6.5->pycaret) (0.2.0)\n",
            "Requirement already satisfied: widgetsnbextension~=3.6.0 in /usr/local/lib/python3.10/dist-packages (from ipywidgets>=7.6.5->pycaret) (3.6.4)\n",
            "Requirement already satisfied: jupyterlab-widgets>=1.0.0 in /usr/local/lib/python3.10/dist-packages (from ipywidgets>=7.6.5->pycaret) (3.0.7)\n",
            "Requirement already satisfied: wheel in /usr/local/lib/python3.10/dist-packages (from lightgbm>=3.0.0->pycaret) (0.40.0)\n",
            "Requirement already satisfied: contourpy>=1.0.1 in /usr/local/lib/python3.10/dist-packages (from matplotlib>=3.3.0->pycaret) (1.0.7)\n",
            "Requirement already satisfied: cycler>=0.10 in /usr/local/lib/python3.10/dist-packages (from matplotlib>=3.3.0->pycaret) (0.11.0)\n",
            "Requirement already satisfied: fonttools>=4.22.0 in /usr/local/lib/python3.10/dist-packages (from matplotlib>=3.3.0->pycaret) (4.39.3)\n",
            "Requirement already satisfied: kiwisolver>=1.0.1 in /usr/local/lib/python3.10/dist-packages (from matplotlib>=3.3.0->pycaret) (1.4.4)\n",
            "Requirement already satisfied: pillow>=6.2.0 in /usr/local/lib/python3.10/dist-packages (from matplotlib>=3.3.0->pycaret) (8.4.0)\n",
            "Requirement already satisfied: pyparsing>=2.3.1 in /usr/local/lib/python3.10/dist-packages (from matplotlib>=3.3.0->pycaret) (3.0.9)\n",
            "Requirement already satisfied: python-dateutil>=2.7 in /usr/local/lib/python3.10/dist-packages (from matplotlib>=3.3.0->pycaret) (2.8.2)\n",
            "Requirement already satisfied: fastjsonschema in /usr/local/lib/python3.10/dist-packages (from nbformat>=4.2.0->pycaret) (2.16.3)\n",
            "Requirement already satisfied: jsonschema>=2.6 in /usr/local/lib/python3.10/dist-packages (from nbformat>=4.2.0->pycaret) (4.3.3)\n",
            "Requirement already satisfied: jupyter-core in /usr/local/lib/python3.10/dist-packages (from nbformat>=4.2.0->pycaret) (5.3.0)\n",
            "Requirement already satisfied: llvmlite<0.40,>=0.39.0dev0 in /usr/local/lib/python3.10/dist-packages (from numba>=0.55.0->pycaret) (0.39.1)\n",
            "Requirement already satisfied: pytz>=2020.1 in /usr/local/lib/python3.10/dist-packages (from pandas<2.0.0,>=1.3.0->pycaret) (2022.7.1)\n",
            "Requirement already satisfied: tenacity>=6.2.0 in /usr/local/lib/python3.10/dist-packages (from plotly>=5.0.0->pycaret) (8.2.2)\n",
            "Requirement already satisfied: dash<3.0.0,>=2.2.0 in /usr/local/lib/python3.10/dist-packages (from plotly-resampler>=0.8.3.1->pycaret) (2.10.0)\n",
            "Requirement already satisfied: jupyter-dash>=0.4.2 in /usr/local/lib/python3.10/dist-packages (from plotly-resampler>=0.8.3.1->pycaret) (0.4.2)\n",
            "Requirement already satisfied: orjson<4.0.0,>=3.8.0 in /usr/local/lib/python3.10/dist-packages (from plotly-resampler>=0.8.3.1->pycaret) (3.8.14)\n",
            "Requirement already satisfied: trace-updater>=0.0.8 in /usr/local/lib/python3.10/dist-packages (from plotly-resampler>=0.8.3.1->pycaret) (0.0.9.1)\n",
            "Requirement already satisfied: Cython!=0.29.18,!=0.29.31,>=0.29 in /usr/local/lib/python3.10/dist-packages (from pmdarima!=1.8.1,<3.0.0,>=1.8.0->pycaret) (0.29.34)\n",
            "Requirement already satisfied: urllib3 in /usr/local/lib/python3.10/dist-packages (from pmdarima!=1.8.1,<3.0.0,>=1.8.0->pycaret) (1.26.15)\n",
            "Requirement already satisfied: six in /usr/local/lib/python3.10/dist-packages (from pyod>=1.0.8->pycaret) (1.16.0)\n",
            "Requirement already satisfied: certifi>=2017.4.17 in /usr/local/lib/python3.10/dist-packages (from requests>=2.27.1->pycaret) (2022.12.7)\n",
            "Requirement already satisfied: charset-normalizer~=2.0.0 in /usr/local/lib/python3.10/dist-packages (from requests>=2.27.1->pycaret) (2.0.12)\n",
            "Requirement already satisfied: idna<4,>=2.5 in /usr/local/lib/python3.10/dist-packages (from requests>=2.27.1->pycaret) (3.4)\n",
            "Requirement already satisfied: deprecated>=1.2.13 in /usr/local/lib/python3.10/dist-packages (from sktime!=0.17.1,<0.17.2,>=0.16.1->pycaret) (1.2.14)\n",
            "Requirement already satisfied: Flask<=2.2.3,>=1.0.4 in /usr/local/lib/python3.10/dist-packages (from dash<3.0.0,>=2.2.0->plotly-resampler>=0.8.3.1->pycaret) (2.2.3)\n",
            "Requirement already satisfied: Werkzeug<=2.2.3 in /usr/local/lib/python3.10/dist-packages (from dash<3.0.0,>=2.2.0->plotly-resampler>=0.8.3.1->pycaret) (2.2.3)\n",
            "Requirement already satisfied: dash-html-components==2.0.0 in /usr/local/lib/python3.10/dist-packages (from dash<3.0.0,>=2.2.0->plotly-resampler>=0.8.3.1->pycaret) (2.0.0)\n",
            "Requirement already satisfied: dash-core-components==2.0.0 in /usr/local/lib/python3.10/dist-packages (from dash<3.0.0,>=2.2.0->plotly-resampler>=0.8.3.1->pycaret) (2.0.0)\n",
            "Requirement already satisfied: dash-table==5.0.0 in /usr/local/lib/python3.10/dist-packages (from dash<3.0.0,>=2.2.0->plotly-resampler>=0.8.3.1->pycaret) (5.0.0)\n",
            "Requirement already satisfied: wrapt<2,>=1.10 in /usr/local/lib/python3.10/dist-packages (from deprecated>=1.2.13->sktime!=0.17.1,<0.17.2,>=0.16.1->pycaret) (1.14.1)\n",
            "Requirement already satisfied: jupyter-client in /usr/local/lib/python3.10/dist-packages (from ipykernel>=4.5.1->ipywidgets>=7.6.5->pycaret) (6.1.12)\n",
            "Requirement already satisfied: tornado>=4.2 in /usr/local/lib/python3.10/dist-packages (from ipykernel>=4.5.1->ipywidgets>=7.6.5->pycaret) (6.3.1)\n",
            "Requirement already satisfied: parso<0.9.0,>=0.8.0 in /usr/local/lib/python3.10/dist-packages (from jedi>=0.16->ipython>=5.5.0->pycaret) (0.8.3)\n",
            "Requirement already satisfied: attrs>=17.4.0 in /usr/local/lib/python3.10/dist-packages (from jsonschema>=2.6->nbformat>=4.2.0->pycaret) (23.1.0)\n",
            "Requirement already satisfied: pyrsistent!=0.17.0,!=0.17.1,!=0.17.2,>=0.14.0 in /usr/local/lib/python3.10/dist-packages (from jsonschema>=2.6->nbformat>=4.2.0->pycaret) (0.19.3)\n",
            "Requirement already satisfied: retrying in /usr/local/lib/python3.10/dist-packages (from jupyter-dash>=0.4.2->plotly-resampler>=0.8.3.1->pycaret) (1.3.4)\n",
            "Requirement already satisfied: ansi2html in /usr/local/lib/python3.10/dist-packages (from jupyter-dash>=0.4.2->plotly-resampler>=0.8.3.1->pycaret) (1.8.0)\n",
            "Requirement already satisfied: nest-asyncio in /usr/local/lib/python3.10/dist-packages (from jupyter-dash>=0.4.2->plotly-resampler>=0.8.3.1->pycaret) (1.5.6)\n",
            "Requirement already satisfied: ptyprocess>=0.5 in /usr/local/lib/python3.10/dist-packages (from pexpect>4.3->ipython>=5.5.0->pycaret) (0.7.0)\n",
            "Requirement already satisfied: wcwidth in /usr/local/lib/python3.10/dist-packages (from prompt-toolkit!=3.0.0,!=3.0.1,<3.1.0,>=2.0.0->ipython>=5.5.0->pycaret) (0.2.6)\n",
            "Requirement already satisfied: notebook>=4.4.1 in /usr/local/lib/python3.10/dist-packages (from widgetsnbextension~=3.6.0->ipywidgets>=7.6.5->pycaret) (6.4.8)\n",
            "Requirement already satisfied: platformdirs>=2.5 in /usr/local/lib/python3.10/dist-packages (from jupyter-core->nbformat>=4.2.0->pycaret) (3.3.0)\n",
            "Requirement already satisfied: itsdangerous>=2.0 in /usr/local/lib/python3.10/dist-packages (from Flask<=2.2.3,>=1.0.4->dash<3.0.0,>=2.2.0->plotly-resampler>=0.8.3.1->pycaret) (2.1.2)\n",
            "Requirement already satisfied: click>=8.0 in /usr/local/lib/python3.10/dist-packages (from Flask<=2.2.3,>=1.0.4->dash<3.0.0,>=2.2.0->plotly-resampler>=0.8.3.1->pycaret) (8.1.3)\n",
            "Requirement already satisfied: pyzmq>=17 in /usr/local/lib/python3.10/dist-packages (from notebook>=4.4.1->widgetsnbextension~=3.6.0->ipywidgets>=7.6.5->pycaret) (23.2.1)\n",
            "Requirement already satisfied: argon2-cffi in /usr/local/lib/python3.10/dist-packages (from notebook>=4.4.1->widgetsnbextension~=3.6.0->ipywidgets>=7.6.5->pycaret) (21.3.0)\n",
            "Requirement already satisfied: nbconvert in /usr/local/lib/python3.10/dist-packages (from notebook>=4.4.1->widgetsnbextension~=3.6.0->ipywidgets>=7.6.5->pycaret) (6.5.4)\n",
            "Requirement already satisfied: Send2Trash>=1.8.0 in /usr/local/lib/python3.10/dist-packages (from notebook>=4.4.1->widgetsnbextension~=3.6.0->ipywidgets>=7.6.5->pycaret) (1.8.0)\n",
            "Requirement already satisfied: terminado>=0.8.3 in /usr/local/lib/python3.10/dist-packages (from notebook>=4.4.1->widgetsnbextension~=3.6.0->ipywidgets>=7.6.5->pycaret) (0.17.1)\n",
            "Requirement already satisfied: prometheus-client in /usr/local/lib/python3.10/dist-packages (from notebook>=4.4.1->widgetsnbextension~=3.6.0->ipywidgets>=7.6.5->pycaret) (0.16.0)\n",
            "Requirement already satisfied: argon2-cffi-bindings in /usr/local/lib/python3.10/dist-packages (from argon2-cffi->notebook>=4.4.1->widgetsnbextension~=3.6.0->ipywidgets>=7.6.5->pycaret) (21.2.0)\n",
            "Requirement already satisfied: lxml in /usr/local/lib/python3.10/dist-packages (from nbconvert->notebook>=4.4.1->widgetsnbextension~=3.6.0->ipywidgets>=7.6.5->pycaret) (4.9.2)\n",
            "Requirement already satisfied: beautifulsoup4 in /usr/local/lib/python3.10/dist-packages (from nbconvert->notebook>=4.4.1->widgetsnbextension~=3.6.0->ipywidgets>=7.6.5->pycaret) (4.11.2)\n",
            "Requirement already satisfied: bleach in /usr/local/lib/python3.10/dist-packages (from nbconvert->notebook>=4.4.1->widgetsnbextension~=3.6.0->ipywidgets>=7.6.5->pycaret) (6.0.0)\n",
            "Requirement already satisfied: defusedxml in /usr/local/lib/python3.10/dist-packages (from nbconvert->notebook>=4.4.1->widgetsnbextension~=3.6.0->ipywidgets>=7.6.5->pycaret) (0.7.1)\n",
            "Requirement already satisfied: entrypoints>=0.2.2 in /usr/local/lib/python3.10/dist-packages (from nbconvert->notebook>=4.4.1->widgetsnbextension~=3.6.0->ipywidgets>=7.6.5->pycaret) (0.4)\n",
            "Requirement already satisfied: jupyterlab-pygments in /usr/local/lib/python3.10/dist-packages (from nbconvert->notebook>=4.4.1->widgetsnbextension~=3.6.0->ipywidgets>=7.6.5->pycaret) (0.2.2)\n",
            "Requirement already satisfied: mistune<2,>=0.8.1 in /usr/local/lib/python3.10/dist-packages (from nbconvert->notebook>=4.4.1->widgetsnbextension~=3.6.0->ipywidgets>=7.6.5->pycaret) (0.8.4)\n",
            "Requirement already satisfied: nbclient>=0.5.0 in /usr/local/lib/python3.10/dist-packages (from nbconvert->notebook>=4.4.1->widgetsnbextension~=3.6.0->ipywidgets>=7.6.5->pycaret) (0.7.4)\n",
            "Requirement already satisfied: pandocfilters>=1.4.1 in /usr/local/lib/python3.10/dist-packages (from nbconvert->notebook>=4.4.1->widgetsnbextension~=3.6.0->ipywidgets>=7.6.5->pycaret) (1.5.0)\n",
            "Requirement already satisfied: tinycss2 in /usr/local/lib/python3.10/dist-packages (from nbconvert->notebook>=4.4.1->widgetsnbextension~=3.6.0->ipywidgets>=7.6.5->pycaret) (1.2.1)\n",
            "Requirement already satisfied: cffi>=1.0.1 in /usr/local/lib/python3.10/dist-packages (from argon2-cffi-bindings->argon2-cffi->notebook>=4.4.1->widgetsnbextension~=3.6.0->ipywidgets>=7.6.5->pycaret) (1.15.1)\n",
            "Requirement already satisfied: soupsieve>1.2 in /usr/local/lib/python3.10/dist-packages (from beautifulsoup4->nbconvert->notebook>=4.4.1->widgetsnbextension~=3.6.0->ipywidgets>=7.6.5->pycaret) (2.4.1)\n",
            "Requirement already satisfied: webencodings in /usr/local/lib/python3.10/dist-packages (from bleach->nbconvert->notebook>=4.4.1->widgetsnbextension~=3.6.0->ipywidgets>=7.6.5->pycaret) (0.5.1)\n",
            "Requirement already satisfied: pycparser in /usr/local/lib/python3.10/dist-packages (from cffi>=1.0.1->argon2-cffi-bindings->argon2-cffi->notebook>=4.4.1->widgetsnbextension~=3.6.0->ipywidgets>=7.6.5->pycaret) (2.21)\n"
          ]
        }
      ],
      "source": [
        "!pip install pycaret"
      ]
    },
    {
      "cell_type": "code",
      "source": [
        "# Download dataset\n",
        "\n",
        "!wget \"https://dados.agricultura.gov.br/dataset/c7784a6e-f0ec-4196-a1ce-1d2d4784a58e/resource/6ab20c11-73a0-4ab0-8e13-2420d48dd6f5/download/sigefcamposproducaodesementes.csv\" -O dataset.csv "
      ],
      "metadata": {
        "colab": {
          "base_uri": "https://localhost:8080/"
        },
        "id": "PcSm6eNJkPBq",
        "outputId": "c4bda238-0302-4bfe-cebe-e04332dcdad3"
      },
      "execution_count": 109,
      "outputs": [
        {
          "output_type": "stream",
          "name": "stdout",
          "text": [
            "--2023-05-29 23:44:29--  https://dados.agricultura.gov.br/dataset/c7784a6e-f0ec-4196-a1ce-1d2d4784a58e/resource/6ab20c11-73a0-4ab0-8e13-2420d48dd6f5/download/sigefcamposproducaodesementes.csv\n",
            "Resolving dados.agricultura.gov.br (dados.agricultura.gov.br)... 201.57.198.178\n",
            "Connecting to dados.agricultura.gov.br (dados.agricultura.gov.br)|201.57.198.178|:443... connected.\n",
            "HTTP request sent, awaiting response... 200 OK\n",
            "Length: 46659404 (44M) [text/csv]\n",
            "Saving to: ‘dataset.csv’\n",
            "\n",
            "dataset.csv         100%[===================>]  44.50M   865KB/s    in 54s     \n",
            "\n",
            "2023-05-29 23:45:24 (844 KB/s) - ‘dataset.csv’ saved [46659404/46659404]\n",
            "\n"
          ]
        }
      ]
    },
    {
      "cell_type": "code",
      "source": [
        "import pandas as pd\n",
        "import numpy as np"
      ],
      "metadata": {
        "id": "5-Q_CWl1kkTy"
      },
      "execution_count": 110,
      "outputs": []
    },
    {
      "cell_type": "markdown",
      "source": [
        "#1.1. Carregamento e limpeza dos dados"
      ],
      "metadata": {
        "id": "-NwXXI2boLpi"
      }
    },
    {
      "cell_type": "code",
      "source": [
        "df = pd.read_csv(\"/content/dataset.csv\", sep=';')\n",
        "df.head()"
      ],
      "metadata": {
        "colab": {
          "base_uri": "https://localhost:8080/",
          "height": 206
        },
        "id": "9nRs62_vkhPi",
        "outputId": "b2dbc663-894b-419a-c6e7-63949c89dde3"
      },
      "execution_count": 111,
      "outputs": [
        {
          "output_type": "execute_result",
          "data": {
            "text/plain": [
              "       Safra      Especie Categoria      Cultivar  Municipio  UF      Status  \\\n",
              "0  2013/2013  Zea mays L.        S1      BRS 2022      Cedro  PE  Homologado   \n",
              "1  2013/2013  Zea mays L.        S1      BRS 2022      Cedro  PE  Homologado   \n",
              "2  2013/2013  Zea mays L.        S1      BRS 2022      Cedro  PE  Homologado   \n",
              "3  2013/2013  Zea mays L.        S2  BRS Gorutuba  Petrolina  PE  Homologado   \n",
              "4  2013/2013  Zea mays L.        S2  BRS Gorutuba  Petrolina  PE  Homologado   \n",
              "\n",
              "  Data do Plantio Data de Colheita  Area  Producao bruta  Producao estimada  \n",
              "0      01/01/2013              NaN   9.5             NaN              38.00  \n",
              "1      05/01/2013              NaN   6.0             NaN              24.00  \n",
              "2      10/01/2013              NaN   9.5             NaN              38.00  \n",
              "3      03/02/2013              NaN   4.5             NaN              15.75  \n",
              "4      27/01/2013              NaN   1.6             NaN               5.60  "
            ],
            "text/html": [
              "\n",
              "  <div id=\"df-6a0da9b8-2f3e-40f5-a94f-787213220fe6\">\n",
              "    <div class=\"colab-df-container\">\n",
              "      <div>\n",
              "<style scoped>\n",
              "    .dataframe tbody tr th:only-of-type {\n",
              "        vertical-align: middle;\n",
              "    }\n",
              "\n",
              "    .dataframe tbody tr th {\n",
              "        vertical-align: top;\n",
              "    }\n",
              "\n",
              "    .dataframe thead th {\n",
              "        text-align: right;\n",
              "    }\n",
              "</style>\n",
              "<table border=\"1\" class=\"dataframe\">\n",
              "  <thead>\n",
              "    <tr style=\"text-align: right;\">\n",
              "      <th></th>\n",
              "      <th>Safra</th>\n",
              "      <th>Especie</th>\n",
              "      <th>Categoria</th>\n",
              "      <th>Cultivar</th>\n",
              "      <th>Municipio</th>\n",
              "      <th>UF</th>\n",
              "      <th>Status</th>\n",
              "      <th>Data do Plantio</th>\n",
              "      <th>Data de Colheita</th>\n",
              "      <th>Area</th>\n",
              "      <th>Producao bruta</th>\n",
              "      <th>Producao estimada</th>\n",
              "    </tr>\n",
              "  </thead>\n",
              "  <tbody>\n",
              "    <tr>\n",
              "      <th>0</th>\n",
              "      <td>2013/2013</td>\n",
              "      <td>Zea mays L.</td>\n",
              "      <td>S1</td>\n",
              "      <td>BRS 2022</td>\n",
              "      <td>Cedro</td>\n",
              "      <td>PE</td>\n",
              "      <td>Homologado</td>\n",
              "      <td>01/01/2013</td>\n",
              "      <td>NaN</td>\n",
              "      <td>9.5</td>\n",
              "      <td>NaN</td>\n",
              "      <td>38.00</td>\n",
              "    </tr>\n",
              "    <tr>\n",
              "      <th>1</th>\n",
              "      <td>2013/2013</td>\n",
              "      <td>Zea mays L.</td>\n",
              "      <td>S1</td>\n",
              "      <td>BRS 2022</td>\n",
              "      <td>Cedro</td>\n",
              "      <td>PE</td>\n",
              "      <td>Homologado</td>\n",
              "      <td>05/01/2013</td>\n",
              "      <td>NaN</td>\n",
              "      <td>6.0</td>\n",
              "      <td>NaN</td>\n",
              "      <td>24.00</td>\n",
              "    </tr>\n",
              "    <tr>\n",
              "      <th>2</th>\n",
              "      <td>2013/2013</td>\n",
              "      <td>Zea mays L.</td>\n",
              "      <td>S1</td>\n",
              "      <td>BRS 2022</td>\n",
              "      <td>Cedro</td>\n",
              "      <td>PE</td>\n",
              "      <td>Homologado</td>\n",
              "      <td>10/01/2013</td>\n",
              "      <td>NaN</td>\n",
              "      <td>9.5</td>\n",
              "      <td>NaN</td>\n",
              "      <td>38.00</td>\n",
              "    </tr>\n",
              "    <tr>\n",
              "      <th>3</th>\n",
              "      <td>2013/2013</td>\n",
              "      <td>Zea mays L.</td>\n",
              "      <td>S2</td>\n",
              "      <td>BRS Gorutuba</td>\n",
              "      <td>Petrolina</td>\n",
              "      <td>PE</td>\n",
              "      <td>Homologado</td>\n",
              "      <td>03/02/2013</td>\n",
              "      <td>NaN</td>\n",
              "      <td>4.5</td>\n",
              "      <td>NaN</td>\n",
              "      <td>15.75</td>\n",
              "    </tr>\n",
              "    <tr>\n",
              "      <th>4</th>\n",
              "      <td>2013/2013</td>\n",
              "      <td>Zea mays L.</td>\n",
              "      <td>S2</td>\n",
              "      <td>BRS Gorutuba</td>\n",
              "      <td>Petrolina</td>\n",
              "      <td>PE</td>\n",
              "      <td>Homologado</td>\n",
              "      <td>27/01/2013</td>\n",
              "      <td>NaN</td>\n",
              "      <td>1.6</td>\n",
              "      <td>NaN</td>\n",
              "      <td>5.60</td>\n",
              "    </tr>\n",
              "  </tbody>\n",
              "</table>\n",
              "</div>\n",
              "      <button class=\"colab-df-convert\" onclick=\"convertToInteractive('df-6a0da9b8-2f3e-40f5-a94f-787213220fe6')\"\n",
              "              title=\"Convert this dataframe to an interactive table.\"\n",
              "              style=\"display:none;\">\n",
              "        \n",
              "  <svg xmlns=\"http://www.w3.org/2000/svg\" height=\"24px\"viewBox=\"0 0 24 24\"\n",
              "       width=\"24px\">\n",
              "    <path d=\"M0 0h24v24H0V0z\" fill=\"none\"/>\n",
              "    <path d=\"M18.56 5.44l.94 2.06.94-2.06 2.06-.94-2.06-.94-.94-2.06-.94 2.06-2.06.94zm-11 1L8.5 8.5l.94-2.06 2.06-.94-2.06-.94L8.5 2.5l-.94 2.06-2.06.94zm10 10l.94 2.06.94-2.06 2.06-.94-2.06-.94-.94-2.06-.94 2.06-2.06.94z\"/><path d=\"M17.41 7.96l-1.37-1.37c-.4-.4-.92-.59-1.43-.59-.52 0-1.04.2-1.43.59L10.3 9.45l-7.72 7.72c-.78.78-.78 2.05 0 2.83L4 21.41c.39.39.9.59 1.41.59.51 0 1.02-.2 1.41-.59l7.78-7.78 2.81-2.81c.8-.78.8-2.07 0-2.86zM5.41 20L4 18.59l7.72-7.72 1.47 1.35L5.41 20z\"/>\n",
              "  </svg>\n",
              "      </button>\n",
              "      \n",
              "  <style>\n",
              "    .colab-df-container {\n",
              "      display:flex;\n",
              "      flex-wrap:wrap;\n",
              "      gap: 12px;\n",
              "    }\n",
              "\n",
              "    .colab-df-convert {\n",
              "      background-color: #E8F0FE;\n",
              "      border: none;\n",
              "      border-radius: 50%;\n",
              "      cursor: pointer;\n",
              "      display: none;\n",
              "      fill: #1967D2;\n",
              "      height: 32px;\n",
              "      padding: 0 0 0 0;\n",
              "      width: 32px;\n",
              "    }\n",
              "\n",
              "    .colab-df-convert:hover {\n",
              "      background-color: #E2EBFA;\n",
              "      box-shadow: 0px 1px 2px rgba(60, 64, 67, 0.3), 0px 1px 3px 1px rgba(60, 64, 67, 0.15);\n",
              "      fill: #174EA6;\n",
              "    }\n",
              "\n",
              "    [theme=dark] .colab-df-convert {\n",
              "      background-color: #3B4455;\n",
              "      fill: #D2E3FC;\n",
              "    }\n",
              "\n",
              "    [theme=dark] .colab-df-convert:hover {\n",
              "      background-color: #434B5C;\n",
              "      box-shadow: 0px 1px 3px 1px rgba(0, 0, 0, 0.15);\n",
              "      filter: drop-shadow(0px 1px 2px rgba(0, 0, 0, 0.3));\n",
              "      fill: #FFFFFF;\n",
              "    }\n",
              "  </style>\n",
              "\n",
              "      <script>\n",
              "        const buttonEl =\n",
              "          document.querySelector('#df-6a0da9b8-2f3e-40f5-a94f-787213220fe6 button.colab-df-convert');\n",
              "        buttonEl.style.display =\n",
              "          google.colab.kernel.accessAllowed ? 'block' : 'none';\n",
              "\n",
              "        async function convertToInteractive(key) {\n",
              "          const element = document.querySelector('#df-6a0da9b8-2f3e-40f5-a94f-787213220fe6');\n",
              "          const dataTable =\n",
              "            await google.colab.kernel.invokeFunction('convertToInteractive',\n",
              "                                                     [key], {});\n",
              "          if (!dataTable) return;\n",
              "\n",
              "          const docLinkHtml = 'Like what you see? Visit the ' +\n",
              "            '<a target=\"_blank\" href=https://colab.research.google.com/notebooks/data_table.ipynb>data table notebook</a>'\n",
              "            + ' to learn more about interactive tables.';\n",
              "          element.innerHTML = '';\n",
              "          dataTable['output_type'] = 'display_data';\n",
              "          await google.colab.output.renderOutput(dataTable, element);\n",
              "          const docLink = document.createElement('div');\n",
              "          docLink.innerHTML = docLinkHtml;\n",
              "          element.appendChild(docLink);\n",
              "        }\n",
              "      </script>\n",
              "    </div>\n",
              "  </div>\n",
              "  "
            ]
          },
          "metadata": {},
          "execution_count": 111
        }
      ]
    },
    {
      "cell_type": "code",
      "source": [
        "df.shape"
      ],
      "metadata": {
        "colab": {
          "base_uri": "https://localhost:8080/"
        },
        "id": "d1iwlxuLmHxx",
        "outputId": "f54715e4-a23a-4ba7-b53b-bcd638ac0ea8"
      },
      "execution_count": 112,
      "outputs": [
        {
          "output_type": "execute_result",
          "data": {
            "text/plain": [
              "(442174, 12)"
            ]
          },
          "metadata": {},
          "execution_count": 112
        }
      ]
    },
    {
      "cell_type": "code",
      "source": [
        "df.info()"
      ],
      "metadata": {
        "colab": {
          "base_uri": "https://localhost:8080/"
        },
        "id": "8hgglNpylgxi",
        "outputId": "d3c6fced-b49a-467c-f093-0d8523678f20"
      },
      "execution_count": 113,
      "outputs": [
        {
          "output_type": "stream",
          "name": "stdout",
          "text": [
            "<class 'pandas.core.frame.DataFrame'>\n",
            "RangeIndex: 442174 entries, 0 to 442173\n",
            "Data columns (total 12 columns):\n",
            " #   Column             Non-Null Count   Dtype  \n",
            "---  ------             --------------   -----  \n",
            " 0   Safra              442174 non-null  object \n",
            " 1   Especie            442174 non-null  object \n",
            " 2   Categoria          442151 non-null  object \n",
            " 3   Cultivar           442174 non-null  object \n",
            " 4   Municipio          442169 non-null  object \n",
            " 5   UF                 442174 non-null  object \n",
            " 6   Status             442174 non-null  object \n",
            " 7   Data do Plantio    442174 non-null  object \n",
            " 8   Data de Colheita   113515 non-null  object \n",
            " 9   Area               442174 non-null  float64\n",
            " 10  Producao bruta     113515 non-null  float64\n",
            " 11  Producao estimada  442174 non-null  float64\n",
            "dtypes: float64(3), object(9)\n",
            "memory usage: 40.5+ MB\n"
          ]
        }
      ]
    },
    {
      "cell_type": "code",
      "source": [
        "df.rename(columns={\n",
        "   \"Data do Plantio\":\"Data_Plantio\",\n",
        "   \"Data de Colheita\":\"Data_Colheita\",\n",
        "   \"Producao bruta\":\"Producao_Bruta\",\n",
        "   \"Producao estimada\":\"Producao_Estimada\"\n",
        "}, inplace=True)"
      ],
      "metadata": {
        "id": "o8Aij6Fsn-cJ"
      },
      "execution_count": 114,
      "outputs": []
    },
    {
      "cell_type": "code",
      "source": [
        "df.info()"
      ],
      "metadata": {
        "colab": {
          "base_uri": "https://localhost:8080/"
        },
        "id": "mPIs7ChSoZGp",
        "outputId": "47b1db93-2a37-4ec5-d4b2-d91cfdf4a121"
      },
      "execution_count": 115,
      "outputs": [
        {
          "output_type": "stream",
          "name": "stdout",
          "text": [
            "<class 'pandas.core.frame.DataFrame'>\n",
            "RangeIndex: 442174 entries, 0 to 442173\n",
            "Data columns (total 12 columns):\n",
            " #   Column             Non-Null Count   Dtype  \n",
            "---  ------             --------------   -----  \n",
            " 0   Safra              442174 non-null  object \n",
            " 1   Especie            442174 non-null  object \n",
            " 2   Categoria          442151 non-null  object \n",
            " 3   Cultivar           442174 non-null  object \n",
            " 4   Municipio          442169 non-null  object \n",
            " 5   UF                 442174 non-null  object \n",
            " 6   Status             442174 non-null  object \n",
            " 7   Data_Plantio       442174 non-null  object \n",
            " 8   Data_Colheita      113515 non-null  object \n",
            " 9   Area               442174 non-null  float64\n",
            " 10  Producao_Bruta     113515 non-null  float64\n",
            " 11  Producao_Estimada  442174 non-null  float64\n",
            "dtypes: float64(3), object(9)\n",
            "memory usage: 40.5+ MB\n"
          ]
        }
      ]
    },
    {
      "cell_type": "code",
      "source": [
        "df.nunique().sort_values()"
      ],
      "metadata": {
        "colab": {
          "base_uri": "https://localhost:8080/"
        },
        "id": "ZeZpTjhlmJqR",
        "outputId": "c57c8c1e-5997-4444-da51-1da8e820f37e"
      },
      "execution_count": 116,
      "outputs": [
        {
          "output_type": "execute_result",
          "data": {
            "text/plain": [
              "Status                   5\n",
              "Categoria                6\n",
              "Safra                   22\n",
              "UF                      26\n",
              "Especie                278\n",
              "Municipio             2133\n",
              "Data_Colheita         4087\n",
              "Data_Plantio          6569\n",
              "Cultivar             10142\n",
              "Area                 14488\n",
              "Producao_Estimada    29000\n",
              "Producao_Bruta       53474\n",
              "dtype: int64"
            ]
          },
          "metadata": {},
          "execution_count": 116
        }
      ]
    },
    {
      "cell_type": "code",
      "source": [
        "df.isna().sum()"
      ],
      "metadata": {
        "colab": {
          "base_uri": "https://localhost:8080/"
        },
        "id": "VHrBehCjmQW5",
        "outputId": "8a21005a-2843-4d5f-b89a-904a60deace9"
      },
      "execution_count": 117,
      "outputs": [
        {
          "output_type": "execute_result",
          "data": {
            "text/plain": [
              "Safra                     0\n",
              "Especie                   0\n",
              "Categoria                23\n",
              "Cultivar                  0\n",
              "Municipio                 5\n",
              "UF                        0\n",
              "Status                    0\n",
              "Data_Plantio              0\n",
              "Data_Colheita        328659\n",
              "Area                      0\n",
              "Producao_Bruta       328659\n",
              "Producao_Estimada         0\n",
              "dtype: int64"
            ]
          },
          "metadata": {},
          "execution_count": 117
        }
      ]
    },
    {
      "cell_type": "code",
      "source": [
        "df.dtypes"
      ],
      "metadata": {
        "colab": {
          "base_uri": "https://localhost:8080/"
        },
        "id": "wEIDVH1rnfOh",
        "outputId": "c6c7e211-6e10-4916-b766-283dca68001f"
      },
      "execution_count": 118,
      "outputs": [
        {
          "output_type": "execute_result",
          "data": {
            "text/plain": [
              "Safra                 object\n",
              "Especie               object\n",
              "Categoria             object\n",
              "Cultivar              object\n",
              "Municipio             object\n",
              "UF                    object\n",
              "Status                object\n",
              "Data_Plantio          object\n",
              "Data_Colheita         object\n",
              "Area                 float64\n",
              "Producao_Bruta       float64\n",
              "Producao_Estimada    float64\n",
              "dtype: object"
            ]
          },
          "metadata": {},
          "execution_count": 118
        }
      ]
    },
    {
      "cell_type": "code",
      "source": [
        "df.drop(columns=['Data_Colheita', 'Producao_Bruta', 'Status'], inplace=True)"
      ],
      "metadata": {
        "id": "pkTpyGCbeydk"
      },
      "execution_count": 119,
      "outputs": []
    },
    {
      "cell_type": "code",
      "source": [
        "df['Categoria'].unique()"
      ],
      "metadata": {
        "colab": {
          "base_uri": "https://localhost:8080/"
        },
        "id": "kpFHjEyBiFZQ",
        "outputId": "315b89a7-908e-4133-ada2-1412d81dd26a"
      },
      "execution_count": 120,
      "outputs": [
        {
          "output_type": "execute_result",
          "data": {
            "text/plain": [
              "array(['S1', 'S2', 'C1', 'Básica', 'Genética', 'C2', nan], dtype=object)"
            ]
          },
          "metadata": {},
          "execution_count": 120
        }
      ]
    },
    {
      "cell_type": "code",
      "source": [
        "df['Categoria'].replace(np.nan, 'Outro', inplace=True)"
      ],
      "metadata": {
        "id": "TYonvjuJjC9b"
      },
      "execution_count": 121,
      "outputs": []
    },
    {
      "cell_type": "code",
      "source": [
        "df.loc[df['Municipio'].isna()]"
      ],
      "metadata": {
        "colab": {
          "base_uri": "https://localhost:8080/",
          "height": 206
        },
        "id": "Shtd5NY9jNjk",
        "outputId": "29d75d31-bd51-4743-bb9c-67b26dab8331"
      },
      "execution_count": 122,
      "outputs": [
        {
          "output_type": "execute_result",
          "data": {
            "text/plain": [
              "            Safra                                            Especie  \\\n",
              "13097   2013/2013                            Lolium multiflorum Lam.   \n",
              "87787   2013/2013                                        Zea mays L.   \n",
              "211876  2018/2018                                        Zea mays L.   \n",
              "212748  2018/2018                                        Zea mays L.   \n",
              "315134  2020/2021  Urochloa brizantha (Hochst. ex A. Rich.) R. D....   \n",
              "\n",
              "       Categoria        Cultivar Municipio  UF Data_Plantio    Area  \\\n",
              "13097   Genética     Santa Maria       NaN  RS   01/03/2013   30.00   \n",
              "87787         C1  AL Bandeirante       NaN  SP   16/01/2013   10.00   \n",
              "211876        S2         ANHEMBI       NaN  DF   16/03/2018   65.00   \n",
              "212748        S1           M 274       NaN  DF   18/03/2018   95.00   \n",
              "315134        S2         Marandú       NaN  GO   28/11/2018  201.81   \n",
              "\n",
              "        Producao_Estimada  \n",
              "13097                32.0  \n",
              "87787                50.0  \n",
              "211876              390.0  \n",
              "212748              570.0  \n",
              "315134              250.0  "
            ],
            "text/html": [
              "\n",
              "  <div id=\"df-c3d3a14f-a529-4a83-a26f-ffcab36c7634\">\n",
              "    <div class=\"colab-df-container\">\n",
              "      <div>\n",
              "<style scoped>\n",
              "    .dataframe tbody tr th:only-of-type {\n",
              "        vertical-align: middle;\n",
              "    }\n",
              "\n",
              "    .dataframe tbody tr th {\n",
              "        vertical-align: top;\n",
              "    }\n",
              "\n",
              "    .dataframe thead th {\n",
              "        text-align: right;\n",
              "    }\n",
              "</style>\n",
              "<table border=\"1\" class=\"dataframe\">\n",
              "  <thead>\n",
              "    <tr style=\"text-align: right;\">\n",
              "      <th></th>\n",
              "      <th>Safra</th>\n",
              "      <th>Especie</th>\n",
              "      <th>Categoria</th>\n",
              "      <th>Cultivar</th>\n",
              "      <th>Municipio</th>\n",
              "      <th>UF</th>\n",
              "      <th>Data_Plantio</th>\n",
              "      <th>Area</th>\n",
              "      <th>Producao_Estimada</th>\n",
              "    </tr>\n",
              "  </thead>\n",
              "  <tbody>\n",
              "    <tr>\n",
              "      <th>13097</th>\n",
              "      <td>2013/2013</td>\n",
              "      <td>Lolium multiflorum Lam.</td>\n",
              "      <td>Genética</td>\n",
              "      <td>Santa Maria</td>\n",
              "      <td>NaN</td>\n",
              "      <td>RS</td>\n",
              "      <td>01/03/2013</td>\n",
              "      <td>30.00</td>\n",
              "      <td>32.0</td>\n",
              "    </tr>\n",
              "    <tr>\n",
              "      <th>87787</th>\n",
              "      <td>2013/2013</td>\n",
              "      <td>Zea mays L.</td>\n",
              "      <td>C1</td>\n",
              "      <td>AL Bandeirante</td>\n",
              "      <td>NaN</td>\n",
              "      <td>SP</td>\n",
              "      <td>16/01/2013</td>\n",
              "      <td>10.00</td>\n",
              "      <td>50.0</td>\n",
              "    </tr>\n",
              "    <tr>\n",
              "      <th>211876</th>\n",
              "      <td>2018/2018</td>\n",
              "      <td>Zea mays L.</td>\n",
              "      <td>S2</td>\n",
              "      <td>ANHEMBI</td>\n",
              "      <td>NaN</td>\n",
              "      <td>DF</td>\n",
              "      <td>16/03/2018</td>\n",
              "      <td>65.00</td>\n",
              "      <td>390.0</td>\n",
              "    </tr>\n",
              "    <tr>\n",
              "      <th>212748</th>\n",
              "      <td>2018/2018</td>\n",
              "      <td>Zea mays L.</td>\n",
              "      <td>S1</td>\n",
              "      <td>M 274</td>\n",
              "      <td>NaN</td>\n",
              "      <td>DF</td>\n",
              "      <td>18/03/2018</td>\n",
              "      <td>95.00</td>\n",
              "      <td>570.0</td>\n",
              "    </tr>\n",
              "    <tr>\n",
              "      <th>315134</th>\n",
              "      <td>2020/2021</td>\n",
              "      <td>Urochloa brizantha (Hochst. ex A. Rich.) R. D....</td>\n",
              "      <td>S2</td>\n",
              "      <td>Marandú</td>\n",
              "      <td>NaN</td>\n",
              "      <td>GO</td>\n",
              "      <td>28/11/2018</td>\n",
              "      <td>201.81</td>\n",
              "      <td>250.0</td>\n",
              "    </tr>\n",
              "  </tbody>\n",
              "</table>\n",
              "</div>\n",
              "      <button class=\"colab-df-convert\" onclick=\"convertToInteractive('df-c3d3a14f-a529-4a83-a26f-ffcab36c7634')\"\n",
              "              title=\"Convert this dataframe to an interactive table.\"\n",
              "              style=\"display:none;\">\n",
              "        \n",
              "  <svg xmlns=\"http://www.w3.org/2000/svg\" height=\"24px\"viewBox=\"0 0 24 24\"\n",
              "       width=\"24px\">\n",
              "    <path d=\"M0 0h24v24H0V0z\" fill=\"none\"/>\n",
              "    <path d=\"M18.56 5.44l.94 2.06.94-2.06 2.06-.94-2.06-.94-.94-2.06-.94 2.06-2.06.94zm-11 1L8.5 8.5l.94-2.06 2.06-.94-2.06-.94L8.5 2.5l-.94 2.06-2.06.94zm10 10l.94 2.06.94-2.06 2.06-.94-2.06-.94-.94-2.06-.94 2.06-2.06.94z\"/><path d=\"M17.41 7.96l-1.37-1.37c-.4-.4-.92-.59-1.43-.59-.52 0-1.04.2-1.43.59L10.3 9.45l-7.72 7.72c-.78.78-.78 2.05 0 2.83L4 21.41c.39.39.9.59 1.41.59.51 0 1.02-.2 1.41-.59l7.78-7.78 2.81-2.81c.8-.78.8-2.07 0-2.86zM5.41 20L4 18.59l7.72-7.72 1.47 1.35L5.41 20z\"/>\n",
              "  </svg>\n",
              "      </button>\n",
              "      \n",
              "  <style>\n",
              "    .colab-df-container {\n",
              "      display:flex;\n",
              "      flex-wrap:wrap;\n",
              "      gap: 12px;\n",
              "    }\n",
              "\n",
              "    .colab-df-convert {\n",
              "      background-color: #E8F0FE;\n",
              "      border: none;\n",
              "      border-radius: 50%;\n",
              "      cursor: pointer;\n",
              "      display: none;\n",
              "      fill: #1967D2;\n",
              "      height: 32px;\n",
              "      padding: 0 0 0 0;\n",
              "      width: 32px;\n",
              "    }\n",
              "\n",
              "    .colab-df-convert:hover {\n",
              "      background-color: #E2EBFA;\n",
              "      box-shadow: 0px 1px 2px rgba(60, 64, 67, 0.3), 0px 1px 3px 1px rgba(60, 64, 67, 0.15);\n",
              "      fill: #174EA6;\n",
              "    }\n",
              "\n",
              "    [theme=dark] .colab-df-convert {\n",
              "      background-color: #3B4455;\n",
              "      fill: #D2E3FC;\n",
              "    }\n",
              "\n",
              "    [theme=dark] .colab-df-convert:hover {\n",
              "      background-color: #434B5C;\n",
              "      box-shadow: 0px 1px 3px 1px rgba(0, 0, 0, 0.15);\n",
              "      filter: drop-shadow(0px 1px 2px rgba(0, 0, 0, 0.3));\n",
              "      fill: #FFFFFF;\n",
              "    }\n",
              "  </style>\n",
              "\n",
              "      <script>\n",
              "        const buttonEl =\n",
              "          document.querySelector('#df-c3d3a14f-a529-4a83-a26f-ffcab36c7634 button.colab-df-convert');\n",
              "        buttonEl.style.display =\n",
              "          google.colab.kernel.accessAllowed ? 'block' : 'none';\n",
              "\n",
              "        async function convertToInteractive(key) {\n",
              "          const element = document.querySelector('#df-c3d3a14f-a529-4a83-a26f-ffcab36c7634');\n",
              "          const dataTable =\n",
              "            await google.colab.kernel.invokeFunction('convertToInteractive',\n",
              "                                                     [key], {});\n",
              "          if (!dataTable) return;\n",
              "\n",
              "          const docLinkHtml = 'Like what you see? Visit the ' +\n",
              "            '<a target=\"_blank\" href=https://colab.research.google.com/notebooks/data_table.ipynb>data table notebook</a>'\n",
              "            + ' to learn more about interactive tables.';\n",
              "          element.innerHTML = '';\n",
              "          dataTable['output_type'] = 'display_data';\n",
              "          await google.colab.output.renderOutput(dataTable, element);\n",
              "          const docLink = document.createElement('div');\n",
              "          docLink.innerHTML = docLinkHtml;\n",
              "          element.appendChild(docLink);\n",
              "        }\n",
              "      </script>\n",
              "    </div>\n",
              "  </div>\n",
              "  "
            ]
          },
          "metadata": {},
          "execution_count": 122
        }
      ]
    },
    {
      "cell_type": "code",
      "source": [
        "most_frequent_municipio = df.groupby('UF')['Municipio'].apply(lambda x: x.value_counts().idxmax())\n",
        "most_frequent_municipio"
      ],
      "metadata": {
        "colab": {
          "base_uri": "https://localhost:8080/"
        },
        "id": "hySQ-L2jlQPV",
        "outputId": "f32f31ff-c5af-4500-e0d8-1c59683d5c45"
      },
      "execution_count": 123,
      "outputs": [
        {
          "output_type": "execute_result",
          "data": {
            "text/plain": [
              "UF\n",
              "AC           Rio Branco\n",
              "AL               Anadia\n",
              "AM     Rio Preto da Eva\n",
              "BA        São Desidério\n",
              "CE    Limoeiro do Norte\n",
              "DF             Brasília\n",
              "ES    Marechal Floriano\n",
              "GO           Cristalina\n",
              "MA               Balsas\n",
              "MG             Paracatu\n",
              "MS           Ponta Porã\n",
              "MT          Alto Garças\n",
              "PA          Paragominas\n",
              "PB                Sousa\n",
              "PE            Petrolina\n",
              "PI       Sebastião Leal\n",
              "PR         Mangueirinha\n",
              "RJ             Itaocara\n",
              "RN    Alto do Rodrigues\n",
              "RO          Porto Velho\n",
              "RR          Alto Alegre\n",
              "RS     São Luiz Gonzaga\n",
              "SC         Campos Novos\n",
              "SE              Lagarto\n",
              "SP              Itapeva\n",
              "TO    Lagoa da Confusão\n",
              "Name: Municipio, dtype: object"
            ]
          },
          "metadata": {},
          "execution_count": 123
        }
      ]
    },
    {
      "cell_type": "code",
      "source": [
        "df.loc[(df['Municipio'].isna()) & (df['UF'] == 'DF'), 'Municipio'] = 'Brasília'\n",
        "df.loc[(df['Municipio'].isna()) & (df['UF'] == 'SP'), 'Municipio'] = 'Itapeva'\n",
        "df.loc[(df['Municipio'].isna()) & (df['UF'] == 'RS'), 'Municipio'] = 'São Luiz Gonzaga'\n",
        "df.loc[(df['Municipio'].isna()) & (df['UF'] == 'GO'), 'Municipio'] = 'Cristalina'"
      ],
      "metadata": {
        "id": "peaua6x1la9_"
      },
      "execution_count": 124,
      "outputs": []
    },
    {
      "cell_type": "code",
      "source": [
        "df.isna().sum()"
      ],
      "metadata": {
        "colab": {
          "base_uri": "https://localhost:8080/"
        },
        "id": "uU2yBMf-mGqn",
        "outputId": "25460134-3cb9-49e8-b299-c7e657450b81"
      },
      "execution_count": 125,
      "outputs": [
        {
          "output_type": "execute_result",
          "data": {
            "text/plain": [
              "Safra                0\n",
              "Especie              0\n",
              "Categoria            0\n",
              "Cultivar             0\n",
              "Municipio            0\n",
              "UF                   0\n",
              "Data_Plantio         0\n",
              "Area                 0\n",
              "Producao_Estimada    0\n",
              "dtype: int64"
            ]
          },
          "metadata": {},
          "execution_count": 125
        }
      ]
    },
    {
      "cell_type": "code",
      "source": [
        "day_all = []\n",
        "month_all = []\n",
        "year_all = []\n",
        "\n",
        "for data in df['Data_Plantio']:\n",
        "  day, month, year = data.split('/')\n",
        "  day_all.append(day)\n",
        "  month_all.append(month)\n",
        "  year_all.append(year)\n",
        "\n",
        "df['Dia_Plantio'] = day_all\n",
        "df['Mes_Plantio'] = month_all\n",
        "df['Ano_Plantio'] = year_all\n",
        "\n",
        "df['Dia_Plantio'] = df['Dia_Plantio'].astype(float)\n",
        "df['Mes_Plantio'] = df['Mes_Plantio'].astype(float)\n",
        "df['Ano_Plantio'] = df['Ano_Plantio'].astype(float)"
      ],
      "metadata": {
        "id": "8-zrLcLR4ciK"
      },
      "execution_count": 134,
      "outputs": []
    },
    {
      "cell_type": "code",
      "source": [
        "df.drop(columns='Data_Plantio', inplace=True)"
      ],
      "metadata": {
        "id": "k8GwjCPg7Zej"
      },
      "execution_count": 137,
      "outputs": []
    },
    {
      "cell_type": "code",
      "source": [
        "df.info()"
      ],
      "metadata": {
        "colab": {
          "base_uri": "https://localhost:8080/"
        },
        "id": "6cIIVrqt7873",
        "outputId": "318c846a-5ac9-4d81-a4d9-696fe18e5922"
      },
      "execution_count": 138,
      "outputs": [
        {
          "output_type": "stream",
          "name": "stdout",
          "text": [
            "<class 'pandas.core.frame.DataFrame'>\n",
            "RangeIndex: 442174 entries, 0 to 442173\n",
            "Data columns (total 11 columns):\n",
            " #   Column             Non-Null Count   Dtype  \n",
            "---  ------             --------------   -----  \n",
            " 0   Safra              442174 non-null  object \n",
            " 1   Especie            442174 non-null  object \n",
            " 2   Categoria          442174 non-null  object \n",
            " 3   Cultivar           442174 non-null  object \n",
            " 4   Municipio          442174 non-null  object \n",
            " 5   UF                 442174 non-null  object \n",
            " 6   Area               442174 non-null  float64\n",
            " 7   Producao_Estimada  442174 non-null  float64\n",
            " 8   Dia_Plantio        442174 non-null  float64\n",
            " 9   Mes_Plantio        442174 non-null  float64\n",
            " 10  Ano_Plantio        442174 non-null  float64\n",
            "dtypes: float64(5), object(6)\n",
            "memory usage: 37.1+ MB\n"
          ]
        }
      ]
    },
    {
      "cell_type": "markdown",
      "source": [
        "#1.2. Análise Exploratória dos Dados (EDA)"
      ],
      "metadata": {
        "id": "LRm8OYW3oXCu"
      }
    },
    {
      "cell_type": "code",
      "source": [
        "import matplotlib.pyplot as plt"
      ],
      "metadata": {
        "id": "s743PS3zogdN"
      },
      "execution_count": 139,
      "outputs": []
    },
    {
      "cell_type": "code",
      "source": [
        "max_producao_estimada = df.groupby('UF')['Producao_Estimada'].max().sort_values(ascending=True)\n",
        "\n",
        "plt.figure(figsize=(10, 6))\n",
        "plt.barh(max_producao_estimada.index, max_producao_estimada.values)\n",
        "plt.xlabel('Producao_Estimada (máximo)')\n",
        "plt.ylabel('Estado')\n",
        "plt.title('Producao_Estimada máxima por Estado')\n",
        "\n",
        "plt.show()"
      ],
      "metadata": {
        "colab": {
          "base_uri": "https://localhost:8080/",
          "height": 565
        },
        "id": "G0GHQeKlpCwP",
        "outputId": "5b697d25-2c7d-45f7-e9d2-f02030d2b6ad"
      },
      "execution_count": 140,
      "outputs": [
        {
          "output_type": "display_data",
          "data": {
            "text/plain": [
              "<Figure size 1000x600 with 1 Axes>"
            ],
            "image/png": "[encoded data removed]"
          },
          "metadata": {}
        }
      ]
    },
    {
      "cell_type": "markdown",
      "source": [
        "### Minas Gerais e Mato Grosso com a maior estimativa de produção"
      ],
      "metadata": {
        "id": "AA_bXsgnqQeI"
      }
    },
    {
      "cell_type": "code",
      "source": [
        "top_producao_estimada = df.groupby('UF')['Producao_Estimada'].max().nlargest(5)\n",
        "top_area = df[df['UF'].isin(top_producao_estimada.index)].groupby('UF')['Area'].first()\n",
        "\n",
        "plt.show()\n",
        "\n",
        "X_axis = np.arange(len(top_producao_estimada))\n",
        "\n",
        "## Escala de Produção dividida por 1000\n",
        "\n",
        "plt.bar(X_axis - 0.2, top_producao_estimada.values / 1000, 0.4, label = 'Produção Estimada')\n",
        "plt.bar(X_axis + 0.2, top_area.values, 0.4, label = 'Area')\n",
        "  \n",
        "plt.xticks(X_axis, top_producao_estimada.index)\n",
        "plt.xlabel(\"Estado\")\n",
        "plt.ylabel(\"Produção Estimada (máximo)\")\n",
        "plt.title(\"Top 5 Estados por Produção Estimada e Area\")\n",
        "plt.legend()\n",
        "plt.show()"
      ],
      "metadata": {
        "colab": {
          "base_uri": "https://localhost:8080/",
          "height": 472
        },
        "id": "pr_cCQieqd5i",
        "outputId": "6b6960c1-ea69-44f2-dbf0-ac7c94ce2639"
      },
      "execution_count": 141,
      "outputs": [
        {
          "output_type": "display_data",
          "data": {
            "text/plain": [
              "<Figure size 640x480 with 1 Axes>"
            ],
            "image/png": "[encoded data removed]"
          },
          "metadata": {}
        }
      ]
    },
    {
      "cell_type": "markdown",
      "source": [
        "### A Area, apesar de dar esse indício, não está diretamente correlacionado com a produção estimada. Mas está relacionada com o local de produção, como vemos no gráfico anterior, pelos 5 maiores serem realmente os maiores produtores: Minas Gerais, Mato Grosso, Bahia, Paraná, Goiânia. "
      ],
      "metadata": {
        "id": "4xJl4Z84vHEv"
      }
    },
    {
      "cell_type": "code",
      "source": [
        "df['Safra'].unique()"
      ],
      "metadata": {
        "colab": {
          "base_uri": "https://localhost:8080/"
        },
        "id": "tBYW9PbswpXo",
        "outputId": "5d90bcd6-d2c4-4987-ffa9-99c946e277f4"
      },
      "execution_count": 142,
      "outputs": [
        {
          "output_type": "execute_result",
          "data": {
            "text/plain": [
              "array(['2013/2013', '2013/2014', '2022/2023', '2014/2014', '2022/2022',\n",
              "       '2021/2022', '2014/2015', '2015/2016', '2015/2015', '2016/2016',\n",
              "       '2020/2021', '2020/2020', '2016/2017', '2017/2017', '2017/2018',\n",
              "       '2018/2019', '2018/2018', '2019/2019', '2019/2020', '2021/2021',\n",
              "       '2023/2023', '2023/2024'], dtype=object)"
            ]
          },
          "metadata": {},
          "execution_count": 142
        }
      ]
    },
    {
      "cell_type": "code",
      "source": [
        "top_producao_safra = df.groupby('Safra')['Producao_Estimada'].max().nlargest(10)\n",
        "top_producao_safra"
      ],
      "metadata": {
        "id": "5Btpe1tXFkIR"
      },
      "execution_count": null,
      "outputs": []
    },
    {
      "cell_type": "markdown",
      "source": [
        "### Maior Safra foi relativa ao ano de 2022, com as 3 maiores estimativas de produção"
      ],
      "metadata": {
        "id": "umUxbkxoybdk"
      }
    },
    {
      "cell_type": "markdown",
      "source": [
        "# 1.3. Modelagem utilizando PyCaret"
      ],
      "metadata": {
        "id": "-wMe5Iqh2XRm"
      }
    },
    {
      "cell_type": "code",
      "source": [
        "from pycaret.regression import *"
      ],
      "metadata": {
        "id": "8o_6FT462u23"
      },
      "execution_count": 144,
      "outputs": []
    },
    {
      "cell_type": "code",
      "source": [
        "df.drop(columns=['Safra'], inplace=True)"
      ],
      "metadata": {
        "id": "fxlr8bQM5Q18"
      },
      "execution_count": 145,
      "outputs": []
    },
    {
      "cell_type": "code",
      "source": [
        "s = setup(  data = df, \n",
        "            target = 'Producao_Estimada',  \n",
        "            remove_outliers = True,\n",
        "            normalize = True, \n",
        "            categorical_features = ['Especie', 'Categoria', 'Cultivar', 'Municipio', 'UF'],\n",
        "            session_id = 123\n",
        "            )"
      ],
      "metadata": {
        "id": "PcCS_37T212W",
        "colab": {
          "base_uri": "https://localhost:8080/",
          "height": 936
        },
        "outputId": "8a586e9c-5fbd-4318-aa79-656e034cb4e7"
      },
      "execution_count": 147,
      "outputs": [
        {
          "output_type": "stream",
          "name": "stderr",
          "text": [
            "/usr/local/lib/python3.10/dist-packages/sklearn/base.py:439: UserWarning: X does not have valid feature names, but IsolationForest was fitted with feature names\n",
            "  warnings.warn(\n",
            "/usr/local/lib/python3.10/dist-packages/sklearn/base.py:439: UserWarning: X does not have valid feature names, but IsolationForest was fitted with feature names\n",
            "  warnings.warn(\n"
          ]
        },
        {
          "output_type": "display_data",
          "data": {
            "text/plain": [
              "<pandas.io.formats.style.Styler at 0x7f02c6de0160>"
            ],
            "text/html": [
              "<style type=\"text/css\">\n",
              "#T_f049d_row9_col1, #T_f049d_row15_col1, #T_f049d_row17_col1 {\n",
              "  background-color: lightgreen;\n",
              "}\n",
              "</style>\n",
              "<table id=\"T_f049d\" class=\"dataframe\">\n",
              "  <thead>\n",
              "    <tr>\n",
              "      <th class=\"blank level0\" >&nbsp;</th>\n",
              "      <th id=\"T_f049d_level0_col0\" class=\"col_heading level0 col0\" >Description</th>\n",
              "      <th id=\"T_f049d_level0_col1\" class=\"col_heading level0 col1\" >Value</th>\n",
              "    </tr>\n",
              "  </thead>\n",
              "  <tbody>\n",
              "    <tr>\n",
              "      <th id=\"T_f049d_level0_row0\" class=\"row_heading level0 row0\" >0</th>\n",
              "      <td id=\"T_f049d_row0_col0\" class=\"data row0 col0\" >Session id</td>\n",
              "      <td id=\"T_f049d_row0_col1\" class=\"data row0 col1\" >123</td>\n",
              "    </tr>\n",
              "    <tr>\n",
              "      <th id=\"T_f049d_level0_row1\" class=\"row_heading level0 row1\" >1</th>\n",
              "      <td id=\"T_f049d_row1_col0\" class=\"data row1 col0\" >Target</td>\n",
              "      <td id=\"T_f049d_row1_col1\" class=\"data row1 col1\" >Producao_Estimada</td>\n",
              "    </tr>\n",
              "    <tr>\n",
              "      <th id=\"T_f049d_level0_row2\" class=\"row_heading level0 row2\" >2</th>\n",
              "      <td id=\"T_f049d_row2_col0\" class=\"data row2 col0\" >Target type</td>\n",
              "      <td id=\"T_f049d_row2_col1\" class=\"data row2 col1\" >Regression</td>\n",
              "    </tr>\n",
              "    <tr>\n",
              "      <th id=\"T_f049d_level0_row3\" class=\"row_heading level0 row3\" >3</th>\n",
              "      <td id=\"T_f049d_row3_col0\" class=\"data row3 col0\" >Original data shape</td>\n",
              "      <td id=\"T_f049d_row3_col1\" class=\"data row3 col1\" >(442174, 10)</td>\n",
              "    </tr>\n",
              "    <tr>\n",
              "      <th id=\"T_f049d_level0_row4\" class=\"row_heading level0 row4\" >4</th>\n",
              "      <td id=\"T_f049d_row4_col0\" class=\"data row4 col0\" >Transformed data shape</td>\n",
              "      <td id=\"T_f049d_row4_col1\" class=\"data row4 col1\" >(426698, 16)</td>\n",
              "    </tr>\n",
              "    <tr>\n",
              "      <th id=\"T_f049d_level0_row5\" class=\"row_heading level0 row5\" >5</th>\n",
              "      <td id=\"T_f049d_row5_col0\" class=\"data row5 col0\" >Transformed train set shape</td>\n",
              "      <td id=\"T_f049d_row5_col1\" class=\"data row5 col1\" >(294045, 16)</td>\n",
              "    </tr>\n",
              "    <tr>\n",
              "      <th id=\"T_f049d_level0_row6\" class=\"row_heading level0 row6\" >6</th>\n",
              "      <td id=\"T_f049d_row6_col0\" class=\"data row6 col0\" >Transformed test set shape</td>\n",
              "      <td id=\"T_f049d_row6_col1\" class=\"data row6 col1\" >(132653, 16)</td>\n",
              "    </tr>\n",
              "    <tr>\n",
              "      <th id=\"T_f049d_level0_row7\" class=\"row_heading level0 row7\" >7</th>\n",
              "      <td id=\"T_f049d_row7_col0\" class=\"data row7 col0\" >Numeric features</td>\n",
              "      <td id=\"T_f049d_row7_col1\" class=\"data row7 col1\" >4</td>\n",
              "    </tr>\n",
              "    <tr>\n",
              "      <th id=\"T_f049d_level0_row8\" class=\"row_heading level0 row8\" >8</th>\n",
              "      <td id=\"T_f049d_row8_col0\" class=\"data row8 col0\" >Categorical features</td>\n",
              "      <td id=\"T_f049d_row8_col1\" class=\"data row8 col1\" >5</td>\n",
              "    </tr>\n",
              "    <tr>\n",
              "      <th id=\"T_f049d_level0_row9\" class=\"row_heading level0 row9\" >9</th>\n",
              "      <td id=\"T_f049d_row9_col0\" class=\"data row9 col0\" >Preprocess</td>\n",
              "      <td id=\"T_f049d_row9_col1\" class=\"data row9 col1\" >True</td>\n",
              "    </tr>\n",
              "    <tr>\n",
              "      <th id=\"T_f049d_level0_row10\" class=\"row_heading level0 row10\" >10</th>\n",
              "      <td id=\"T_f049d_row10_col0\" class=\"data row10 col0\" >Imputation type</td>\n",
              "      <td id=\"T_f049d_row10_col1\" class=\"data row10 col1\" >simple</td>\n",
              "    </tr>\n",
              "    <tr>\n",
              "      <th id=\"T_f049d_level0_row11\" class=\"row_heading level0 row11\" >11</th>\n",
              "      <td id=\"T_f049d_row11_col0\" class=\"data row11 col0\" >Numeric imputation</td>\n",
              "      <td id=\"T_f049d_row11_col1\" class=\"data row11 col1\" >mean</td>\n",
              "    </tr>\n",
              "    <tr>\n",
              "      <th id=\"T_f049d_level0_row12\" class=\"row_heading level0 row12\" >12</th>\n",
              "      <td id=\"T_f049d_row12_col0\" class=\"data row12 col0\" >Categorical imputation</td>\n",
              "      <td id=\"T_f049d_row12_col1\" class=\"data row12 col1\" >mode</td>\n",
              "    </tr>\n",
              "    <tr>\n",
              "      <th id=\"T_f049d_level0_row13\" class=\"row_heading level0 row13\" >13</th>\n",
              "      <td id=\"T_f049d_row13_col0\" class=\"data row13 col0\" >Maximum one-hot encoding</td>\n",
              "      <td id=\"T_f049d_row13_col1\" class=\"data row13 col1\" >25</td>\n",
              "    </tr>\n",
              "    <tr>\n",
              "      <th id=\"T_f049d_level0_row14\" class=\"row_heading level0 row14\" >14</th>\n",
              "      <td id=\"T_f049d_row14_col0\" class=\"data row14 col0\" >Encoding method</td>\n",
              "      <td id=\"T_f049d_row14_col1\" class=\"data row14 col1\" >None</td>\n",
              "    </tr>\n",
              "    <tr>\n",
              "      <th id=\"T_f049d_level0_row15\" class=\"row_heading level0 row15\" >15</th>\n",
              "      <td id=\"T_f049d_row15_col0\" class=\"data row15 col0\" >Remove outliers</td>\n",
              "      <td id=\"T_f049d_row15_col1\" class=\"data row15 col1\" >True</td>\n",
              "    </tr>\n",
              "    <tr>\n",
              "      <th id=\"T_f049d_level0_row16\" class=\"row_heading level0 row16\" >16</th>\n",
              "      <td id=\"T_f049d_row16_col0\" class=\"data row16 col0\" >Outliers threshold</td>\n",
              "      <td id=\"T_f049d_row16_col1\" class=\"data row16 col1\" >0.050000</td>\n",
              "    </tr>\n",
              "    <tr>\n",
              "      <th id=\"T_f049d_level0_row17\" class=\"row_heading level0 row17\" >17</th>\n",
              "      <td id=\"T_f049d_row17_col0\" class=\"data row17 col0\" >Normalize</td>\n",
              "      <td id=\"T_f049d_row17_col1\" class=\"data row17 col1\" >True</td>\n",
              "    </tr>\n",
              "    <tr>\n",
              "      <th id=\"T_f049d_level0_row18\" class=\"row_heading level0 row18\" >18</th>\n",
              "      <td id=\"T_f049d_row18_col0\" class=\"data row18 col0\" >Normalize method</td>\n",
              "      <td id=\"T_f049d_row18_col1\" class=\"data row18 col1\" >zscore</td>\n",
              "    </tr>\n",
              "    <tr>\n",
              "      <th id=\"T_f049d_level0_row19\" class=\"row_heading level0 row19\" >19</th>\n",
              "      <td id=\"T_f049d_row19_col0\" class=\"data row19 col0\" >Fold Generator</td>\n",
              "      <td id=\"T_f049d_row19_col1\" class=\"data row19 col1\" >KFold</td>\n",
              "    </tr>\n",
              "    <tr>\n",
              "      <th id=\"T_f049d_level0_row20\" class=\"row_heading level0 row20\" >20</th>\n",
              "      <td id=\"T_f049d_row20_col0\" class=\"data row20 col0\" >Fold Number</td>\n",
              "      <td id=\"T_f049d_row20_col1\" class=\"data row20 col1\" >10</td>\n",
              "    </tr>\n",
              "    <tr>\n",
              "      <th id=\"T_f049d_level0_row21\" class=\"row_heading level0 row21\" >21</th>\n",
              "      <td id=\"T_f049d_row21_col0\" class=\"data row21 col0\" >CPU Jobs</td>\n",
              "      <td id=\"T_f049d_row21_col1\" class=\"data row21 col1\" >-1</td>\n",
              "    </tr>\n",
              "    <tr>\n",
              "      <th id=\"T_f049d_level0_row22\" class=\"row_heading level0 row22\" >22</th>\n",
              "      <td id=\"T_f049d_row22_col0\" class=\"data row22 col0\" >Use GPU</td>\n",
              "      <td id=\"T_f049d_row22_col1\" class=\"data row22 col1\" >False</td>\n",
              "    </tr>\n",
              "    <tr>\n",
              "      <th id=\"T_f049d_level0_row23\" class=\"row_heading level0 row23\" >23</th>\n",
              "      <td id=\"T_f049d_row23_col0\" class=\"data row23 col0\" >Log Experiment</td>\n",
              "      <td id=\"T_f049d_row23_col1\" class=\"data row23 col1\" >False</td>\n",
              "    </tr>\n",
              "    <tr>\n",
              "      <th id=\"T_f049d_level0_row24\" class=\"row_heading level0 row24\" >24</th>\n",
              "      <td id=\"T_f049d_row24_col0\" class=\"data row24 col0\" >Experiment Name</td>\n",
              "      <td id=\"T_f049d_row24_col1\" class=\"data row24 col1\" >reg-default-name</td>\n",
              "    </tr>\n",
              "    <tr>\n",
              "      <th id=\"T_f049d_level0_row25\" class=\"row_heading level0 row25\" >25</th>\n",
              "      <td id=\"T_f049d_row25_col0\" class=\"data row25 col0\" >USI</td>\n",
              "      <td id=\"T_f049d_row25_col1\" class=\"data row25 col1\" >6ef3</td>\n",
              "    </tr>\n",
              "  </tbody>\n",
              "</table>\n"
            ]
          },
          "metadata": {}
        }
      ]
    },
    {
      "cell_type": "code",
      "source": [
        "models()"
      ],
      "metadata": {
        "colab": {
          "base_uri": "https://localhost:8080/",
          "height": 865
        },
        "id": "n6isCVBB802b",
        "outputId": "9db71c2d-2c9d-4ffd-90b6-f6acc2806f34"
      },
      "execution_count": 148,
      "outputs": [
        {
          "output_type": "execute_result",
          "data": {
            "text/plain": [
              "                                       Name  \\\n",
              "ID                                            \n",
              "lr                        Linear Regression   \n",
              "lasso                      Lasso Regression   \n",
              "ridge                      Ridge Regression   \n",
              "en                              Elastic Net   \n",
              "lar                  Least Angle Regression   \n",
              "llar           Lasso Least Angle Regression   \n",
              "omp             Orthogonal Matching Pursuit   \n",
              "br                           Bayesian Ridge   \n",
              "ard       Automatic Relevance Determination   \n",
              "par            Passive Aggressive Regressor   \n",
              "ransac              Random Sample Consensus   \n",
              "tr                       TheilSen Regressor   \n",
              "huber                       Huber Regressor   \n",
              "kr                             Kernel Ridge   \n",
              "svm               Support Vector Regression   \n",
              "knn                   K Neighbors Regressor   \n",
              "dt                  Decision Tree Regressor   \n",
              "rf                  Random Forest Regressor   \n",
              "et                    Extra Trees Regressor   \n",
              "ada                      AdaBoost Regressor   \n",
              "gbr             Gradient Boosting Regressor   \n",
              "mlp                           MLP Regressor   \n",
              "xgboost           Extreme Gradient Boosting   \n",
              "lightgbm    Light Gradient Boosting Machine   \n",
              "dummy                       Dummy Regressor   \n",
              "\n",
              "                                                  Reference  Turbo  \n",
              "ID                                                                  \n",
              "lr              sklearn.linear_model._base.LinearRegression   True  \n",
              "lasso        sklearn.linear_model._coordinate_descent.Lasso   True  \n",
              "ridge                     sklearn.linear_model._ridge.Ridge   True  \n",
              "en        sklearn.linear_model._coordinate_descent.Elast...   True  \n",
              "lar                  sklearn.linear_model._least_angle.Lars   True  \n",
              "llar            sklearn.linear_model._least_angle.LassoLars   True  \n",
              "omp       sklearn.linear_model._omp.OrthogonalMatchingPu...   True  \n",
              "br                sklearn.linear_model._bayes.BayesianRidge   True  \n",
              "ard               sklearn.linear_model._bayes.ARDRegression  False  \n",
              "par       sklearn.linear_model._passive_aggressive.Passi...   True  \n",
              "ransac         sklearn.linear_model._ransac.RANSACRegressor  False  \n",
              "tr        sklearn.linear_model._theil_sen.TheilSenRegressor  False  \n",
              "huber            sklearn.linear_model._huber.HuberRegressor   True  \n",
              "kr                         sklearn.kernel_ridge.KernelRidge  False  \n",
              "svm                                sklearn.svm._classes.SVR  False  \n",
              "knn       sklearn.neighbors._regression.KNeighborsRegressor   True  \n",
              "dt              sklearn.tree._classes.DecisionTreeRegressor   True  \n",
              "rf           sklearn.ensemble._forest.RandomForestRegressor   True  \n",
              "et             sklearn.ensemble._forest.ExtraTreesRegressor   True  \n",
              "ada       sklearn.ensemble._weight_boosting.AdaBoostRegr...   True  \n",
              "gbr          sklearn.ensemble._gb.GradientBoostingRegressor   True  \n",
              "mlp       sklearn.neural_network._multilayer_perceptron....  False  \n",
              "xgboost                        xgboost.sklearn.XGBRegressor   True  \n",
              "lightgbm                     lightgbm.sklearn.LGBMRegressor   True  \n",
              "dummy                          sklearn.dummy.DummyRegressor   True  "
            ],
            "text/html": [
              "\n",
              "  <div id=\"df-d3ea954d-49ff-4a9d-8fa7-aa7d5084515e\">\n",
              "    <div class=\"colab-df-container\">\n",
              "      <div>\n",
              "<style scoped>\n",
              "    .dataframe tbody tr th:only-of-type {\n",
              "        vertical-align: middle;\n",
              "    }\n",
              "\n",
              "    .dataframe tbody tr th {\n",
              "        vertical-align: top;\n",
              "    }\n",
              "\n",
              "    .dataframe thead th {\n",
              "        text-align: right;\n",
              "    }\n",
              "</style>\n",
              "<table border=\"1\" class=\"dataframe\">\n",
              "  <thead>\n",
              "    <tr style=\"text-align: right;\">\n",
              "      <th></th>\n",
              "      <th>Name</th>\n",
              "      <th>Reference</th>\n",
              "      <th>Turbo</th>\n",
              "    </tr>\n",
              "    <tr>\n",
              "      <th>ID</th>\n",
              "      <th></th>\n",
              "      <th></th>\n",
              "      <th></th>\n",
              "    </tr>\n",
              "  </thead>\n",
              "  <tbody>\n",
              "    <tr>\n",
              "      <th>lr</th>\n",
              "      <td>Linear Regression</td>\n",
              "      <td>sklearn.linear_model._base.LinearRegression</td>\n",
              "      <td>True</td>\n",
              "    </tr>\n",
              "    <tr>\n",
              "      <th>lasso</th>\n",
              "      <td>Lasso Regression</td>\n",
              "      <td>sklearn.linear_model._coordinate_descent.Lasso</td>\n",
              "      <td>True</td>\n",
              "    </tr>\n",
              "    <tr>\n",
              "      <th>ridge</th>\n",
              "      <td>Ridge Regression</td>\n",
              "      <td>sklearn.linear_model._ridge.Ridge</td>\n",
              "      <td>True</td>\n",
              "    </tr>\n",
              "    <tr>\n",
              "      <th>en</th>\n",
              "      <td>Elastic Net</td>\n",
              "      <td>sklearn.linear_model._coordinate_descent.Elast...</td>\n",
              "      <td>True</td>\n",
              "    </tr>\n",
              "    <tr>\n",
              "      <th>lar</th>\n",
              "      <td>Least Angle Regression</td>\n",
              "      <td>sklearn.linear_model._least_angle.Lars</td>\n",
              "      <td>True</td>\n",
              "    </tr>\n",
              "    <tr>\n",
              "      <th>llar</th>\n",
              "      <td>Lasso Least Angle Regression</td>\n",
              "      <td>sklearn.linear_model._least_angle.LassoLars</td>\n",
              "      <td>True</td>\n",
              "    </tr>\n",
              "    <tr>\n",
              "      <th>omp</th>\n",
              "      <td>Orthogonal Matching Pursuit</td>\n",
              "      <td>sklearn.linear_model._omp.OrthogonalMatchingPu...</td>\n",
              "      <td>True</td>\n",
              "    </tr>\n",
              "    <tr>\n",
              "      <th>br</th>\n",
              "      <td>Bayesian Ridge</td>\n",
              "      <td>sklearn.linear_model._bayes.BayesianRidge</td>\n",
              "      <td>True</td>\n",
              "    </tr>\n",
              "    <tr>\n",
              "      <th>ard</th>\n",
              "      <td>Automatic Relevance Determination</td>\n",
              "      <td>sklearn.linear_model._bayes.ARDRegression</td>\n",
              "      <td>False</td>\n",
              "    </tr>\n",
              "    <tr>\n",
              "      <th>par</th>\n",
              "      <td>Passive Aggressive Regressor</td>\n",
              "      <td>sklearn.linear_model._passive_aggressive.Passi...</td>\n",
              "      <td>True</td>\n",
              "    </tr>\n",
              "    <tr>\n",
              "      <th>ransac</th>\n",
              "      <td>Random Sample Consensus</td>\n",
              "      <td>sklearn.linear_model._ransac.RANSACRegressor</td>\n",
              "      <td>False</td>\n",
              "    </tr>\n",
              "    <tr>\n",
              "      <th>tr</th>\n",
              "      <td>TheilSen Regressor</td>\n",
              "      <td>sklearn.linear_model._theil_sen.TheilSenRegressor</td>\n",
              "      <td>False</td>\n",
              "    </tr>\n",
              "    <tr>\n",
              "      <th>huber</th>\n",
              "      <td>Huber Regressor</td>\n",
              "      <td>sklearn.linear_model._huber.HuberRegressor</td>\n",
              "      <td>True</td>\n",
              "    </tr>\n",
              "    <tr>\n",
              "      <th>kr</th>\n",
              "      <td>Kernel Ridge</td>\n",
              "      <td>sklearn.kernel_ridge.KernelRidge</td>\n",
              "      <td>False</td>\n",
              "    </tr>\n",
              "    <tr>\n",
              "      <th>svm</th>\n",
              "      <td>Support Vector Regression</td>\n",
              "      <td>sklearn.svm._classes.SVR</td>\n",
              "      <td>False</td>\n",
              "    </tr>\n",
              "    <tr>\n",
              "      <th>knn</th>\n",
              "      <td>K Neighbors Regressor</td>\n",
              "      <td>sklearn.neighbors._regression.KNeighborsRegressor</td>\n",
              "      <td>True</td>\n",
              "    </tr>\n",
              "    <tr>\n",
              "      <th>dt</th>\n",
              "      <td>Decision Tree Regressor</td>\n",
              "      <td>sklearn.tree._classes.DecisionTreeRegressor</td>\n",
              "      <td>True</td>\n",
              "    </tr>\n",
              "    <tr>\n",
              "      <th>rf</th>\n",
              "      <td>Random Forest Regressor</td>\n",
              "      <td>sklearn.ensemble._forest.RandomForestRegressor</td>\n",
              "      <td>True</td>\n",
              "    </tr>\n",
              "    <tr>\n",
              "      <th>et</th>\n",
              "      <td>Extra Trees Regressor</td>\n",
              "      <td>sklearn.ensemble._forest.ExtraTreesRegressor</td>\n",
              "      <td>True</td>\n",
              "    </tr>\n",
              "    <tr>\n",
              "      <th>ada</th>\n",
              "      <td>AdaBoost Regressor</td>\n",
              "      <td>sklearn.ensemble._weight_boosting.AdaBoostRegr...</td>\n",
              "      <td>True</td>\n",
              "    </tr>\n",
              "    <tr>\n",
              "      <th>gbr</th>\n",
              "      <td>Gradient Boosting Regressor</td>\n",
              "      <td>sklearn.ensemble._gb.GradientBoostingRegressor</td>\n",
              "      <td>True</td>\n",
              "    </tr>\n",
              "    <tr>\n",
              "      <th>mlp</th>\n",
              "      <td>MLP Regressor</td>\n",
              "      <td>sklearn.neural_network._multilayer_perceptron....</td>\n",
              "      <td>False</td>\n",
              "    </tr>\n",
              "    <tr>\n",
              "      <th>xgboost</th>\n",
              "      <td>Extreme Gradient Boosting</td>\n",
              "      <td>xgboost.sklearn.XGBRegressor</td>\n",
              "      <td>True</td>\n",
              "    </tr>\n",
              "    <tr>\n",
              "      <th>lightgbm</th>\n",
              "      <td>Light Gradient Boosting Machine</td>\n",
              "      <td>lightgbm.sklearn.LGBMRegressor</td>\n",
              "      <td>True</td>\n",
              "    </tr>\n",
              "    <tr>\n",
              "      <th>dummy</th>\n",
              "      <td>Dummy Regressor</td>\n",
              "      <td>sklearn.dummy.DummyRegressor</td>\n",
              "      <td>True</td>\n",
              "    </tr>\n",
              "  </tbody>\n",
              "</table>\n",
              "</div>\n",
              "      <button class=\"colab-df-convert\" onclick=\"convertToInteractive('df-d3ea954d-49ff-4a9d-8fa7-aa7d5084515e')\"\n",
              "              title=\"Convert this dataframe to an interactive table.\"\n",
              "              style=\"display:none;\">\n",
              "        \n",
              "  <svg xmlns=\"http://www.w3.org/2000/svg\" height=\"24px\"viewBox=\"0 0 24 24\"\n",
              "       width=\"24px\">\n",
              "    <path d=\"M0 0h24v24H0V0z\" fill=\"none\"/>\n",
              "    <path d=\"M18.56 5.44l.94 2.06.94-2.06 2.06-.94-2.06-.94-.94-2.06-.94 2.06-2.06.94zm-11 1L8.5 8.5l.94-2.06 2.06-.94-2.06-.94L8.5 2.5l-.94 2.06-2.06.94zm10 10l.94 2.06.94-2.06 2.06-.94-2.06-.94-.94-2.06-.94 2.06-2.06.94z\"/><path d=\"M17.41 7.96l-1.37-1.37c-.4-.4-.92-.59-1.43-.59-.52 0-1.04.2-1.43.59L10.3 9.45l-7.72 7.72c-.78.78-.78 2.05 0 2.83L4 21.41c.39.39.9.59 1.41.59.51 0 1.02-.2 1.41-.59l7.78-7.78 2.81-2.81c.8-.78.8-2.07 0-2.86zM5.41 20L4 18.59l7.72-7.72 1.47 1.35L5.41 20z\"/>\n",
              "  </svg>\n",
              "      </button>\n",
              "      \n",
              "  <style>\n",
              "    .colab-df-container {\n",
              "      display:flex;\n",
              "      flex-wrap:wrap;\n",
              "      gap: 12px;\n",
              "    }\n",
              "\n",
              "    .colab-df-convert {\n",
              "      background-color: #E8F0FE;\n",
              "      border: none;\n",
              "      border-radius: 50%;\n",
              "      cursor: pointer;\n",
              "      display: none;\n",
              "      fill: #1967D2;\n",
              "      height: 32px;\n",
              "      padding: 0 0 0 0;\n",
              "      width: 32px;\n",
              "    }\n",
              "\n",
              "    .colab-df-convert:hover {\n",
              "      background-color: #E2EBFA;\n",
              "      box-shadow: 0px 1px 2px rgba(60, 64, 67, 0.3), 0px 1px 3px 1px rgba(60, 64, 67, 0.15);\n",
              "      fill: #174EA6;\n",
              "    }\n",
              "\n",
              "    [theme=dark] .colab-df-convert {\n",
              "      background-color: #3B4455;\n",
              "      fill: #D2E3FC;\n",
              "    }\n",
              "\n",
              "    [theme=dark] .colab-df-convert:hover {\n",
              "      background-color: #434B5C;\n",
              "      box-shadow: 0px 1px 3px 1px rgba(0, 0, 0, 0.15);\n",
              "      filter: drop-shadow(0px 1px 2px rgba(0, 0, 0, 0.3));\n",
              "      fill: #FFFFFF;\n",
              "    }\n",
              "  </style>\n",
              "\n",
              "      <script>\n",
              "        const buttonEl =\n",
              "          document.querySelector('#df-d3ea954d-49ff-4a9d-8fa7-aa7d5084515e button.colab-df-convert');\n",
              "        buttonEl.style.display =\n",
              "          google.colab.kernel.accessAllowed ? 'block' : 'none';\n",
              "\n",
              "        async function convertToInteractive(key) {\n",
              "          const element = document.querySelector('#df-d3ea954d-49ff-4a9d-8fa7-aa7d5084515e');\n",
              "          const dataTable =\n",
              "            await google.colab.kernel.invokeFunction('convertToInteractive',\n",
              "                                                     [key], {});\n",
              "          if (!dataTable) return;\n",
              "\n",
              "          const docLinkHtml = 'Like what you see? Visit the ' +\n",
              "            '<a target=\"_blank\" href=https://colab.research.google.com/notebooks/data_table.ipynb>data table notebook</a>'\n",
              "            + ' to learn more about interactive tables.';\n",
              "          element.innerHTML = '';\n",
              "          dataTable['output_type'] = 'display_data';\n",
              "          await google.colab.output.renderOutput(dataTable, element);\n",
              "          const docLink = document.createElement('div');\n",
              "          docLink.innerHTML = docLinkHtml;\n",
              "          element.appendChild(docLink);\n",
              "        }\n",
              "      </script>\n",
              "    </div>\n",
              "  </div>\n",
              "  "
            ]
          },
          "metadata": {},
          "execution_count": 148
        }
      ]
    },
    {
      "cell_type": "code",
      "source": [
        "best_model = compare_models()"
      ],
      "metadata": {
        "colab": {
          "base_uri": "https://localhost:8080/",
          "height": 645,
          "referenced_widgets": [
            "8605c7e9400f45f29e1abee549b71a69",
            "3d7f41c5c2c9457791c33b140788a2e3",
            "bd0799d2f16f4ff3870a59fd68356ac9",
            "c5c7f05915524aa090a684d846647c07",
            "7355b421bff147f3aac297c8231d554b",
            "1a0fc9dd36f348619c704ff22d98ceb0",
            "abdf8afa6c9747fb99ce94f458c8a32e",
            "3481297b94b04e53a423472baf6d3b4b",
            "e7c8aaa4fc054d049ebf4270cbc0cc8b",
            "e68a8d93f5034e92bd487d298767e061",
            "e8d485ed36e74d82b3d2f947be8cd38f"
          ]
        },
        "id": "vkWDffiD867n",
        "outputId": "b3d5da29-a567-42f1-88cd-c43e2bfbf125"
      },
      "execution_count": 149,
      "outputs": [
        {
          "output_type": "display_data",
          "data": {
            "text/plain": [
              "<IPython.core.display.HTML object>"
            ],
            "text/html": []
          },
          "metadata": {}
        },
        {
          "output_type": "display_data",
          "data": {
            "text/plain": [
              "<pandas.io.formats.style.Styler at 0x7f02b070f670>"
            ],
            "text/html": [
              "<style type=\"text/css\">\n",
              "#T_32c53 th {\n",
              "  text-align: left;\n",
              "}\n",
              "#T_32c53_row0_col0, #T_32c53_row0_col1, #T_32c53_row0_col5, #T_32c53_row0_col6, #T_32c53_row1_col0, #T_32c53_row1_col1, #T_32c53_row1_col2, #T_32c53_row1_col3, #T_32c53_row1_col4, #T_32c53_row1_col5, #T_32c53_row1_col6, #T_32c53_row2_col0, #T_32c53_row2_col1, #T_32c53_row2_col2, #T_32c53_row2_col3, #T_32c53_row2_col4, #T_32c53_row2_col5, #T_32c53_row2_col6, #T_32c53_row3_col0, #T_32c53_row3_col1, #T_32c53_row3_col2, #T_32c53_row3_col3, #T_32c53_row3_col4, #T_32c53_row3_col5, #T_32c53_row3_col6, #T_32c53_row4_col0, #T_32c53_row4_col1, #T_32c53_row4_col2, #T_32c53_row4_col3, #T_32c53_row4_col4, #T_32c53_row4_col5, #T_32c53_row4_col6, #T_32c53_row5_col0, #T_32c53_row5_col1, #T_32c53_row5_col2, #T_32c53_row5_col3, #T_32c53_row5_col4, #T_32c53_row5_col5, #T_32c53_row5_col6, #T_32c53_row6_col0, #T_32c53_row6_col1, #T_32c53_row6_col2, #T_32c53_row6_col3, #T_32c53_row6_col4, #T_32c53_row6_col5, #T_32c53_row6_col6, #T_32c53_row7_col0, #T_32c53_row7_col1, #T_32c53_row7_col2, #T_32c53_row7_col3, #T_32c53_row7_col4, #T_32c53_row7_col5, #T_32c53_row7_col6, #T_32c53_row8_col0, #T_32c53_row8_col1, #T_32c53_row8_col2, #T_32c53_row8_col3, #T_32c53_row8_col4, #T_32c53_row8_col5, #T_32c53_row8_col6, #T_32c53_row9_col0, #T_32c53_row9_col1, #T_32c53_row9_col2, #T_32c53_row9_col3, #T_32c53_row9_col4, #T_32c53_row9_col5, #T_32c53_row10_col0, #T_32c53_row10_col1, #T_32c53_row10_col2, #T_32c53_row10_col3, #T_32c53_row10_col4, #T_32c53_row10_col5, #T_32c53_row10_col6, #T_32c53_row11_col0, #T_32c53_row11_col2, #T_32c53_row11_col3, #T_32c53_row11_col4, #T_32c53_row11_col5, #T_32c53_row11_col6, #T_32c53_row12_col0, #T_32c53_row12_col1, #T_32c53_row12_col2, #T_32c53_row12_col3, #T_32c53_row12_col4, #T_32c53_row12_col5, #T_32c53_row12_col6, #T_32c53_row13_col0, #T_32c53_row13_col1, #T_32c53_row13_col2, #T_32c53_row13_col3, #T_32c53_row13_col4, #T_32c53_row13_col5, #T_32c53_row13_col6, #T_32c53_row14_col0, #T_32c53_row14_col1, #T_32c53_row14_col2, #T_32c53_row14_col3, #T_32c53_row14_col4, #T_32c53_row14_col5, #T_32c53_row14_col6, #T_32c53_row15_col0, #T_32c53_row15_col1, #T_32c53_row15_col2, #T_32c53_row15_col3, #T_32c53_row15_col4, #T_32c53_row15_col5, #T_32c53_row15_col6, #T_32c53_row16_col0, #T_32c53_row16_col1, #T_32c53_row16_col2, #T_32c53_row16_col3, #T_32c53_row16_col4, #T_32c53_row16_col5, #T_32c53_row16_col6, #T_32c53_row17_col0, #T_32c53_row17_col1, #T_32c53_row17_col2, #T_32c53_row17_col3, #T_32c53_row17_col4, #T_32c53_row17_col6, #T_32c53_row18_col0, #T_32c53_row18_col1, #T_32c53_row18_col2, #T_32c53_row18_col3, #T_32c53_row18_col4, #T_32c53_row18_col5, #T_32c53_row18_col6 {\n",
              "  text-align: left;\n",
              "}\n",
              "#T_32c53_row0_col2, #T_32c53_row0_col3, #T_32c53_row0_col4, #T_32c53_row9_col6, #T_32c53_row11_col1, #T_32c53_row17_col5 {\n",
              "  text-align: left;\n",
              "  background-color: yellow;\n",
              "}\n",
              "#T_32c53_row0_col7, #T_32c53_row1_col7, #T_32c53_row2_col7, #T_32c53_row3_col7, #T_32c53_row4_col7, #T_32c53_row5_col7, #T_32c53_row6_col7, #T_32c53_row7_col7, #T_32c53_row9_col7, #T_32c53_row10_col7, #T_32c53_row11_col7, #T_32c53_row12_col7, #T_32c53_row13_col7, #T_32c53_row14_col7, #T_32c53_row15_col7, #T_32c53_row16_col7, #T_32c53_row17_col7, #T_32c53_row18_col7 {\n",
              "  text-align: left;\n",
              "  background-color: lightgrey;\n",
              "}\n",
              "#T_32c53_row8_col7 {\n",
              "  text-align: left;\n",
              "  background-color: yellow;\n",
              "  background-color: lightgrey;\n",
              "}\n",
              "</style>\n",
              "<table id=\"T_32c53\" class=\"dataframe\">\n",
              "  <thead>\n",
              "    <tr>\n",
              "      <th class=\"blank level0\" >&nbsp;</th>\n",
              "      <th id=\"T_32c53_level0_col0\" class=\"col_heading level0 col0\" >Model</th>\n",
              "      <th id=\"T_32c53_level0_col1\" class=\"col_heading level0 col1\" >MAE</th>\n",
              "      <th id=\"T_32c53_level0_col2\" class=\"col_heading level0 col2\" >MSE</th>\n",
              "      <th id=\"T_32c53_level0_col3\" class=\"col_heading level0 col3\" >RMSE</th>\n",
              "      <th id=\"T_32c53_level0_col4\" class=\"col_heading level0 col4\" >R2</th>\n",
              "      <th id=\"T_32c53_level0_col5\" class=\"col_heading level0 col5\" >RMSLE</th>\n",
              "      <th id=\"T_32c53_level0_col6\" class=\"col_heading level0 col6\" >MAPE</th>\n",
              "      <th id=\"T_32c53_level0_col7\" class=\"col_heading level0 col7\" >TT (Sec)</th>\n",
              "    </tr>\n",
              "  </thead>\n",
              "  <tbody>\n",
              "    <tr>\n",
              "      <th id=\"T_32c53_level0_row0\" class=\"row_heading level0 row0\" >lightgbm</th>\n",
              "      <td id=\"T_32c53_row0_col0\" class=\"data row0 col0\" >Light Gradient Boosting Machine</td>\n",
              "      <td id=\"T_32c53_row0_col1\" class=\"data row0 col1\" >358.4243</td>\n",
              "      <td id=\"T_32c53_row0_col2\" class=\"data row0 col2\" >59335409.3228</td>\n",
              "      <td id=\"T_32c53_row0_col3\" class=\"data row0 col3\" >7558.9927</td>\n",
              "      <td id=\"T_32c53_row0_col4\" class=\"data row0 col4\" >0.0685</td>\n",
              "      <td id=\"T_32c53_row0_col5\" class=\"data row0 col5\" >1.0698</td>\n",
              "      <td id=\"T_32c53_row0_col6\" class=\"data row0 col6\" >443.9758</td>\n",
              "      <td id=\"T_32c53_row0_col7\" class=\"data row0 col7\" >3.2920</td>\n",
              "    </tr>\n",
              "    <tr>\n",
              "      <th id=\"T_32c53_level0_row1\" class=\"row_heading level0 row1\" >et</th>\n",
              "      <td id=\"T_32c53_row1_col0\" class=\"data row1 col0\" >Extra Trees Regressor</td>\n",
              "      <td id=\"T_32c53_row1_col1\" class=\"data row1 col1\" >339.4385</td>\n",
              "      <td id=\"T_32c53_row1_col2\" class=\"data row1 col2\" >60977227.9661</td>\n",
              "      <td id=\"T_32c53_row1_col3\" class=\"data row1 col3\" >7643.9285</td>\n",
              "      <td id=\"T_32c53_row1_col4\" class=\"data row1 col4\" >0.0474</td>\n",
              "      <td id=\"T_32c53_row1_col5\" class=\"data row1 col5\" >0.6657</td>\n",
              "      <td id=\"T_32c53_row1_col6\" class=\"data row1 col6\" >321.7856</td>\n",
              "      <td id=\"T_32c53_row1_col7\" class=\"data row1 col7\" >209.4490</td>\n",
              "    </tr>\n",
              "    <tr>\n",
              "      <th id=\"T_32c53_level0_row2\" class=\"row_heading level0 row2\" >ridge</th>\n",
              "      <td id=\"T_32c53_row2_col0\" class=\"data row2 col0\" >Ridge Regression</td>\n",
              "      <td id=\"T_32c53_row2_col1\" class=\"data row2 col1\" >285.3538</td>\n",
              "      <td id=\"T_32c53_row2_col2\" class=\"data row2 col2\" >64268072.6013</td>\n",
              "      <td id=\"T_32c53_row2_col3\" class=\"data row2 col3\" >7837.4759</td>\n",
              "      <td id=\"T_32c53_row2_col4\" class=\"data row2 col4\" >0.0096</td>\n",
              "      <td id=\"T_32c53_row2_col5\" class=\"data row2 col5\" >1.3116</td>\n",
              "      <td id=\"T_32c53_row2_col6\" class=\"data row2 col6\" >375.9630</td>\n",
              "      <td id=\"T_32c53_row2_col7\" class=\"data row2 col7\" >2.0200</td>\n",
              "    </tr>\n",
              "    <tr>\n",
              "      <th id=\"T_32c53_level0_row3\" class=\"row_heading level0 row3\" >lar</th>\n",
              "      <td id=\"T_32c53_row3_col0\" class=\"data row3 col0\" >Least Angle Regression</td>\n",
              "      <td id=\"T_32c53_row3_col1\" class=\"data row3 col1\" >285.3541</td>\n",
              "      <td id=\"T_32c53_row3_col2\" class=\"data row3 col2\" >64268072.0100</td>\n",
              "      <td id=\"T_32c53_row3_col3\" class=\"data row3 col3\" >7837.4758</td>\n",
              "      <td id=\"T_32c53_row3_col4\" class=\"data row3 col4\" >0.0096</td>\n",
              "      <td id=\"T_32c53_row3_col5\" class=\"data row3 col5\" >1.3116</td>\n",
              "      <td id=\"T_32c53_row3_col6\" class=\"data row3 col6\" >375.9639</td>\n",
              "      <td id=\"T_32c53_row3_col7\" class=\"data row3 col7\" >1.2490</td>\n",
              "    </tr>\n",
              "    <tr>\n",
              "      <th id=\"T_32c53_level0_row4\" class=\"row_heading level0 row4\" >lr</th>\n",
              "      <td id=\"T_32c53_row4_col0\" class=\"data row4 col0\" >Linear Regression</td>\n",
              "      <td id=\"T_32c53_row4_col1\" class=\"data row4 col1\" >285.3470</td>\n",
              "      <td id=\"T_32c53_row4_col2\" class=\"data row4 col2\" >64268042.5829</td>\n",
              "      <td id=\"T_32c53_row4_col3\" class=\"data row4 col3\" >7837.4720</td>\n",
              "      <td id=\"T_32c53_row4_col4\" class=\"data row4 col4\" >0.0096</td>\n",
              "      <td id=\"T_32c53_row4_col5\" class=\"data row4 col5\" >1.3116</td>\n",
              "      <td id=\"T_32c53_row4_col6\" class=\"data row4 col6\" >376.0453</td>\n",
              "      <td id=\"T_32c53_row4_col7\" class=\"data row4 col7\" >19.7170</td>\n",
              "    </tr>\n",
              "    <tr>\n",
              "      <th id=\"T_32c53_level0_row5\" class=\"row_heading level0 row5\" >lasso</th>\n",
              "      <td id=\"T_32c53_row5_col0\" class=\"data row5 col0\" >Lasso Regression</td>\n",
              "      <td id=\"T_32c53_row5_col1\" class=\"data row5 col1\" >284.1508</td>\n",
              "      <td id=\"T_32c53_row5_col2\" class=\"data row5 col2\" >64270123.9276</td>\n",
              "      <td id=\"T_32c53_row5_col3\" class=\"data row5 col3\" >7837.5879</td>\n",
              "      <td id=\"T_32c53_row5_col4\" class=\"data row5 col4\" >0.0095</td>\n",
              "      <td id=\"T_32c53_row5_col5\" class=\"data row5 col5\" >1.3033</td>\n",
              "      <td id=\"T_32c53_row5_col6\" class=\"data row5 col6\" >369.7899</td>\n",
              "      <td id=\"T_32c53_row5_col7\" class=\"data row5 col7\" >18.6730</td>\n",
              "    </tr>\n",
              "    <tr>\n",
              "      <th id=\"T_32c53_level0_row6\" class=\"row_heading level0 row6\" >llar</th>\n",
              "      <td id=\"T_32c53_row6_col0\" class=\"data row6 col0\" >Lasso Least Angle Regression</td>\n",
              "      <td id=\"T_32c53_row6_col1\" class=\"data row6 col1\" >284.1511</td>\n",
              "      <td id=\"T_32c53_row6_col2\" class=\"data row6 col2\" >64270121.4306</td>\n",
              "      <td id=\"T_32c53_row6_col3\" class=\"data row6 col3\" >7837.5877</td>\n",
              "      <td id=\"T_32c53_row6_col4\" class=\"data row6 col4\" >0.0095</td>\n",
              "      <td id=\"T_32c53_row6_col5\" class=\"data row6 col5\" >1.3033</td>\n",
              "      <td id=\"T_32c53_row6_col6\" class=\"data row6 col6\" >370.0899</td>\n",
              "      <td id=\"T_32c53_row6_col7\" class=\"data row6 col7\" >1.2240</td>\n",
              "    </tr>\n",
              "    <tr>\n",
              "      <th id=\"T_32c53_level0_row7\" class=\"row_heading level0 row7\" >br</th>\n",
              "      <td id=\"T_32c53_row7_col0\" class=\"data row7 col0\" >Bayesian Ridge</td>\n",
              "      <td id=\"T_32c53_row7_col1\" class=\"data row7 col1\" >284.6940</td>\n",
              "      <td id=\"T_32c53_row7_col2\" class=\"data row7 col2\" >64269209.6480</td>\n",
              "      <td id=\"T_32c53_row7_col3\" class=\"data row7 col3\" >7837.5489</td>\n",
              "      <td id=\"T_32c53_row7_col4\" class=\"data row7 col4\" >0.0095</td>\n",
              "      <td id=\"T_32c53_row7_col5\" class=\"data row7 col5\" >1.3060</td>\n",
              "      <td id=\"T_32c53_row7_col6\" class=\"data row7 col6\" >374.2886</td>\n",
              "      <td id=\"T_32c53_row7_col7\" class=\"data row7 col7\" >1.3810</td>\n",
              "    </tr>\n",
              "    <tr>\n",
              "      <th id=\"T_32c53_level0_row8\" class=\"row_heading level0 row8\" >en</th>\n",
              "      <td id=\"T_32c53_row8_col0\" class=\"data row8 col0\" >Elastic Net</td>\n",
              "      <td id=\"T_32c53_row8_col1\" class=\"data row8 col1\" >278.2958</td>\n",
              "      <td id=\"T_32c53_row8_col2\" class=\"data row8 col2\" >64360103.7194</td>\n",
              "      <td id=\"T_32c53_row8_col3\" class=\"data row8 col3\" >7843.2379</td>\n",
              "      <td id=\"T_32c53_row8_col4\" class=\"data row8 col4\" >0.0081</td>\n",
              "      <td id=\"T_32c53_row8_col5\" class=\"data row8 col5\" >1.2058</td>\n",
              "      <td id=\"T_32c53_row8_col6\" class=\"data row8 col6\" >266.0096</td>\n",
              "      <td id=\"T_32c53_row8_col7\" class=\"data row8 col7\" >1.1940</td>\n",
              "    </tr>\n",
              "    <tr>\n",
              "      <th id=\"T_32c53_level0_row9\" class=\"row_heading level0 row9\" >knn</th>\n",
              "      <td id=\"T_32c53_row9_col0\" class=\"data row9 col0\" >K Neighbors Regressor</td>\n",
              "      <td id=\"T_32c53_row9_col1\" class=\"data row9 col1\" >246.3125</td>\n",
              "      <td id=\"T_32c53_row9_col2\" class=\"data row9 col2\" >64932759.0000</td>\n",
              "      <td id=\"T_32c53_row9_col3\" class=\"data row9 col3\" >7860.6350</td>\n",
              "      <td id=\"T_32c53_row9_col4\" class=\"data row9 col4\" >0.0067</td>\n",
              "      <td id=\"T_32c53_row9_col5\" class=\"data row9 col5\" >0.6526</td>\n",
              "      <td id=\"T_32c53_row9_col6\" class=\"data row9 col6\" >119.6989</td>\n",
              "      <td id=\"T_32c53_row9_col7\" class=\"data row9 col7\" >120.4270</td>\n",
              "    </tr>\n",
              "    <tr>\n",
              "      <th id=\"T_32c53_level0_row10\" class=\"row_heading level0 row10\" >par</th>\n",
              "      <td id=\"T_32c53_row10_col0\" class=\"data row10 col0\" >Passive Aggressive Regressor</td>\n",
              "      <td id=\"T_32c53_row10_col1\" class=\"data row10 col1\" >225.0818</td>\n",
              "      <td id=\"T_32c53_row10_col2\" class=\"data row10 col2\" >64805108.3520</td>\n",
              "      <td id=\"T_32c53_row10_col3\" class=\"data row10 col3\" >7869.2255</td>\n",
              "      <td id=\"T_32c53_row10_col4\" class=\"data row10 col4\" >0.0018</td>\n",
              "      <td id=\"T_32c53_row10_col5\" class=\"data row10 col5\" >0.9748</td>\n",
              "      <td id=\"T_32c53_row10_col6\" class=\"data row10 col6\" >206.3564</td>\n",
              "      <td id=\"T_32c53_row10_col7\" class=\"data row10 col7\" >1.5980</td>\n",
              "    </tr>\n",
              "    <tr>\n",
              "      <th id=\"T_32c53_level0_row11\" class=\"row_heading level0 row11\" >huber</th>\n",
              "      <td id=\"T_32c53_row11_col0\" class=\"data row11 col0\" >Huber Regressor</td>\n",
              "      <td id=\"T_32c53_row11_col1\" class=\"data row11 col1\" >219.6296</td>\n",
              "      <td id=\"T_32c53_row11_col2\" class=\"data row11 col2\" >64803233.1260</td>\n",
              "      <td id=\"T_32c53_row11_col3\" class=\"data row11 col3\" >7869.2769</td>\n",
              "      <td id=\"T_32c53_row11_col4\" class=\"data row11 col4\" >0.0017</td>\n",
              "      <td id=\"T_32c53_row11_col5\" class=\"data row11 col5\" >0.8348</td>\n",
              "      <td id=\"T_32c53_row11_col6\" class=\"data row11 col6\" >120.3687</td>\n",
              "      <td id=\"T_32c53_row11_col7\" class=\"data row11 col7\" >1.8580</td>\n",
              "    </tr>\n",
              "    <tr>\n",
              "      <th id=\"T_32c53_level0_row12\" class=\"row_heading level0 row12\" >omp</th>\n",
              "      <td id=\"T_32c53_row12_col0\" class=\"data row12 col0\" >Orthogonal Matching Pursuit</td>\n",
              "      <td id=\"T_32c53_row12_col1\" class=\"data row12 col1\" >237.5931</td>\n",
              "      <td id=\"T_32c53_row12_col2\" class=\"data row12 col2\" >64839753.9197</td>\n",
              "      <td id=\"T_32c53_row12_col3\" class=\"data row12 col3\" >7871.4221</td>\n",
              "      <td id=\"T_32c53_row12_col4\" class=\"data row12 col4\" >0.0012</td>\n",
              "      <td id=\"T_32c53_row12_col5\" class=\"data row12 col5\" >1.1473</td>\n",
              "      <td id=\"T_32c53_row12_col6\" class=\"data row12 col6\" >404.7728</td>\n",
              "      <td id=\"T_32c53_row12_col7\" class=\"data row12 col7\" >1.2510</td>\n",
              "    </tr>\n",
              "    <tr>\n",
              "      <th id=\"T_32c53_level0_row13\" class=\"row_heading level0 row13\" >dummy</th>\n",
              "      <td id=\"T_32c53_row13_col0\" class=\"data row13 col0\" >Dummy Regressor</td>\n",
              "      <td id=\"T_32c53_row13_col1\" class=\"data row13 col1\" >356.5853</td>\n",
              "      <td id=\"T_32c53_row13_col2\" class=\"data row13 col2\" >64878805.8000</td>\n",
              "      <td id=\"T_32c53_row13_col3\" class=\"data row13 col3\" >7875.3457</td>\n",
              "      <td id=\"T_32c53_row13_col4\" class=\"data row13 col4\" >-0.0002</td>\n",
              "      <td id=\"T_32c53_row13_col5\" class=\"data row13 col5\" >1.8519</td>\n",
              "      <td id=\"T_32c53_row13_col6\" class=\"data row13 col6\" >2556.8843</td>\n",
              "      <td id=\"T_32c53_row13_col7\" class=\"data row13 col7\" >1.2860</td>\n",
              "    </tr>\n",
              "    <tr>\n",
              "      <th id=\"T_32c53_level0_row14\" class=\"row_heading level0 row14\" >gbr</th>\n",
              "      <td id=\"T_32c53_row14_col0\" class=\"data row14 col0\" >Gradient Boosting Regressor</td>\n",
              "      <td id=\"T_32c53_row14_col1\" class=\"data row14 col1\" >366.4185</td>\n",
              "      <td id=\"T_32c53_row14_col2\" class=\"data row14 col2\" >66562604.7656</td>\n",
              "      <td id=\"T_32c53_row14_col3\" class=\"data row14 col3\" >8027.4851</td>\n",
              "      <td id=\"T_32c53_row14_col4\" class=\"data row14 col4\" >-0.0645</td>\n",
              "      <td id=\"T_32c53_row14_col5\" class=\"data row14 col5\" >1.1370</td>\n",
              "      <td id=\"T_32c53_row14_col6\" class=\"data row14 col6\" >583.7885</td>\n",
              "      <td id=\"T_32c53_row14_col7\" class=\"data row14 col7\" >55.7720</td>\n",
              "    </tr>\n",
              "    <tr>\n",
              "      <th id=\"T_32c53_level0_row15\" class=\"row_heading level0 row15\" >rf</th>\n",
              "      <td id=\"T_32c53_row15_col0\" class=\"data row15 col0\" >Random Forest Regressor</td>\n",
              "      <td id=\"T_32c53_row15_col1\" class=\"data row15 col1\" >379.3753</td>\n",
              "      <td id=\"T_32c53_row15_col2\" class=\"data row15 col2\" >67665387.2493</td>\n",
              "      <td id=\"T_32c53_row15_col3\" class=\"data row15 col3\" >8155.0679</td>\n",
              "      <td id=\"T_32c53_row15_col4\" class=\"data row15 col4\" >-0.1328</td>\n",
              "      <td id=\"T_32c53_row15_col5\" class=\"data row15 col5\" >0.6803</td>\n",
              "      <td id=\"T_32c53_row15_col6\" class=\"data row15 col6\" >488.4912</td>\n",
              "      <td id=\"T_32c53_row15_col7\" class=\"data row15 col7\" >214.6560</td>\n",
              "    </tr>\n",
              "    <tr>\n",
              "      <th id=\"T_32c53_level0_row16\" class=\"row_heading level0 row16\" >xgboost</th>\n",
              "      <td id=\"T_32c53_row16_col0\" class=\"data row16 col0\" >Extreme Gradient Boosting</td>\n",
              "      <td id=\"T_32c53_row16_col1\" class=\"data row16 col1\" >437.8166</td>\n",
              "      <td id=\"T_32c53_row16_col2\" class=\"data row16 col2\" >78188596.0000</td>\n",
              "      <td id=\"T_32c53_row16_col3\" class=\"data row16 col3\" >8720.8282</td>\n",
              "      <td id=\"T_32c53_row16_col4\" class=\"data row16 col4\" >-0.3014</td>\n",
              "      <td id=\"T_32c53_row16_col5\" class=\"data row16 col5\" >1.0521</td>\n",
              "      <td id=\"T_32c53_row16_col6\" class=\"data row16 col6\" >1136.4966</td>\n",
              "      <td id=\"T_32c53_row16_col7\" class=\"data row16 col7\" >36.9150</td>\n",
              "    </tr>\n",
              "    <tr>\n",
              "      <th id=\"T_32c53_level0_row17\" class=\"row_heading level0 row17\" >dt</th>\n",
              "      <td id=\"T_32c53_row17_col0\" class=\"data row17 col0\" >Decision Tree Regressor</td>\n",
              "      <td id=\"T_32c53_row17_col1\" class=\"data row17 col1\" >409.8148</td>\n",
              "      <td id=\"T_32c53_row17_col2\" class=\"data row17 col2\" >125340467.8719</td>\n",
              "      <td id=\"T_32c53_row17_col3\" class=\"data row17 col3\" >11130.6995</td>\n",
              "      <td id=\"T_32c53_row17_col4\" class=\"data row17 col4\" >-1.2541</td>\n",
              "      <td id=\"T_32c53_row17_col5\" class=\"data row17 col5\" >0.5387</td>\n",
              "      <td id=\"T_32c53_row17_col6\" class=\"data row17 col6\" >143.9421</td>\n",
              "      <td id=\"T_32c53_row17_col7\" class=\"data row17 col7\" >4.2590</td>\n",
              "    </tr>\n",
              "    <tr>\n",
              "      <th id=\"T_32c53_level0_row18\" class=\"row_heading level0 row18\" >ada</th>\n",
              "      <td id=\"T_32c53_row18_col0\" class=\"data row18 col0\" >AdaBoost Regressor</td>\n",
              "      <td id=\"T_32c53_row18_col1\" class=\"data row18 col1\" >7102.6356</td>\n",
              "      <td id=\"T_32c53_row18_col2\" class=\"data row18 col2\" >272483150.3349</td>\n",
              "      <td id=\"T_32c53_row18_col3\" class=\"data row18 col3\" >15527.8052</td>\n",
              "      <td id=\"T_32c53_row18_col4\" class=\"data row18 col4\" >-3.5641</td>\n",
              "      <td id=\"T_32c53_row18_col5\" class=\"data row18 col5\" >3.6985</td>\n",
              "      <td id=\"T_32c53_row18_col6\" class=\"data row18 col6\" >63826.5164</td>\n",
              "      <td id=\"T_32c53_row18_col7\" class=\"data row18 col7\" >35.5190</td>\n",
              "    </tr>\n",
              "  </tbody>\n",
              "</table>\n"
            ]
          },
          "metadata": {}
        },
        {
          "output_type": "display_data",
          "data": {
            "text/plain": [
              "Processing:   0%|          | 0/81 [00:00<?, ?it/s]"
            ],
            "application/vnd.jupyter.widget-view+json": {
              "version_major": 2,
              "version_minor": 0,
              "model_id": "8605c7e9400f45f29e1abee549b71a69"
            }
          },
          "metadata": {
            "application/vnd.jupyter.widget-view+json": {
              "colab": {
                "custom_widget_manager": {
                  "url": "https://ssl.gstatic.com/colaboratory-static/widgets/colab-cdn-widget-manager/b3e629b1971e1542/manager.min.js"
                }
              }
            }
          }
        },
        {
          "output_type": "display_data",
          "data": {
            "text/plain": [
              "<IPython.core.display.HTML object>"
            ],
            "text/html": []
          },
          "metadata": {}
        }
      ]
    },
    {
      "cell_type": "code",
      "source": [
        "plot_model(best_model, plot = 'learning',save=True)"
      ],
      "metadata": {
        "colab": {
          "base_uri": "https://localhost:8080/",
          "height": 35
        },
        "id": "fqsA1zCJbob2",
        "outputId": "7fb11745-fb80-48df-8157-d9deb59eec08"
      },
      "execution_count": 152,
      "outputs": [
        {
          "output_type": "display_data",
          "data": {
            "text/plain": [
              "<IPython.core.display.HTML object>"
            ],
            "text/html": []
          },
          "metadata": {}
        },
        {
          "output_type": "execute_result",
          "data": {
            "text/plain": [
              "'Learning Curve.png'"
            ],
            "application/vnd.google.colaboratory.intrinsic+json": {
              "type": "string"
            }
          },
          "metadata": {},
          "execution_count": 152
        }
      ]
    },
    {
      "cell_type": "code",
      "source": [
        "plot_model(best_model, plot = 'feature',save=True)"
      ],
      "metadata": {
        "colab": {
          "base_uri": "https://localhost:8080/",
          "height": 35
        },
        "id": "q8TcWk8Xb1Sn",
        "outputId": "80ee10f4-6456-4fdd-8f6b-fa3291ba57aa"
      },
      "execution_count": 153,
      "outputs": [
        {
          "output_type": "display_data",
          "data": {
            "text/plain": [
              "<IPython.core.display.HTML object>"
            ],
            "text/html": []
          },
          "metadata": {}
        },
        {
          "output_type": "execute_result",
          "data": {
            "text/plain": [
              "'Feature Importance.png'"
            ],
            "application/vnd.google.colaboratory.intrinsic+json": {
              "type": "string"
            }
          },
          "metadata": {},
          "execution_count": 153
        }
      ]
    },
    {
      "cell_type": "code",
      "source": [
        "mdl_lightgbm = create_model('lightgbm')"
      ],
      "metadata": {
        "colab": {
          "base_uri": "https://localhost:8080/",
          "height": 457,
          "referenced_widgets": [
            "936dcd88f3fc4c7b93e9460a71109f7e",
            "29ceaf343f7c4cde899552dfdfff0e3b",
            "2cfd615807ba4fc0b18eafbb2607fae2",
            "72214634fa4f4da5bb9cc46103c753f4",
            "e45591e325af4de19462957bc49140f5",
            "0f3f0f2b5bdc42fca0f4002c9668e156",
            "9212f709d6d3471c99ded0773d551c9f",
            "4ec480454c5149d98ccbb4e0106e3af7",
            "b02b83d011f341be909954bade9592e7",
            "2a4e97083e4849749c6be69bc5d334e5",
            "b7e41b2489dd49dc96c0356c58a61baf"
          ]
        },
        "id": "25BlPY_McETR",
        "outputId": "450e4692-ac6a-472d-8482-c7420c841e88"
      },
      "execution_count": 155,
      "outputs": [
        {
          "output_type": "display_data",
          "data": {
            "text/plain": [
              "<IPython.core.display.HTML object>"
            ],
            "text/html": []
          },
          "metadata": {}
        },
        {
          "output_type": "display_data",
          "data": {
            "text/plain": [
              "<pandas.io.formats.style.Styler at 0x7f02b06c3cd0>"
            ],
            "text/html": [
              "<style type=\"text/css\">\n",
              "#T_ce82a_row10_col0, #T_ce82a_row10_col1, #T_ce82a_row10_col2, #T_ce82a_row10_col3, #T_ce82a_row10_col4, #T_ce82a_row10_col5 {\n",
              "  background: yellow;\n",
              "}\n",
              "</style>\n",
              "<table id=\"T_ce82a\" class=\"dataframe\">\n",
              "  <thead>\n",
              "    <tr>\n",
              "      <th class=\"blank level0\" >&nbsp;</th>\n",
              "      <th id=\"T_ce82a_level0_col0\" class=\"col_heading level0 col0\" >MAE</th>\n",
              "      <th id=\"T_ce82a_level0_col1\" class=\"col_heading level0 col1\" >MSE</th>\n",
              "      <th id=\"T_ce82a_level0_col2\" class=\"col_heading level0 col2\" >RMSE</th>\n",
              "      <th id=\"T_ce82a_level0_col3\" class=\"col_heading level0 col3\" >R2</th>\n",
              "      <th id=\"T_ce82a_level0_col4\" class=\"col_heading level0 col4\" >RMSLE</th>\n",
              "      <th id=\"T_ce82a_level0_col5\" class=\"col_heading level0 col5\" >MAPE</th>\n",
              "    </tr>\n",
              "    <tr>\n",
              "      <th class=\"index_name level0\" >Fold</th>\n",
              "      <th class=\"blank col0\" >&nbsp;</th>\n",
              "      <th class=\"blank col1\" >&nbsp;</th>\n",
              "      <th class=\"blank col2\" >&nbsp;</th>\n",
              "      <th class=\"blank col3\" >&nbsp;</th>\n",
              "      <th class=\"blank col4\" >&nbsp;</th>\n",
              "      <th class=\"blank col5\" >&nbsp;</th>\n",
              "    </tr>\n",
              "  </thead>\n",
              "  <tbody>\n",
              "    <tr>\n",
              "      <th id=\"T_ce82a_level0_row0\" class=\"row_heading level0 row0\" >0</th>\n",
              "      <td id=\"T_ce82a_row0_col0\" class=\"data row0 col0\" >317.5015</td>\n",
              "      <td id=\"T_ce82a_row0_col1\" class=\"data row0 col1\" >38192103.1966</td>\n",
              "      <td id=\"T_ce82a_row0_col2\" class=\"data row0 col2\" >6179.9760</td>\n",
              "      <td id=\"T_ce82a_row0_col3\" class=\"data row0 col3\" >-0.0828</td>\n",
              "      <td id=\"T_ce82a_row0_col4\" class=\"data row0 col4\" >1.0620</td>\n",
              "      <td id=\"T_ce82a_row0_col5\" class=\"data row0 col5\" >346.8428</td>\n",
              "    </tr>\n",
              "    <tr>\n",
              "      <th id=\"T_ce82a_level0_row1\" class=\"row_heading level0 row1\" >1</th>\n",
              "      <td id=\"T_ce82a_row1_col0\" class=\"data row1 col0\" >317.1242</td>\n",
              "      <td id=\"T_ce82a_row1_col1\" class=\"data row1 col1\" >44500907.7303</td>\n",
              "      <td id=\"T_ce82a_row1_col2\" class=\"data row1 col2\" >6670.9001</td>\n",
              "      <td id=\"T_ce82a_row1_col3\" class=\"data row1 col3\" >0.0864</td>\n",
              "      <td id=\"T_ce82a_row1_col4\" class=\"data row1 col4\" >1.0942</td>\n",
              "      <td id=\"T_ce82a_row1_col5\" class=\"data row1 col5\" >640.7462</td>\n",
              "    </tr>\n",
              "    <tr>\n",
              "      <th id=\"T_ce82a_level0_row2\" class=\"row_heading level0 row2\" >2</th>\n",
              "      <td id=\"T_ce82a_row2_col0\" class=\"data row2 col0\" >377.2646</td>\n",
              "      <td id=\"T_ce82a_row2_col1\" class=\"data row2 col1\" >73056002.1656</td>\n",
              "      <td id=\"T_ce82a_row2_col2\" class=\"data row2 col2\" >8547.2804</td>\n",
              "      <td id=\"T_ce82a_row2_col3\" class=\"data row2 col3\" >0.0695</td>\n",
              "      <td id=\"T_ce82a_row2_col4\" class=\"data row2 col4\" >1.0543</td>\n",
              "      <td id=\"T_ce82a_row2_col5\" class=\"data row2 col5\" >927.2195</td>\n",
              "    </tr>\n",
              "    <tr>\n",
              "      <th id=\"T_ce82a_level0_row3\" class=\"row_heading level0 row3\" >3</th>\n",
              "      <td id=\"T_ce82a_row3_col0\" class=\"data row3 col0\" >408.2537</td>\n",
              "      <td id=\"T_ce82a_row3_col1\" class=\"data row3 col1\" >75916036.9445</td>\n",
              "      <td id=\"T_ce82a_row3_col2\" class=\"data row3 col2\" >8712.9809</td>\n",
              "      <td id=\"T_ce82a_row3_col3\" class=\"data row3 col3\" >0.2192</td>\n",
              "      <td id=\"T_ce82a_row3_col4\" class=\"data row3 col4\" >1.0634</td>\n",
              "      <td id=\"T_ce82a_row3_col5\" class=\"data row3 col5\" >308.8147</td>\n",
              "    </tr>\n",
              "    <tr>\n",
              "      <th id=\"T_ce82a_level0_row4\" class=\"row_heading level0 row4\" >4</th>\n",
              "      <td id=\"T_ce82a_row4_col0\" class=\"data row4 col0\" >337.0533</td>\n",
              "      <td id=\"T_ce82a_row4_col1\" class=\"data row4 col1\" >55414143.3903</td>\n",
              "      <td id=\"T_ce82a_row4_col2\" class=\"data row4 col2\" >7444.0677</td>\n",
              "      <td id=\"T_ce82a_row4_col3\" class=\"data row4 col3\" >0.0675</td>\n",
              "      <td id=\"T_ce82a_row4_col4\" class=\"data row4 col4\" >1.0568</td>\n",
              "      <td id=\"T_ce82a_row4_col5\" class=\"data row4 col5\" >294.2953</td>\n",
              "    </tr>\n",
              "    <tr>\n",
              "      <th id=\"T_ce82a_level0_row5\" class=\"row_heading level0 row5\" >5</th>\n",
              "      <td id=\"T_ce82a_row5_col0\" class=\"data row5 col0\" >470.3426</td>\n",
              "      <td id=\"T_ce82a_row5_col1\" class=\"data row5 col1\" >116838899.2278</td>\n",
              "      <td id=\"T_ce82a_row5_col2\" class=\"data row5 col2\" >10809.2044</td>\n",
              "      <td id=\"T_ce82a_row5_col3\" class=\"data row5 col3\" >0.0855</td>\n",
              "      <td id=\"T_ce82a_row5_col4\" class=\"data row5 col4\" >1.0928</td>\n",
              "      <td id=\"T_ce82a_row5_col5\" class=\"data row5 col5\" >311.1629</td>\n",
              "    </tr>\n",
              "    <tr>\n",
              "      <th id=\"T_ce82a_level0_row6\" class=\"row_heading level0 row6\" >6</th>\n",
              "      <td id=\"T_ce82a_row6_col0\" class=\"data row6 col0\" >342.9951</td>\n",
              "      <td id=\"T_ce82a_row6_col1\" class=\"data row6 col1\" >66886884.4506</td>\n",
              "      <td id=\"T_ce82a_row6_col2\" class=\"data row6 col2\" >8178.4402</td>\n",
              "      <td id=\"T_ce82a_row6_col3\" class=\"data row6 col3\" >0.0388</td>\n",
              "      <td id=\"T_ce82a_row6_col4\" class=\"data row6 col4\" >1.0452</td>\n",
              "      <td id=\"T_ce82a_row6_col5\" class=\"data row6 col5\" >611.9543</td>\n",
              "    </tr>\n",
              "    <tr>\n",
              "      <th id=\"T_ce82a_level0_row7\" class=\"row_heading level0 row7\" >7</th>\n",
              "      <td id=\"T_ce82a_row7_col0\" class=\"data row7 col0\" >356.9357</td>\n",
              "      <td id=\"T_ce82a_row7_col1\" class=\"data row7 col1\" >48995238.2478</td>\n",
              "      <td id=\"T_ce82a_row7_col2\" class=\"data row7 col2\" >6999.6599</td>\n",
              "      <td id=\"T_ce82a_row7_col3\" class=\"data row7 col3\" >0.0959</td>\n",
              "      <td id=\"T_ce82a_row7_col4\" class=\"data row7 col4\" >1.0811</td>\n",
              "      <td id=\"T_ce82a_row7_col5\" class=\"data row7 col5\" >381.2180</td>\n",
              "    </tr>\n",
              "    <tr>\n",
              "      <th id=\"T_ce82a_level0_row8\" class=\"row_heading level0 row8\" >8</th>\n",
              "      <td id=\"T_ce82a_row8_col0\" class=\"data row8 col0\" >373.0106</td>\n",
              "      <td id=\"T_ce82a_row8_col1\" class=\"data row8 col1\" >45226243.7781</td>\n",
              "      <td id=\"T_ce82a_row8_col2\" class=\"data row8 col2\" >6725.0460</td>\n",
              "      <td id=\"T_ce82a_row8_col3\" class=\"data row8 col3\" >0.0682</td>\n",
              "      <td id=\"T_ce82a_row8_col4\" class=\"data row8 col4\" >1.0724</td>\n",
              "      <td id=\"T_ce82a_row8_col5\" class=\"data row8 col5\" >248.2099</td>\n",
              "    </tr>\n",
              "    <tr>\n",
              "      <th id=\"T_ce82a_level0_row9\" class=\"row_heading level0 row9\" >9</th>\n",
              "      <td id=\"T_ce82a_row9_col0\" class=\"data row9 col0\" >283.7620</td>\n",
              "      <td id=\"T_ce82a_row9_col1\" class=\"data row9 col1\" >28327634.0964</td>\n",
              "      <td id=\"T_ce82a_row9_col2\" class=\"data row9 col2\" >5322.3711</td>\n",
              "      <td id=\"T_ce82a_row9_col3\" class=\"data row9 col3\" >0.0368</td>\n",
              "      <td id=\"T_ce82a_row9_col4\" class=\"data row9 col4\" >1.0760</td>\n",
              "      <td id=\"T_ce82a_row9_col5\" class=\"data row9 col5\" >369.2943</td>\n",
              "    </tr>\n",
              "    <tr>\n",
              "      <th id=\"T_ce82a_level0_row10\" class=\"row_heading level0 row10\" >Mean</th>\n",
              "      <td id=\"T_ce82a_row10_col0\" class=\"data row10 col0\" >358.4243</td>\n",
              "      <td id=\"T_ce82a_row10_col1\" class=\"data row10 col1\" >59335409.3228</td>\n",
              "      <td id=\"T_ce82a_row10_col2\" class=\"data row10 col2\" >7558.9927</td>\n",
              "      <td id=\"T_ce82a_row10_col3\" class=\"data row10 col3\" >0.0685</td>\n",
              "      <td id=\"T_ce82a_row10_col4\" class=\"data row10 col4\" >1.0698</td>\n",
              "      <td id=\"T_ce82a_row10_col5\" class=\"data row10 col5\" >443.9758</td>\n",
              "    </tr>\n",
              "    <tr>\n",
              "      <th id=\"T_ce82a_level0_row11\" class=\"row_heading level0 row11\" >Std</th>\n",
              "      <td id=\"T_ce82a_row11_col0\" class=\"data row11 col0\" >50.2277</td>\n",
              "      <td id=\"T_ce82a_row11_col1\" class=\"data row11 col1\" >24034966.1552</td>\n",
              "      <td id=\"T_ce82a_row11_col2\" class=\"data row11 col2\" >1482.2413</td>\n",
              "      <td id=\"T_ce82a_row11_col3\" class=\"data row11 col3\" >0.0699</td>\n",
              "      <td id=\"T_ce82a_row11_col4\" class=\"data row11 col4\" >0.0155</td>\n",
              "      <td id=\"T_ce82a_row11_col5\" class=\"data row11 col5\" >203.9723</td>\n",
              "    </tr>\n",
              "  </tbody>\n",
              "</table>\n"
            ]
          },
          "metadata": {}
        },
        {
          "output_type": "display_data",
          "data": {
            "text/plain": [
              "Processing:   0%|          | 0/4 [00:00<?, ?it/s]"
            ],
            "application/vnd.jupyter.widget-view+json": {
              "version_major": 2,
              "version_minor": 0,
              "model_id": "936dcd88f3fc4c7b93e9460a71109f7e"
            }
          },
          "metadata": {
            "application/vnd.jupyter.widget-view+json": {
              "colab": {
                "custom_widget_manager": {
                  "url": "https://ssl.gstatic.com/colaboratory-static/widgets/colab-cdn-widget-manager/b3e629b1971e1542/manager.min.js"
                }
              }
            }
          }
        },
        {
          "output_type": "display_data",
          "data": {
            "text/plain": [
              "<IPython.core.display.HTML object>"
            ],
            "text/html": []
          },
          "metadata": {}
        }
      ]
    },
    {
      "cell_type": "code",
      "source": [
        "tuned_lightgbm = tune_model(mdl_lightgbm)"
      ],
      "metadata": {
        "colab": {
          "base_uri": "https://localhost:8080/",
          "height": 493,
          "referenced_widgets": [
            "2679360256954042b4b18d7f2e50168a",
            "c938fcc06bcc4e2ca8fc18563e40d520",
            "5ff02b98186147a29f77216d482b1d18",
            "ccfc514410de43139f6b68908486ef06",
            "5c61430a975842f49a0e370e2b4399be",
            "e95a1e1194b642b998ccaae9fe75ec7f",
            "399dee9b604a45ba952e00abfcbec893",
            "cd8ebc12cfd34e399db53cc2d0d2a609",
            "d89e2df924bf4816bcb5a9ee76377b7f",
            "e2b9d25cceec4e63a9d38a7c308aa0be",
            "ce47e55c7a71461b93b7f31d139871ce"
          ]
        },
        "id": "mOgnF3VQcJ5b",
        "outputId": "cd727eb1-ec68-4b9b-996a-3ca8885aae5d"
      },
      "execution_count": 156,
      "outputs": [
        {
          "output_type": "display_data",
          "data": {
            "text/plain": [
              "<IPython.core.display.HTML object>"
            ],
            "text/html": []
          },
          "metadata": {}
        },
        {
          "output_type": "display_data",
          "data": {
            "text/plain": [
              "<pandas.io.formats.style.Styler at 0x7f02a6351000>"
            ],
            "text/html": [
              "<style type=\"text/css\">\n",
              "#T_e6f57_row10_col0, #T_e6f57_row10_col1, #T_e6f57_row10_col2, #T_e6f57_row10_col3, #T_e6f57_row10_col4, #T_e6f57_row10_col5 {\n",
              "  background: yellow;\n",
              "}\n",
              "</style>\n",
              "<table id=\"T_e6f57\" class=\"dataframe\">\n",
              "  <thead>\n",
              "    <tr>\n",
              "      <th class=\"blank level0\" >&nbsp;</th>\n",
              "      <th id=\"T_e6f57_level0_col0\" class=\"col_heading level0 col0\" >MAE</th>\n",
              "      <th id=\"T_e6f57_level0_col1\" class=\"col_heading level0 col1\" >MSE</th>\n",
              "      <th id=\"T_e6f57_level0_col2\" class=\"col_heading level0 col2\" >RMSE</th>\n",
              "      <th id=\"T_e6f57_level0_col3\" class=\"col_heading level0 col3\" >R2</th>\n",
              "      <th id=\"T_e6f57_level0_col4\" class=\"col_heading level0 col4\" >RMSLE</th>\n",
              "      <th id=\"T_e6f57_level0_col5\" class=\"col_heading level0 col5\" >MAPE</th>\n",
              "    </tr>\n",
              "    <tr>\n",
              "      <th class=\"index_name level0\" >Fold</th>\n",
              "      <th class=\"blank col0\" >&nbsp;</th>\n",
              "      <th class=\"blank col1\" >&nbsp;</th>\n",
              "      <th class=\"blank col2\" >&nbsp;</th>\n",
              "      <th class=\"blank col3\" >&nbsp;</th>\n",
              "      <th class=\"blank col4\" >&nbsp;</th>\n",
              "      <th class=\"blank col5\" >&nbsp;</th>\n",
              "    </tr>\n",
              "  </thead>\n",
              "  <tbody>\n",
              "    <tr>\n",
              "      <th id=\"T_e6f57_level0_row0\" class=\"row_heading level0 row0\" >0</th>\n",
              "      <td id=\"T_e6f57_row0_col0\" class=\"data row0 col0\" >453.5958</td>\n",
              "      <td id=\"T_e6f57_row0_col1\" class=\"data row0 col1\" >36424429.3512</td>\n",
              "      <td id=\"T_e6f57_row0_col2\" class=\"data row0 col2\" >6035.2655</td>\n",
              "      <td id=\"T_e6f57_row0_col3\" class=\"data row0 col3\" >-0.0326</td>\n",
              "      <td id=\"T_e6f57_row0_col4\" class=\"data row0 col4\" >1.4992</td>\n",
              "      <td id=\"T_e6f57_row0_col5\" class=\"data row0 col5\" >821.2994</td>\n",
              "    </tr>\n",
              "    <tr>\n",
              "      <th id=\"T_e6f57_level0_row1\" class=\"row_heading level0 row1\" >1</th>\n",
              "      <td id=\"T_e6f57_row1_col0\" class=\"data row1 col0\" >451.3157</td>\n",
              "      <td id=\"T_e6f57_row1_col1\" class=\"data row1 col1\" >43202347.0914</td>\n",
              "      <td id=\"T_e6f57_row1_col2\" class=\"data row1 col2\" >6572.8492</td>\n",
              "      <td id=\"T_e6f57_row1_col3\" class=\"data row1 col3\" >0.1131</td>\n",
              "      <td id=\"T_e6f57_row1_col4\" class=\"data row1 col4\" >1.5399</td>\n",
              "      <td id=\"T_e6f57_row1_col5\" class=\"data row1 col5\" >4023.9576</td>\n",
              "    </tr>\n",
              "    <tr>\n",
              "      <th id=\"T_e6f57_level0_row2\" class=\"row_heading level0 row2\" >2</th>\n",
              "      <td id=\"T_e6f57_row2_col0\" class=\"data row2 col0\" >521.0963</td>\n",
              "      <td id=\"T_e6f57_row2_col1\" class=\"data row2 col1\" >75060907.2026</td>\n",
              "      <td id=\"T_e6f57_row2_col2\" class=\"data row2 col2\" >8663.7698</td>\n",
              "      <td id=\"T_e6f57_row2_col3\" class=\"data row2 col3\" >0.0439</td>\n",
              "      <td id=\"T_e6f57_row2_col4\" class=\"data row2 col4\" >1.5413</td>\n",
              "      <td id=\"T_e6f57_row2_col5\" class=\"data row2 col5\" >2048.8553</td>\n",
              "    </tr>\n",
              "    <tr>\n",
              "      <th id=\"T_e6f57_level0_row3\" class=\"row_heading level0 row3\" >3</th>\n",
              "      <td id=\"T_e6f57_row3_col0\" class=\"data row3 col0\" >541.5211</td>\n",
              "      <td id=\"T_e6f57_row3_col1\" class=\"data row3 col1\" >89779255.3401</td>\n",
              "      <td id=\"T_e6f57_row3_col2\" class=\"data row3 col2\" >9475.1916</td>\n",
              "      <td id=\"T_e6f57_row3_col3\" class=\"data row3 col3\" >0.0767</td>\n",
              "      <td id=\"T_e6f57_row3_col4\" class=\"data row3 col4\" >1.5192</td>\n",
              "      <td id=\"T_e6f57_row3_col5\" class=\"data row3 col5\" >819.3325</td>\n",
              "    </tr>\n",
              "    <tr>\n",
              "      <th id=\"T_e6f57_level0_row4\" class=\"row_heading level0 row4\" >4</th>\n",
              "      <td id=\"T_e6f57_row4_col0\" class=\"data row4 col0\" >488.7562</td>\n",
              "      <td id=\"T_e6f57_row4_col1\" class=\"data row4 col1\" >53713957.2648</td>\n",
              "      <td id=\"T_e6f57_row4_col2\" class=\"data row4 col2\" >7328.9806</td>\n",
              "      <td id=\"T_e6f57_row4_col3\" class=\"data row4 col3\" >0.0961</td>\n",
              "      <td id=\"T_e6f57_row4_col4\" class=\"data row4 col4\" >1.5492</td>\n",
              "      <td id=\"T_e6f57_row4_col5\" class=\"data row4 col5\" >786.4566</td>\n",
              "    </tr>\n",
              "    <tr>\n",
              "      <th id=\"T_e6f57_level0_row5\" class=\"row_heading level0 row5\" >5</th>\n",
              "      <td id=\"T_e6f57_row5_col0\" class=\"data row5 col0\" >581.0697</td>\n",
              "      <td id=\"T_e6f57_row5_col1\" class=\"data row5 col1\" >118985862.8012</td>\n",
              "      <td id=\"T_e6f57_row5_col2\" class=\"data row5 col2\" >10908.0641</td>\n",
              "      <td id=\"T_e6f57_row5_col3\" class=\"data row5 col3\" >0.0687</td>\n",
              "      <td id=\"T_e6f57_row5_col4\" class=\"data row5 col4\" >1.5108</td>\n",
              "      <td id=\"T_e6f57_row5_col5\" class=\"data row5 col5\" >919.2679</td>\n",
              "    </tr>\n",
              "    <tr>\n",
              "      <th id=\"T_e6f57_level0_row6\" class=\"row_heading level0 row6\" >6</th>\n",
              "      <td id=\"T_e6f57_row6_col0\" class=\"data row6 col0\" >459.2813</td>\n",
              "      <td id=\"T_e6f57_row6_col1\" class=\"data row6 col1\" >66354959.2067</td>\n",
              "      <td id=\"T_e6f57_row6_col2\" class=\"data row6 col2\" >8145.8553</td>\n",
              "      <td id=\"T_e6f57_row6_col3\" class=\"data row6 col3\" >0.0465</td>\n",
              "      <td id=\"T_e6f57_row6_col4\" class=\"data row6 col4\" >1.4744</td>\n",
              "      <td id=\"T_e6f57_row6_col5\" class=\"data row6 col5\" >724.0785</td>\n",
              "    </tr>\n",
              "    <tr>\n",
              "      <th id=\"T_e6f57_level0_row7\" class=\"row_heading level0 row7\" >7</th>\n",
              "      <td id=\"T_e6f57_row7_col0\" class=\"data row7 col0\" >476.9355</td>\n",
              "      <td id=\"T_e6f57_row7_col1\" class=\"data row7 col1\" >52607300.2018</td>\n",
              "      <td id=\"T_e6f57_row7_col2\" class=\"data row7 col2\" >7253.0890</td>\n",
              "      <td id=\"T_e6f57_row7_col3\" class=\"data row7 col3\" >0.0292</td>\n",
              "      <td id=\"T_e6f57_row7_col4\" class=\"data row7 col4\" >1.4869</td>\n",
              "      <td id=\"T_e6f57_row7_col5\" class=\"data row7 col5\" >850.2155</td>\n",
              "    </tr>\n",
              "    <tr>\n",
              "      <th id=\"T_e6f57_level0_row8\" class=\"row_heading level0 row8\" >8</th>\n",
              "      <td id=\"T_e6f57_row8_col0\" class=\"data row8 col0\" >479.6762</td>\n",
              "      <td id=\"T_e6f57_row8_col1\" class=\"data row8 col1\" >43698012.4878</td>\n",
              "      <td id=\"T_e6f57_row8_col2\" class=\"data row8 col2\" >6610.4472</td>\n",
              "      <td id=\"T_e6f57_row8_col3\" class=\"data row8 col3\" >0.0997</td>\n",
              "      <td id=\"T_e6f57_row8_col4\" class=\"data row8 col4\" >1.4952</td>\n",
              "      <td id=\"T_e6f57_row8_col5\" class=\"data row8 col5\" >762.5290</td>\n",
              "    </tr>\n",
              "    <tr>\n",
              "      <th id=\"T_e6f57_level0_row9\" class=\"row_heading level0 row9\" >9</th>\n",
              "      <td id=\"T_e6f57_row9_col0\" class=\"data row9 col0\" >415.0774</td>\n",
              "      <td id=\"T_e6f57_row9_col1\" class=\"data row9 col1\" >26581549.8642</td>\n",
              "      <td id=\"T_e6f57_row9_col2\" class=\"data row9 col2\" >5155.7298</td>\n",
              "      <td id=\"T_e6f57_row9_col3\" class=\"data row9 col3\" >0.0961</td>\n",
              "      <td id=\"T_e6f57_row9_col4\" class=\"data row9 col4\" >1.5089</td>\n",
              "      <td id=\"T_e6f57_row9_col5\" class=\"data row9 col5\" >761.0057</td>\n",
              "    </tr>\n",
              "    <tr>\n",
              "      <th id=\"T_e6f57_level0_row10\" class=\"row_heading level0 row10\" >Mean</th>\n",
              "      <td id=\"T_e6f57_row10_col0\" class=\"data row10 col0\" >486.8325</td>\n",
              "      <td id=\"T_e6f57_row10_col1\" class=\"data row10 col1\" >60640858.0812</td>\n",
              "      <td id=\"T_e6f57_row10_col2\" class=\"data row10 col2\" >7614.9242</td>\n",
              "      <td id=\"T_e6f57_row10_col3\" class=\"data row10 col3\" >0.0637</td>\n",
              "      <td id=\"T_e6f57_row10_col4\" class=\"data row10 col4\" >1.5125</td>\n",
              "      <td id=\"T_e6f57_row10_col5\" class=\"data row10 col5\" >1251.6998</td>\n",
              "    </tr>\n",
              "    <tr>\n",
              "      <th id=\"T_e6f57_level0_row11\" class=\"row_heading level0 row11\" >Std</th>\n",
              "      <td id=\"T_e6f57_row11_col0\" class=\"data row11 col0\" >46.3382</td>\n",
              "      <td id=\"T_e6f57_row11_col1\" class=\"data row11 col1\" >26351334.1693</td>\n",
              "      <td id=\"T_e6f57_row11_col2\" class=\"data row11 col2\" >1629.0449</td>\n",
              "      <td id=\"T_e6f57_row11_col3\" class=\"data row11 col3\" >0.0415</td>\n",
              "      <td id=\"T_e6f57_row11_col4\" class=\"data row11 col4\" >0.0236</td>\n",
              "      <td id=\"T_e6f57_row11_col5\" class=\"data row11 col5\" >996.9785</td>\n",
              "    </tr>\n",
              "  </tbody>\n",
              "</table>\n"
            ]
          },
          "metadata": {}
        },
        {
          "output_type": "display_data",
          "data": {
            "text/plain": [
              "Processing:   0%|          | 0/7 [00:00<?, ?it/s]"
            ],
            "application/vnd.jupyter.widget-view+json": {
              "version_major": 2,
              "version_minor": 0,
              "model_id": "2679360256954042b4b18d7f2e50168a"
            }
          },
          "metadata": {
            "application/vnd.jupyter.widget-view+json": {
              "colab": {
                "custom_widget_manager": {
                  "url": "https://ssl.gstatic.com/colaboratory-static/widgets/colab-cdn-widget-manager/b3e629b1971e1542/manager.min.js"
                }
              }
            }
          }
        },
        {
          "output_type": "stream",
          "name": "stdout",
          "text": [
            "Fitting 10 folds for each of 10 candidates, totalling 100 fits\n"
          ]
        },
        {
          "output_type": "display_data",
          "data": {
            "text/plain": [
              "<IPython.core.display.HTML object>"
            ],
            "text/html": []
          },
          "metadata": {}
        },
        {
          "output_type": "stream",
          "name": "stdout",
          "text": [
            "Original model was better than the tuned model, hence it will be returned. NOTE: The display metrics are for the tuned model (not the original one).\n"
          ]
        }
      ]
    },
    {
      "cell_type": "code",
      "source": [
        "save_model(tuned_lightgbm, './pickle_lightgbm_pycaret')"
      ],
      "metadata": {
        "colab": {
          "base_uri": "https://localhost:8080/"
        },
        "id": "rKXWXGbIcOAE",
        "outputId": "f58299ca-b43c-48c7-abe2-bee454501fad"
      },
      "execution_count": 157,
      "outputs": [
        {
          "output_type": "stream",
          "name": "stdout",
          "text": [
            "Transformation Pipeline and Model Successfully Saved\n"
          ]
        },
        {
          "output_type": "execute_result",
          "data": {
            "text/plain": [
              "(Pipeline(memory=FastMemory(location=/tmp/joblib),\n",
              "          steps=[('numerical_imputer',\n",
              "                  TransformerWrapper(include=['Area', 'Dia_Plantio',\n",
              "                                              'Mes_Plantio', 'Ano_Plantio'],\n",
              "                                     transformer=SimpleImputer())),\n",
              "                 ('categorical_imputer',\n",
              "                  TransformerWrapper(include=['Especie', 'Categoria', 'Cultivar',\n",
              "                                              'Municipio', 'UF'],\n",
              "                                     transformer=SimpleImputer(strategy='most_frequent'))),\n",
              "                 ('onehot_...\n",
              "                  TransformerWrapper(include=['Especie', 'Cultivar', 'Municipio',\n",
              "                                              'UF'],\n",
              "                                     transformer=TargetEncoder(cols=['Especie',\n",
              "                                                                     'Cultivar',\n",
              "                                                                     'Municipio',\n",
              "                                                                     'UF'],\n",
              "                                                               handle_missing='return_nan'))),\n",
              "                 ('remove_outliers',\n",
              "                  TransformerWrapper(transformer=RemoveOutliers(random_state=123))),\n",
              "                 ('normalize', TransformerWrapper(transformer=StandardScaler())),\n",
              "                 ('trained_model', LGBMRegressor(random_state=123))]),\n",
              " './pickle_lightgbm_pycaret.pkl')"
            ]
          },
          "metadata": {},
          "execution_count": 157
        }
      ]
    }
  ]
}