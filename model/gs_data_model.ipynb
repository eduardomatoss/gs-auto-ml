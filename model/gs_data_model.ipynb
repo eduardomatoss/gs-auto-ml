{
  "nbformat": 4,
  "nbformat_minor": 0,
  "metadata": {
    "colab": {
      "provenance": []
    },
    "kernelspec": {
      "name": "python3",
      "display_name": "Python 3"
    },
    "language_info": {
      "name": "python"
    }
  },
  "cells": [
    {
      "cell_type": "code",
      "execution_count": null,
      "metadata": {
        "id": "NZLt23OXTLpC"
      },
      "outputs": [],
      "source": [
        "!pip install pycaret"
      ]
    },
    {
      "cell_type": "code",
      "source": [
        "# Download dataset\n",
        "\n",
        "!wget \"https://dados.agricultura.gov.br/dataset/c7784a6e-f0ec-4196-a1ce-1d2d4784a58e/resource/6ab20c11-73a0-4ab0-8e13-2420d48dd6f5/download/sigefcamposproducaodesementes.csv\" -O dataset.csv "
      ],
      "metadata": {
        "colab": {
          "base_uri": "https://localhost:8080/"
        },
        "id": "PcSm6eNJkPBq",
        "outputId": "d655637b-eee4-4b95-b9f3-2e06852809ae"
      },
      "execution_count": null,
      "outputs": [
        {
          "output_type": "stream",
          "name": "stdout",
          "text": [
            "--2023-05-28 19:47:41--  https://dados.agricultura.gov.br/dataset/c7784a6e-f0ec-4196-a1ce-1d2d4784a58e/resource/6ab20c11-73a0-4ab0-8e13-2420d48dd6f5/download/sigefcamposproducaodesementes.csv\n",
            "Resolving dados.agricultura.gov.br (dados.agricultura.gov.br)... 201.57.198.178\n",
            "Connecting to dados.agricultura.gov.br (dados.agricultura.gov.br)|201.57.198.178|:443... connected.\n",
            "HTTP request sent, awaiting response... 200 OK\n",
            "Length: 46659404 (44M) [text/csv]\n",
            "Saving to: ‘dataset.csv’\n",
            "\n",
            "dataset.csv         100%[===================>]  44.50M  1020KB/s    in 47s     \n",
            "\n",
            "2023-05-28 19:48:28 (980 KB/s) - ‘dataset.csv’ saved [46659404/46659404]\n",
            "\n"
          ]
        }
      ]
    },
    {
      "cell_type": "code",
      "source": [
        "import pandas as pd"
      ],
      "metadata": {
        "id": "5-Q_CWl1kkTy"
      },
      "execution_count": null,
      "outputs": []
    },
    {
      "cell_type": "code",
      "source": [
        "df = pd.read_csv(\"/content/dataset.csv\", sep=';')\n",
        "df.head()"
      ],
      "metadata": {
        "colab": {
          "base_uri": "https://localhost:8080/",
          "height": 206
        },
        "id": "9nRs62_vkhPi",
        "outputId": "fe77952f-be75-479e-c8f1-10f8bf75cd72"
      },
      "execution_count": null,
      "outputs": [
        {
          "output_type": "execute_result",
          "data": {
            "text/plain": [
              "       Safra      Especie Categoria      Cultivar  Municipio  UF      Status  \\\n",
              "0  2013/2013  Zea mays L.        S1      BRS 2022      Cedro  PE  Homologado   \n",
              "1  2013/2013  Zea mays L.        S1      BRS 2022      Cedro  PE  Homologado   \n",
              "2  2013/2013  Zea mays L.        S1      BRS 2022      Cedro  PE  Homologado   \n",
              "3  2013/2013  Zea mays L.        S2  BRS Gorutuba  Petrolina  PE  Homologado   \n",
              "4  2013/2013  Zea mays L.        S2  BRS Gorutuba  Petrolina  PE  Homologado   \n",
              "\n",
              "  Data do Plantio Data de Colheita  Area  Producao bruta  Producao estimada  \n",
              "0      01/01/2013              NaN   9.5             NaN              38.00  \n",
              "1      05/01/2013              NaN   6.0             NaN              24.00  \n",
              "2      10/01/2013              NaN   9.5             NaN              38.00  \n",
              "3      03/02/2013              NaN   4.5             NaN              15.75  \n",
              "4      27/01/2013              NaN   1.6             NaN               5.60  "
            ],
            "text/html": [
              "\n",
              "  <div id=\"df-1e30f0f8-db6e-423c-b57d-d723a0e0e661\">\n",
              "    <div class=\"colab-df-container\">\n",
              "      <div>\n",
              "<style scoped>\n",
              "    .dataframe tbody tr th:only-of-type {\n",
              "        vertical-align: middle;\n",
              "    }\n",
              "\n",
              "    .dataframe tbody tr th {\n",
              "        vertical-align: top;\n",
              "    }\n",
              "\n",
              "    .dataframe thead th {\n",
              "        text-align: right;\n",
              "    }\n",
              "</style>\n",
              "<table border=\"1\" class=\"dataframe\">\n",
              "  <thead>\n",
              "    <tr style=\"text-align: right;\">\n",
              "      <th></th>\n",
              "      <th>Safra</th>\n",
              "      <th>Especie</th>\n",
              "      <th>Categoria</th>\n",
              "      <th>Cultivar</th>\n",
              "      <th>Municipio</th>\n",
              "      <th>UF</th>\n",
              "      <th>Status</th>\n",
              "      <th>Data do Plantio</th>\n",
              "      <th>Data de Colheita</th>\n",
              "      <th>Area</th>\n",
              "      <th>Producao bruta</th>\n",
              "      <th>Producao estimada</th>\n",
              "    </tr>\n",
              "  </thead>\n",
              "  <tbody>\n",
              "    <tr>\n",
              "      <th>0</th>\n",
              "      <td>2013/2013</td>\n",
              "      <td>Zea mays L.</td>\n",
              "      <td>S1</td>\n",
              "      <td>BRS 2022</td>\n",
              "      <td>Cedro</td>\n",
              "      <td>PE</td>\n",
              "      <td>Homologado</td>\n",
              "      <td>01/01/2013</td>\n",
              "      <td>NaN</td>\n",
              "      <td>9.5</td>\n",
              "      <td>NaN</td>\n",
              "      <td>38.00</td>\n",
              "    </tr>\n",
              "    <tr>\n",
              "      <th>1</th>\n",
              "      <td>2013/2013</td>\n",
              "      <td>Zea mays L.</td>\n",
              "      <td>S1</td>\n",
              "      <td>BRS 2022</td>\n",
              "      <td>Cedro</td>\n",
              "      <td>PE</td>\n",
              "      <td>Homologado</td>\n",
              "      <td>05/01/2013</td>\n",
              "      <td>NaN</td>\n",
              "      <td>6.0</td>\n",
              "      <td>NaN</td>\n",
              "      <td>24.00</td>\n",
              "    </tr>\n",
              "    <tr>\n",
              "      <th>2</th>\n",
              "      <td>2013/2013</td>\n",
              "      <td>Zea mays L.</td>\n",
              "      <td>S1</td>\n",
              "      <td>BRS 2022</td>\n",
              "      <td>Cedro</td>\n",
              "      <td>PE</td>\n",
              "      <td>Homologado</td>\n",
              "      <td>10/01/2013</td>\n",
              "      <td>NaN</td>\n",
              "      <td>9.5</td>\n",
              "      <td>NaN</td>\n",
              "      <td>38.00</td>\n",
              "    </tr>\n",
              "    <tr>\n",
              "      <th>3</th>\n",
              "      <td>2013/2013</td>\n",
              "      <td>Zea mays L.</td>\n",
              "      <td>S2</td>\n",
              "      <td>BRS Gorutuba</td>\n",
              "      <td>Petrolina</td>\n",
              "      <td>PE</td>\n",
              "      <td>Homologado</td>\n",
              "      <td>03/02/2013</td>\n",
              "      <td>NaN</td>\n",
              "      <td>4.5</td>\n",
              "      <td>NaN</td>\n",
              "      <td>15.75</td>\n",
              "    </tr>\n",
              "    <tr>\n",
              "      <th>4</th>\n",
              "      <td>2013/2013</td>\n",
              "      <td>Zea mays L.</td>\n",
              "      <td>S2</td>\n",
              "      <td>BRS Gorutuba</td>\n",
              "      <td>Petrolina</td>\n",
              "      <td>PE</td>\n",
              "      <td>Homologado</td>\n",
              "      <td>27/01/2013</td>\n",
              "      <td>NaN</td>\n",
              "      <td>1.6</td>\n",
              "      <td>NaN</td>\n",
              "      <td>5.60</td>\n",
              "    </tr>\n",
              "  </tbody>\n",
              "</table>\n",
              "</div>\n",
              "      <button class=\"colab-df-convert\" onclick=\"convertToInteractive('df-1e30f0f8-db6e-423c-b57d-d723a0e0e661')\"\n",
              "              title=\"Convert this dataframe to an interactive table.\"\n",
              "              style=\"display:none;\">\n",
              "        \n",
              "  <svg xmlns=\"http://www.w3.org/2000/svg\" height=\"24px\"viewBox=\"0 0 24 24\"\n",
              "       width=\"24px\">\n",
              "    <path d=\"M0 0h24v24H0V0z\" fill=\"none\"/>\n",
              "    <path d=\"M18.56 5.44l.94 2.06.94-2.06 2.06-.94-2.06-.94-.94-2.06-.94 2.06-2.06.94zm-11 1L8.5 8.5l.94-2.06 2.06-.94-2.06-.94L8.5 2.5l-.94 2.06-2.06.94zm10 10l.94 2.06.94-2.06 2.06-.94-2.06-.94-.94-2.06-.94 2.06-2.06.94z\"/><path d=\"M17.41 7.96l-1.37-1.37c-.4-.4-.92-.59-1.43-.59-.52 0-1.04.2-1.43.59L10.3 9.45l-7.72 7.72c-.78.78-.78 2.05 0 2.83L4 21.41c.39.39.9.59 1.41.59.51 0 1.02-.2 1.41-.59l7.78-7.78 2.81-2.81c.8-.78.8-2.07 0-2.86zM5.41 20L4 18.59l7.72-7.72 1.47 1.35L5.41 20z\"/>\n",
              "  </svg>\n",
              "      </button>\n",
              "      \n",
              "  <style>\n",
              "    .colab-df-container {\n",
              "      display:flex;\n",
              "      flex-wrap:wrap;\n",
              "      gap: 12px;\n",
              "    }\n",
              "\n",
              "    .colab-df-convert {\n",
              "      background-color: #E8F0FE;\n",
              "      border: none;\n",
              "      border-radius: 50%;\n",
              "      cursor: pointer;\n",
              "      display: none;\n",
              "      fill: #1967D2;\n",
              "      height: 32px;\n",
              "      padding: 0 0 0 0;\n",
              "      width: 32px;\n",
              "    }\n",
              "\n",
              "    .colab-df-convert:hover {\n",
              "      background-color: #E2EBFA;\n",
              "      box-shadow: 0px 1px 2px rgba(60, 64, 67, 0.3), 0px 1px 3px 1px rgba(60, 64, 67, 0.15);\n",
              "      fill: #174EA6;\n",
              "    }\n",
              "\n",
              "    [theme=dark] .colab-df-convert {\n",
              "      background-color: #3B4455;\n",
              "      fill: #D2E3FC;\n",
              "    }\n",
              "\n",
              "    [theme=dark] .colab-df-convert:hover {\n",
              "      background-color: #434B5C;\n",
              "      box-shadow: 0px 1px 3px 1px rgba(0, 0, 0, 0.15);\n",
              "      filter: drop-shadow(0px 1px 2px rgba(0, 0, 0, 0.3));\n",
              "      fill: #FFFFFF;\n",
              "    }\n",
              "  </style>\n",
              "\n",
              "      <script>\n",
              "        const buttonEl =\n",
              "          document.querySelector('#df-1e30f0f8-db6e-423c-b57d-d723a0e0e661 button.colab-df-convert');\n",
              "        buttonEl.style.display =\n",
              "          google.colab.kernel.accessAllowed ? 'block' : 'none';\n",
              "\n",
              "        async function convertToInteractive(key) {\n",
              "          const element = document.querySelector('#df-1e30f0f8-db6e-423c-b57d-d723a0e0e661');\n",
              "          const dataTable =\n",
              "            await google.colab.kernel.invokeFunction('convertToInteractive',\n",
              "                                                     [key], {});\n",
              "          if (!dataTable) return;\n",
              "\n",
              "          const docLinkHtml = 'Like what you see? Visit the ' +\n",
              "            '<a target=\"_blank\" href=https://colab.research.google.com/notebooks/data_table.ipynb>data table notebook</a>'\n",
              "            + ' to learn more about interactive tables.';\n",
              "          element.innerHTML = '';\n",
              "          dataTable['output_type'] = 'display_data';\n",
              "          await google.colab.output.renderOutput(dataTable, element);\n",
              "          const docLink = document.createElement('div');\n",
              "          docLink.innerHTML = docLinkHtml;\n",
              "          element.appendChild(docLink);\n",
              "        }\n",
              "      </script>\n",
              "    </div>\n",
              "  </div>\n",
              "  "
            ]
          },
          "metadata": {},
          "execution_count": 4
        }
      ]
    },
    {
      "cell_type": "code",
      "source": [
        "df.shape"
      ],
      "metadata": {
        "colab": {
          "base_uri": "https://localhost:8080/"
        },
        "id": "d1iwlxuLmHxx",
        "outputId": "e5f3a727-4739-40ed-8e08-bf6c95937a36"
      },
      "execution_count": null,
      "outputs": [
        {
          "output_type": "execute_result",
          "data": {
            "text/plain": [
              "(442174, 12)"
            ]
          },
          "metadata": {},
          "execution_count": 5
        }
      ]
    },
    {
      "cell_type": "code",
      "source": [
        "df.info()"
      ],
      "metadata": {
        "colab": {
          "base_uri": "https://localhost:8080/"
        },
        "id": "8hgglNpylgxi",
        "outputId": "a423355e-c452-47e1-804d-351c77dbd8d5"
      },
      "execution_count": null,
      "outputs": [
        {
          "output_type": "stream",
          "name": "stdout",
          "text": [
            "<class 'pandas.core.frame.DataFrame'>\n",
            "RangeIndex: 442174 entries, 0 to 442173\n",
            "Data columns (total 12 columns):\n",
            " #   Column             Non-Null Count   Dtype  \n",
            "---  ------             --------------   -----  \n",
            " 0   Safra              442174 non-null  object \n",
            " 1   Especie            442174 non-null  object \n",
            " 2   Categoria          442151 non-null  object \n",
            " 3   Cultivar           442174 non-null  object \n",
            " 4   Municipio          442169 non-null  object \n",
            " 5   UF                 442174 non-null  object \n",
            " 6   Status             442174 non-null  object \n",
            " 7   Data do Plantio    442174 non-null  object \n",
            " 8   Data de Colheita   113515 non-null  object \n",
            " 9   Area               442174 non-null  float64\n",
            " 10  Producao bruta     113515 non-null  float64\n",
            " 11  Producao estimada  442174 non-null  float64\n",
            "dtypes: float64(3), object(9)\n",
            "memory usage: 40.5+ MB\n"
          ]
        }
      ]
    },
    {
      "cell_type": "code",
      "source": [
        "df.rename(columns={\n",
        "   \"Data do Plantio\":\"Data_Plantio\",\n",
        "   \"Data de Colheita\":\"Data_Colheita\",\n",
        "   \"Producao bruta\":\"Producao_Bruta\",\n",
        "   \"Producao estimada\":\"Producao_Estimada\"\n",
        "}, inplace=True)"
      ],
      "metadata": {
        "id": "o8Aij6Fsn-cJ"
      },
      "execution_count": null,
      "outputs": []
    },
    {
      "cell_type": "code",
      "source": [
        "df.info()"
      ],
      "metadata": {
        "colab": {
          "base_uri": "https://localhost:8080/"
        },
        "id": "mPIs7ChSoZGp",
        "outputId": "d837973e-d5c5-4b47-ed75-54570752c113"
      },
      "execution_count": null,
      "outputs": [
        {
          "output_type": "stream",
          "name": "stdout",
          "text": [
            "<class 'pandas.core.frame.DataFrame'>\n",
            "RangeIndex: 442174 entries, 0 to 442173\n",
            "Data columns (total 12 columns):\n",
            " #   Column             Non-Null Count   Dtype  \n",
            "---  ------             --------------   -----  \n",
            " 0   Safra              442174 non-null  object \n",
            " 1   Especie            442174 non-null  object \n",
            " 2   Categoria          442151 non-null  object \n",
            " 3   Cultivar           442174 non-null  object \n",
            " 4   Municipio          442169 non-null  object \n",
            " 5   UF                 442174 non-null  object \n",
            " 6   Status             442174 non-null  object \n",
            " 7   Data_Plantio       442174 non-null  object \n",
            " 8   Data_Colheita      113515 non-null  object \n",
            " 9   Area               442174 non-null  float64\n",
            " 10  Producao_Bruta     113515 non-null  float64\n",
            " 11  Producao_Estimada  442174 non-null  float64\n",
            "dtypes: float64(3), object(9)\n",
            "memory usage: 40.5+ MB\n"
          ]
        }
      ]
    },
    {
      "cell_type": "code",
      "source": [
        "df.nunique().sort_values()"
      ],
      "metadata": {
        "colab": {
          "base_uri": "https://localhost:8080/"
        },
        "id": "ZeZpTjhlmJqR",
        "outputId": "2644fa3f-8fab-4f7b-834b-2a3e1481ca75"
      },
      "execution_count": null,
      "outputs": [
        {
          "output_type": "execute_result",
          "data": {
            "text/plain": [
              "Status                   5\n",
              "Categoria                6\n",
              "Safra                   22\n",
              "UF                      26\n",
              "Especie                278\n",
              "Municipio             2133\n",
              "Data_Colheita         4087\n",
              "Data_Plantio          6569\n",
              "Cultivar             10142\n",
              "Area                 14488\n",
              "Producao_Estimada    29000\n",
              "Producao_Bruta       53474\n",
              "dtype: int64"
            ]
          },
          "metadata": {},
          "execution_count": 9
        }
      ]
    },
    {
      "cell_type": "code",
      "source": [
        "df.isna().sum()"
      ],
      "metadata": {
        "colab": {
          "base_uri": "https://localhost:8080/"
        },
        "id": "VHrBehCjmQW5",
        "outputId": "ed5bc27c-ae31-4be4-8d15-c3c2a11f75f1"
      },
      "execution_count": null,
      "outputs": [
        {
          "output_type": "execute_result",
          "data": {
            "text/plain": [
              "Safra                     0\n",
              "Especie                   0\n",
              "Categoria                23\n",
              "Cultivar                  0\n",
              "Municipio                 5\n",
              "UF                        0\n",
              "Status                    0\n",
              "Data_Plantio              0\n",
              "Data_Colheita        328659\n",
              "Area                      0\n",
              "Producao_Bruta       328659\n",
              "Producao_Estimada         0\n",
              "dtype: int64"
            ]
          },
          "metadata": {},
          "execution_count": 10
        }
      ]
    },
    {
      "cell_type": "code",
      "source": [
        "df.dtypes"
      ],
      "metadata": {
        "colab": {
          "base_uri": "https://localhost:8080/"
        },
        "id": "wEIDVH1rnfOh",
        "outputId": "61d63026-aad1-4734-c19f-5719ff6918a5"
      },
      "execution_count": null,
      "outputs": [
        {
          "output_type": "execute_result",
          "data": {
            "text/plain": [
              "Safra                 object\n",
              "Especie               object\n",
              "Categoria             object\n",
              "Cultivar              object\n",
              "Municipio             object\n",
              "UF                    object\n",
              "Status                object\n",
              "Data_Plantio          object\n",
              "Data_Colheita         object\n",
              "Area                 float64\n",
              "Producao_Bruta       float64\n",
              "Producao_Estimada    float64\n",
              "dtype: object"
            ]
          },
          "metadata": {},
          "execution_count": 11
        }
      ]
    }
  ]
}